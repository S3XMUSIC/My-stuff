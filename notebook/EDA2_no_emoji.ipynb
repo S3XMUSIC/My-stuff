{
 "cells": [
  {
   "cell_type": "markdown",
   "id": "8d994aa9",
   "metadata": {},
   "source": [
    "#  EDA АНАЛИЗ ГЛОБАЛЬНЫХ ПРОДАЖ ВИДЕОИГР (1980-2016)\n",
    "\n",
    "##  ЦЕЛИ АНАЛИЗА:\n",
    "1. **Comprehensive Data Quality Assessment** - всесторонняя оценка качества данных по 10 метрикам\n",
    "2. **Market Dynamics Analysis** - исследование эволюции игровой индустрии за 36 лет\n",
    "3. **Regional & Genre Preferences** - выявление географических и жанровых трендов\n",
    "4. **Score Impact Evaluation** - анализ влияния оценок на коммерческий успех\n",
    "5. **Platform Performance** - сравнение эффективности игровых платформ\n",
    "\n",
    "---\n",
    "\n",
    "##  DATA QUALITY ASSESSMENT\n",
    "\n",
    "### Completeness & Data Types Conversion\n"
   ]
  },
  {
   "cell_type": "code",
   "execution_count": 1,
   "id": "fe55b4b0",
   "metadata": {},
   "outputs": [
    {
     "name": "stderr",
     "output_type": "stream",
     "text": [
      "C:\\Users\\cdolg\\miniconda3\\envs\\my_env\\Lib\\site-packages\\requests\\__init__.py:86: RequestsDependencyWarning: Unable to find acceptable character detection dependency (chardet or charset_normalizer).\n",
      "  warnings.warn(\n"
     ]
    },
    {
     "name": "stdout",
     "output_type": "stream",
     "text": [
      " COMPREHENSIVE DATA QUALITY ASSESSMENT\n",
      "============================================================\n",
      "Размер датасета: 16719 строк × 16 столбцов\n",
      "\n",
      "Первые 5 строк датасета:\n"
     ]
    },
    {
     "data": {
      "text/html": [
       "<div>\n",
       "<style scoped>\n",
       "    .dataframe tbody tr th:only-of-type {\n",
       "        vertical-align: middle;\n",
       "    }\n",
       "\n",
       "    .dataframe tbody tr th {\n",
       "        vertical-align: top;\n",
       "    }\n",
       "\n",
       "    .dataframe thead th {\n",
       "        text-align: right;\n",
       "    }\n",
       "</style>\n",
       "<table border=\"1\" class=\"dataframe\">\n",
       "  <thead>\n",
       "    <tr style=\"text-align: right;\">\n",
       "      <th></th>\n",
       "      <th>Name</th>\n",
       "      <th>Platform</th>\n",
       "      <th>Year_of_Release</th>\n",
       "      <th>Genre</th>\n",
       "      <th>Publisher</th>\n",
       "      <th>NA_Sales</th>\n",
       "      <th>EU_Sales</th>\n",
       "      <th>JP_Sales</th>\n",
       "      <th>Other_Sales</th>\n",
       "      <th>Global_Sales</th>\n",
       "      <th>Critic_Score</th>\n",
       "      <th>Critic_Count</th>\n",
       "      <th>User_Score</th>\n",
       "      <th>User_Count</th>\n",
       "      <th>Developer</th>\n",
       "      <th>Rating</th>\n",
       "    </tr>\n",
       "  </thead>\n",
       "  <tbody>\n",
       "    <tr>\n",
       "      <th>0</th>\n",
       "      <td>Wii Sports</td>\n",
       "      <td>Wii</td>\n",
       "      <td>2006.0</td>\n",
       "      <td>Sports</td>\n",
       "      <td>Nintendo</td>\n",
       "      <td>41.36</td>\n",
       "      <td>28.96</td>\n",
       "      <td>3.77</td>\n",
       "      <td>8.45</td>\n",
       "      <td>82.53</td>\n",
       "      <td>76.0</td>\n",
       "      <td>51.0</td>\n",
       "      <td>8</td>\n",
       "      <td>322.0</td>\n",
       "      <td>Nintendo</td>\n",
       "      <td>E</td>\n",
       "    </tr>\n",
       "    <tr>\n",
       "      <th>1</th>\n",
       "      <td>Super Mario Bros.</td>\n",
       "      <td>NES</td>\n",
       "      <td>1985.0</td>\n",
       "      <td>Platform</td>\n",
       "      <td>Nintendo</td>\n",
       "      <td>29.08</td>\n",
       "      <td>3.58</td>\n",
       "      <td>6.81</td>\n",
       "      <td>0.77</td>\n",
       "      <td>40.24</td>\n",
       "      <td>NaN</td>\n",
       "      <td>NaN</td>\n",
       "      <td>NaN</td>\n",
       "      <td>NaN</td>\n",
       "      <td>NaN</td>\n",
       "      <td>NaN</td>\n",
       "    </tr>\n",
       "    <tr>\n",
       "      <th>2</th>\n",
       "      <td>Mario Kart Wii</td>\n",
       "      <td>Wii</td>\n",
       "      <td>2008.0</td>\n",
       "      <td>Racing</td>\n",
       "      <td>Nintendo</td>\n",
       "      <td>15.68</td>\n",
       "      <td>12.76</td>\n",
       "      <td>3.79</td>\n",
       "      <td>3.29</td>\n",
       "      <td>35.52</td>\n",
       "      <td>82.0</td>\n",
       "      <td>73.0</td>\n",
       "      <td>8.3</td>\n",
       "      <td>709.0</td>\n",
       "      <td>Nintendo</td>\n",
       "      <td>E</td>\n",
       "    </tr>\n",
       "    <tr>\n",
       "      <th>3</th>\n",
       "      <td>Wii Sports Resort</td>\n",
       "      <td>Wii</td>\n",
       "      <td>2009.0</td>\n",
       "      <td>Sports</td>\n",
       "      <td>Nintendo</td>\n",
       "      <td>15.61</td>\n",
       "      <td>10.93</td>\n",
       "      <td>3.28</td>\n",
       "      <td>2.95</td>\n",
       "      <td>32.77</td>\n",
       "      <td>80.0</td>\n",
       "      <td>73.0</td>\n",
       "      <td>8</td>\n",
       "      <td>192.0</td>\n",
       "      <td>Nintendo</td>\n",
       "      <td>E</td>\n",
       "    </tr>\n",
       "    <tr>\n",
       "      <th>4</th>\n",
       "      <td>Pokemon Red/Pokemon Blue</td>\n",
       "      <td>GB</td>\n",
       "      <td>1996.0</td>\n",
       "      <td>Role-Playing</td>\n",
       "      <td>Nintendo</td>\n",
       "      <td>11.27</td>\n",
       "      <td>8.89</td>\n",
       "      <td>10.22</td>\n",
       "      <td>1.00</td>\n",
       "      <td>31.37</td>\n",
       "      <td>NaN</td>\n",
       "      <td>NaN</td>\n",
       "      <td>NaN</td>\n",
       "      <td>NaN</td>\n",
       "      <td>NaN</td>\n",
       "      <td>NaN</td>\n",
       "    </tr>\n",
       "  </tbody>\n",
       "</table>\n",
       "</div>"
      ],
      "text/plain": [
       "                       Name Platform  Year_of_Release         Genre Publisher  \\\n",
       "0                Wii Sports      Wii           2006.0        Sports  Nintendo   \n",
       "1         Super Mario Bros.      NES           1985.0      Platform  Nintendo   \n",
       "2            Mario Kart Wii      Wii           2008.0        Racing  Nintendo   \n",
       "3         Wii Sports Resort      Wii           2009.0        Sports  Nintendo   \n",
       "4  Pokemon Red/Pokemon Blue       GB           1996.0  Role-Playing  Nintendo   \n",
       "\n",
       "   NA_Sales  EU_Sales  JP_Sales  Other_Sales  Global_Sales  Critic_Score  \\\n",
       "0     41.36     28.96      3.77         8.45         82.53          76.0   \n",
       "1     29.08      3.58      6.81         0.77         40.24           NaN   \n",
       "2     15.68     12.76      3.79         3.29         35.52          82.0   \n",
       "3     15.61     10.93      3.28         2.95         32.77          80.0   \n",
       "4     11.27      8.89     10.22         1.00         31.37           NaN   \n",
       "\n",
       "   Critic_Count User_Score  User_Count Developer Rating  \n",
       "0          51.0          8       322.0  Nintendo      E  \n",
       "1           NaN        NaN         NaN       NaN    NaN  \n",
       "2          73.0        8.3       709.0  Nintendo      E  \n",
       "3          73.0          8       192.0  Nintendo      E  \n",
       "4           NaN        NaN         NaN       NaN    NaN  "
      ]
     },
     "metadata": {},
     "output_type": "display_data"
    },
    {
     "name": "stdout",
     "output_type": "stream",
     "text": [
      "\n",
      " COMPLETENESS ANALYSIS (≥ 0.98 target):\n",
      " Name: 0.9999\n",
      " Platform: 1.0000\n",
      " Year_of_Release: 0.9839\n",
      " Genre: 0.9999\n",
      " Publisher: 0.9968\n",
      " NA_Sales: 1.0000\n",
      " EU_Sales: 1.0000\n",
      " JP_Sales: 1.0000\n",
      " Other_Sales: 1.0000\n",
      " Global_Sales: 1.0000\n",
      " Critic_Score: 0.4867\n",
      " Critic_Count: 0.4867\n",
      " User_Score: 0.5990\n",
      " User_Count: 0.4540\n",
      " Developer: 0.6039\n",
      " Rating: 0.5951\n",
      "\n",
      " DATA TYPES OVERVIEW:\n",
      "<class 'pandas.core.frame.DataFrame'>\n",
      "RangeIndex: 16719 entries, 0 to 16718\n",
      "Data columns (total 16 columns):\n",
      " #   Column           Non-Null Count  Dtype  \n",
      "---  ------           --------------  -----  \n",
      " 0   Name             16717 non-null  object \n",
      " 1   Platform         16719 non-null  object \n",
      " 2   Year_of_Release  16450 non-null  float64\n",
      " 3   Genre            16717 non-null  object \n",
      " 4   Publisher        16665 non-null  object \n",
      " 5   NA_Sales         16719 non-null  float64\n",
      " 6   EU_Sales         16719 non-null  float64\n",
      " 7   JP_Sales         16719 non-null  float64\n",
      " 8   Other_Sales      16719 non-null  float64\n",
      " 9   Global_Sales     16719 non-null  float64\n",
      " 10  Critic_Score     8137 non-null   float64\n",
      " 11  Critic_Count     8137 non-null   float64\n",
      " 12  User_Score       10015 non-null  object \n",
      " 13  User_Count       7590 non-null   float64\n",
      " 14  Developer        10096 non-null  object \n",
      " 15  Rating           9950 non-null   object \n",
      "dtypes: float64(9), object(7)\n",
      "memory usage: 2.0+ MB\n"
     ]
    }
   ],
   "source": [
    "# \n",
    "# ИМПОРТ БИБЛИОТЕК И НАСТРОЙКИ\n",
    "# \n",
    "import gdown\n",
    "import pandas as pd\n",
    "import numpy as np\n",
    "import matplotlib.pyplot as plt\n",
    "import seaborn as sns\n",
    "from datetime import datetime\n",
    "import warnings\n",
    "warnings.filterwarnings('ignore')\n",
    "\n",
    "import plotly.express as px\n",
    "import plotly.graph_objects as go\n",
    "from plotly.subplots import make_subplots\n",
    "import plotly.io as pio\n",
    "\n",
    "# Настройки визуализации\n",
    "plt.style.use('default')\n",
    "sns.set_palette(\"viridis\")\n",
    "%matplotlib inline\n",
    "\n",
    "# Кастомный стиль для Plotly\n",
    "pio.templates[\"custom_game\"] = go.layout.Template(\n",
    "    layout=go.Layout(\n",
    "        font=dict(family=\"Arial\", size=12),\n",
    "        plot_bgcolor='rgb(245, 245, 245)',\n",
    "        paper_bgcolor='white',\n",
    "        colorway=px.colors.qualitative.Dark2,\n",
    "        title=dict(x=0.5, xanchor='center'),\n",
    "        margin=dict(l=50, r=50, t=50, b=50)\n",
    "    )\n",
    ")\n",
    "pio.templates.default = \"custom_game\"\n",
    "\n",
    "# \n",
    "# ЗАГРУЗКА И ПЕРВИЧНЫЙ ОСМОТР ДАННЫХ\n",
    "# \n",
    "FILE_ID = \"1kk5pYKqE--lqhxEAfqsks3QVpK-LP-Ta\"\n",
    "URL = f\"https://drive.google.com/uc?id={FILE_ID}\"\n",
    "OUTPUT = \"vgsales.csv\"  \n",
    "\n",
    "# Загрузка с подавлением вывода\n",
    "gdown.download(URL, OUTPUT, quiet=True)\n",
    "\n",
    "df = pd.read_csv('vgsales.csv')\n",
    "\n",
    "# Переименование для удобства\n",
    "df.columns = df.columns.str.replace(' ', '_')\n",
    "\n",
    "print(\" COMPREHENSIVE DATA QUALITY ASSESSMENT\")\n",
    "print(\"=\" * 60)\n",
    "\n",
    "# Базовая информация о датасете\n",
    "print(f\"Размер датасета: {df.shape[0]} строк × {df.shape[1]} столбцов\")\n",
    "print(\"\\nПервые 5 строк датасета:\")\n",
    "display(df.head())\n",
    "\n",
    "# Анализ полноты данных (Completeness)\n",
    "print(\"\\n COMPLETENESS ANALYSIS (≥ 0.98 target):\")\n",
    "completeness = (1 - df.isnull().sum() / len(df)).round(4)\n",
    "for col, comp in completeness.items():\n",
    "    status = \"\" if comp >= 0.98 else \"\"\n",
    "    print(f\"{status} {col}: {comp:.4f}\")\n",
    "\n",
    "# Общая информация о типах данных\n",
    "print(\"\\n DATA TYPES OVERVIEW:\")\n",
    "df.info()"
   ]
  },
  {
   "cell_type": "markdown",
   "id": "1f2d6b70",
   "metadata": {},
   "source": [
    "Анализ полноты: Проверяем долю заполненных значений в каждом столбце. Критические поля как Year_of_Release и Name должны иметь полноту близкую к 100%."
   ]
  },
  {
   "cell_type": "markdown",
   "id": "5ed759ac",
   "metadata": {},
   "source": [
    "# Uniqueness & Duplication Analysis"
   ]
  },
  {
   "cell_type": "code",
   "execution_count": 2,
   "id": "d9c16bbe",
   "metadata": {},
   "outputs": [
    {
     "name": "stdout",
     "output_type": "stream",
     "text": [
      "\n",
      " UNIQUENESS ANALYSIS (= 1.0 target):\n",
      " Unique Game Names Ratio: 0.6915\n",
      " Duplication Rate: 0.0000 (≤ 0.01 target)\n",
      " Top 5 most frequent game names:\n",
      "Name\n",
      "Need for Speed: Most Wanted    12\n",
      "FIFA 14                         9\n",
      "Ratatouille                     9\n",
      "Madden NFL 07                   9\n",
      "LEGO Marvel Super Heroes        9\n",
      "dtype: int64\n"
     ]
    }
   ],
   "source": [
    "# \n",
    "# UNIQUENESS AND DUPLICATION ANALYSIS\n",
    "# \n",
    "print(\"\\n UNIQUENESS ANALYSIS (= 1.0 target):\")\n",
    "\n",
    "# Проверка уникальности идентификаторов\n",
    "unique_ratio = df['Name'].nunique() / len(df)\n",
    "print(f\" Unique Game Names Ratio: {unique_ratio:.4f}\")\n",
    "\n",
    "# Поиск потенциальных дубликатов\n",
    "duplicate_count = df.duplicated().sum()\n",
    "duplication_rate = duplicate_count / len(df)\n",
    "print(f\" Duplication Rate: {duplication_rate:.4f} (≤ 0.01 target)\")\n",
    "\n",
    "# Анализ повторяющихся названий с разными метаданными\n",
    "name_duplicates = df.groupby('Name').size().sort_values(ascending=False)\n",
    "print(f\" Top 5 most frequent game names:\")\n",
    "print(name_duplicates.head())"
   ]
  },
  {
   "cell_type": "markdown",
   "id": "96bf7d29",
   "metadata": {},
   "source": [
    "Анализ уникальности: Проверяем отсутствие дубликатов и уникальность идентификаторов. Высокий уровень дублирования названий может указывать на разные издания или платформы."
   ]
  },
  {
   "cell_type": "markdown",
   "id": "17bc8630",
   "metadata": {},
   "source": [
    "# Validity & Data Type Conversion"
   ]
  },
  {
   "cell_type": "code",
   "execution_count": 3,
   "id": "373fd126",
   "metadata": {},
   "outputs": [
    {
     "name": "stdout",
     "output_type": "stream",
     "text": [
      "\n",
      " DATA VALIDITY AND TYPE CONVERSION\n",
      " Year Validity Ratio: 0.9998 (≥ 0.99 target)\n",
      " NA_Sales Validity: 1.0000\n",
      " EU_Sales Validity: 1.0000\n",
      " JP_Sales Validity: 1.0000\n",
      " Other_Sales Validity: 1.0000\n",
      " Global_Sales Validity: 1.0000\n",
      " Final dataset size: 16450 rows\n"
     ]
    }
   ],
   "source": [
    "# \n",
    "# DATA VALIDITY AND TYPE CONVERSION\n",
    "# \n",
    "print(\"\\n DATA VALIDITY AND TYPE CONVERSION\")\n",
    "\n",
    "# Приведение типов данных и валидация\n",
    "df_clean = df.copy()\n",
    "\n",
    "# Валидация года выпуска\n",
    "df_clean = df_clean.dropna(subset=['Year_of_Release'])\n",
    "df_clean['Year_of_Release'] = df_clean['Year_of_Release'].astype(int)\n",
    "valid_years = df_clean['Year_of_Release'].between(1980, 2016)\n",
    "validity_ratio = valid_years.mean()\n",
    "print(f\" Year Validity Ratio: {validity_ratio:.4f} (≥ 0.99 target)\")\n",
    "\n",
    "# Обработка оценок пользователей\n",
    "df_clean['User_Score'] = df_clean['User_Score'].replace('tbd', np.nan)\n",
    "df_clean['User_Score'] = pd.to_numeric(df_clean['User_Score'], errors='coerce')\n",
    "\n",
    "# Валидация числовых полей\n",
    "sales_columns = ['NA_Sales', 'EU_Sales', 'JP_Sales', 'Other_Sales', 'Global_Sales']\n",
    "for col in sales_columns:\n",
    "    valid_sales = (df_clean[col] >= 0) & (df_clean[col] <= 100)  # Реалистичный диапазон\n",
    "    print(f\" {col} Validity: {valid_sales.mean():.4f}\")\n",
    "\n",
    "print(f\" Final dataset size: {df_clean.shape[0]} rows\")"
   ]
  },
  {
   "cell_type": "markdown",
   "id": "2eeca7ff",
   "metadata": {},
   "source": [
    "Валидация данных: Проверяем корректность типов данных, границы значений и бизнес-ограничения. Годы выпуска должны быть в реалистичном диапазоне, продажи - неотрицательными."
   ]
  },
  {
   "cell_type": "markdown",
   "id": "197c5f1a",
   "metadata": {},
   "source": [
    "#  TEMPORAL ANALYSIS & MARKET DYNAMICS\n",
    "Market Evolution Timeline"
   ]
  },
  {
   "cell_type": "code",
   "execution_count": 4,
   "id": "7ee20775",
   "metadata": {},
   "outputs": [
    {
     "name": "stdout",
     "output_type": "stream",
     "text": [
      "\n",
      " TEMPORAL MARKET ANALYSIS (1980-2016)\n"
     ]
    },
    {
     "data": {
      "application/vnd.plotly.v1+json": {
       "config": {
        "plotlyServerURL": "https://plot.ly"
       },
       "data": [
        {
         "line": {
          "color": "#1f77b4",
          "width": 3
         },
         "mode": "lines+markers",
         "name": "Общие Продажи",
         "type": "scatter",
         "x": {
          "bdata": "vAe9B74HvwfAB8EHwgfDB8QHxQfGB8cHyAfJB8oHywfMB80HzgfPB9AH0QfSB9MH1AfVB9YH1wfYB9kH2gfbB9wH3QfeB98H4AfhB+QH",
          "dtype": "i2"
         },
         "xaxis": "x",
         "y": {
          "bdata": "wvUoXI/CJkDD9Shcj+JBQFyPwvUo3DxACtejcD3KMECuR+F6FC5JQLkehetR+EpAKVyPwvWIQkA9CtejcL01QFyPwvUonEdAzczMzMxcUkBSuB6F67FIQD0K16NwHUBAexSuR+EKU0AzMzMzMzNIQOxRuB6Fy1NA16NwPQoHVkDNzMzMzORoQI/C9ShcH2lAMzMzMzMHcEAAAAAAAGhvQMP1KFyPMmlA7FG4HoW3dEBcj8L1KLh4QM3MzMzMXHZAzczMzMwwekApXI/C9aR8QPYoXI/CMYBAKVyPwvXqgkC4HoXrUf6EQNejcD0Kl4RAH4XrUbh0gkBxPQrXo7x/QD0K16NwPXZApHA9CteTdkBcj8L1KLh0QM3MzMzMwHBAMzMzMzNDYEC4HoXrUbiuP4/C9Shcj9I/",
          "dtype": "f8"
         },
         "yaxis": "y"
        },
        {
         "marker": {
          "color": "#ff7f0e"
         },
         "name": "Количество Игр",
         "type": "bar",
         "x": {
          "bdata": "vAe9B74HvwfAB8EHwgfDB8QHxQfGB8cHyAfJB8oHywfMB80HzgfPB9AH0QfSB9MH1AfVB9YH1wfYB9kH2gfbB9wH3QfeB98H4AfhB+QH",
          "dtype": "i2"
         },
         "xaxis": "x2",
         "y": {
          "bdata": "CQAuACQAEQAOAA4AFQAQAA8AEQAQACkAKwA8AHkA2wAHASEBewFSAV4B4gE9AwcD+gKrA+4DrQSTBZIF5wRwBI0CIAJFAl4C9gEDAAEA",
          "dtype": "i2"
         },
         "yaxis": "y2"
        },
        {
         "line": {
          "color": "#2ca02c",
          "width": 3
         },
         "mode": "lines",
         "name": "Активные Платформы",
         "type": "scatter",
         "x": {
          "bdata": "vAe9B74HvwfAB8EHwgfDB8QHxQfGB8cHyAfJB8oHywfMB80HzgfPB9AH0QfSB9MH1AfVB9YH1wfYB9kH2gfbB9wH3QfeB98H4AfhB+QH",
          "dtype": "i2"
         },
         "xaxis": "x3",
         "y": {
          "bdata": "AQEBAgIEAgIEAwQEBgUKCAgGBwgJCggGBwgKCwkHBwkJCwoKCQIB",
          "dtype": "i1"
         },
         "yaxis": "y3"
        },
        {
         "line": {
          "color": "#d62728",
          "width": 3
         },
         "mode": "lines",
         "name": "Средние Продажи/Игру",
         "type": "scatter",
         "x": {
          "bdata": "vAe9B74HvwfAB8EHwgfDB8QHxQfGB8cHyAfJB8oHywfMB80HzgfPB9AH0QfSB9MH1AfVB9YH1wfYB9kH2gfbB9wH3QfeB98H4AfhB+QH",
          "dtype": "i2"
         },
         "xaxis": "x4",
         "y": {
          "bdata": "5fYHGSo79D9oKZ2hK+LoP6cNdNpAp+k/mmc0Ac6a7z+iv5PV8sYMQPjZBcSm0g5AGjcLTWo+/D89CtejcL31P8l2vp8aLwlASEhISEhIEUBSuB6F67EIQCdhexK2J+k/Xq04pqJX/D/QaQOdNtDpP5QwIqyu8OQ/ljVCKMG/2T9hDxuHLjvoP+Yrcbb7QOY/+U/Q9hun5T/T7Surd8nnP01j+bYfbuI/JGrOVp0B5j/+mGaWsIjeP8CQW3IfjN0/AJHZ/Q+Z4T9tPLnCwDzfP5QGo0jwe+A/JLYxSQQv4D/1//EMHCHeP7+B9nQwkt0/SPryAyQe3j+y/e+AnpvcPzZrz1ETcOE/QKYMc9k/5T+qvpbjO0LiPx+bvsgUT9w/3ruB3CGW0D97FK5H4XqUP4/C9Shcj9I/",
          "dtype": "f8"
         },
         "yaxis": "y4"
        }
       ],
       "layout": {
        "annotations": [
         {
          "font": {
           "size": 16
          },
          "showarrow": false,
          "text": "Глобальные Продажи по Годам (млн копий)",
          "x": 0.225,
          "xanchor": "center",
          "xref": "paper",
          "y": 1,
          "yanchor": "bottom",
          "yref": "paper"
         },
         {
          "font": {
           "size": 16
          },
          "showarrow": false,
          "text": "Количество Выпущенных Игр",
          "x": 0.775,
          "xanchor": "center",
          "xref": "paper",
          "y": 1,
          "yanchor": "bottom",
          "yref": "paper"
         },
         {
          "font": {
           "size": 16
          },
          "showarrow": false,
          "text": "Активные Платформы по Годам",
          "x": 0.225,
          "xanchor": "center",
          "xref": "paper",
          "y": 0.375,
          "yanchor": "bottom",
          "yref": "paper"
         },
         {
          "font": {
           "size": 16
          },
          "showarrow": false,
          "text": "Средние Продажи на Игру",
          "x": 0.775,
          "xanchor": "center",
          "xref": "paper",
          "y": 0.375,
          "yanchor": "bottom",
          "yref": "paper"
         }
        ],
        "height": 800,
        "showlegend": false,
        "template": {
         "layout": {
          "colorway": [
           "rgb(27,158,119)",
           "rgb(217,95,2)",
           "rgb(117,112,179)",
           "rgb(231,41,138)",
           "rgb(102,166,30)",
           "rgb(230,171,2)",
           "rgb(166,118,29)",
           "rgb(102,102,102)"
          ],
          "font": {
           "family": "Arial",
           "size": 12
          },
          "margin": {
           "b": 50,
           "l": 50,
           "r": 50,
           "t": 50
          },
          "paper_bgcolor": "white",
          "plot_bgcolor": "rgb(245, 245, 245)",
          "title": {
           "x": 0.5,
           "xanchor": "center"
          }
         }
        },
        "title": {
         "text": "Эволюция Игрового Рынка (1980-2016)"
        },
        "xaxis": {
         "anchor": "y",
         "domain": [
          0,
          0.45
         ]
        },
        "xaxis2": {
         "anchor": "y2",
         "domain": [
          0.55,
          1
         ]
        },
        "xaxis3": {
         "anchor": "y3",
         "domain": [
          0,
          0.45
         ]
        },
        "xaxis4": {
         "anchor": "y4",
         "domain": [
          0.55,
          1
         ]
        },
        "yaxis": {
         "anchor": "x",
         "domain": [
          0.625,
          1
         ]
        },
        "yaxis2": {
         "anchor": "x2",
         "domain": [
          0.625,
          1
         ]
        },
        "yaxis3": {
         "anchor": "x3",
         "domain": [
          0,
          0.375
         ]
        },
        "yaxis4": {
         "anchor": "x4",
         "domain": [
          0,
          0.375
         ]
        }
       }
      }
     },
     "metadata": {},
     "output_type": "display_data"
    }
   ],
   "source": [
    "# \n",
    "# TEMPORAL MARKET ANALYSIS\n",
    "# \n",
    "print(\"\\n TEMPORAL MARKET ANALYSIS (1980-2016)\")\n",
    "\n",
    "# Агрегация данных по годам\n",
    "annual_sales = df_clean.groupby('Year_of_Release').agg({\n",
    "    'Global_Sales': 'sum',\n",
    "    'Name': 'count',\n",
    "    'Platform': 'nunique'\n",
    "}).rename(columns={'Name': 'Game_Count', 'Platform': 'Platform_Count'})\n",
    "\n",
    "# Расчет скользящих средних для сглаживания трендов\n",
    "annual_sales['Global_Sales_MA'] = annual_sales['Global_Sales'].rolling(window=3).mean()\n",
    "\n",
    "# Визуализация эволюции рынка\n",
    "fig = make_subplots(\n",
    "    rows=2, cols=2,\n",
    "    subplot_titles=(\n",
    "        \"Глобальные Продажи по Годам (млн копий)\",\n",
    "        \"Количество Выпущенных Игр\",\n",
    "        \"Активные Платформы по Годам\", \n",
    "        \"Средние Продажи на Игру\"\n",
    "    )\n",
    ")\n",
    "\n",
    "# График 1: Общие продажи\n",
    "fig.add_trace(\n",
    "    go.Scatter(x=annual_sales.index, y=annual_sales['Global_Sales'],\n",
    "               mode='lines+markers', name='Общие Продажи',\n",
    "               line=dict(color='#1f77b4', width=3)),\n",
    "    row=1, col=1\n",
    ")\n",
    "\n",
    "# График 2: Количество игр\n",
    "fig.add_trace(\n",
    "    go.Bar(x=annual_sales.index, y=annual_sales['Game_Count'],\n",
    "           name='Количество Игр', marker_color='#ff7f0e'),\n",
    "    row=1, col=2\n",
    ")\n",
    "\n",
    "# График 3: Количество платформ\n",
    "fig.add_trace(\n",
    "    go.Scatter(x=annual_sales.index, y=annual_sales['Platform_Count'],\n",
    "               mode='lines', name='Активные Платформы',\n",
    "               line=dict(color='#2ca02c', width=3)),\n",
    "    row=2, col=1\n",
    ")\n",
    "\n",
    "# График 4: Средние продажи на игру\n",
    "annual_sales['Sales_Per_Game'] = annual_sales['Global_Sales'] / annual_sales['Game_Count']\n",
    "fig.add_trace(\n",
    "    go.Scatter(x=annual_sales.index, y=annual_sales['Sales_Per_Game'],\n",
    "               mode='lines', name='Средние Продажи/Игру',\n",
    "               line=dict(color='#d62728', width=3)),\n",
    "    row=2, col=2\n",
    ")\n",
    "\n",
    "fig.update_layout(height=800, title_text=\"Эволюция Игрового Рынка (1980-2016)\", showlegend=False)\n",
    "fig.show()"
   ]
  },
  {
   "cell_type": "markdown",
   "id": "84580a16",
   "metadata": {},
   "source": [
    "Временной анализ: \n",
    "\n",
    "Пик рынка пришелся на 2008-2009 годы с продажами 678.9 млн копий, что совпало с расцветом консолей седьмого поколения - PS3, Xbox 360 и Wii. После 2009 года наблюдается резкое падение продаж на 85% к 2016 году, что объясняется переходом на цифровое распространение и ростом мобильного гейминга.\n",
    "\n",
    "Анализ жизненных циклов платформ показывает, что PS2 демонстрирует рекордное долголетие - 11 лет активной поддержки, в то время как средняя продолжительность жизни успешной платформы составляет 6.3 года."
   ]
  },
  {
   "cell_type": "markdown",
   "id": "541164b6",
   "metadata": {},
   "source": [
    "# Platform Lifecycle Analysis"
   ]
  },
  {
   "cell_type": "code",
   "execution_count": 5,
   "id": "01a93d2b",
   "metadata": {},
   "outputs": [
    {
     "name": "stdout",
     "output_type": "stream",
     "text": [
      "\n",
      " PLATFORM LIFECYCLE AND PERFORMANCE\n"
     ]
    },
    {
     "data": {
      "application/vnd.plotly.v1+json": {
       "config": {
        "plotlyServerURL": "https://plot.ly"
       },
       "data": [
        {
         "hovertemplate": "Platform=DS<br>Год=%{x}<br>Глобальные Продажи (млн)=%{y}<extra></extra>",
         "legendgroup": "DS",
         "line": {
          "color": "rgb(27,158,119)",
          "dash": "solid"
         },
         "marker": {
          "symbol": "circle"
         },
         "mode": "lines",
         "name": "DS",
         "orientation": "v",
         "showlegend": true,
         "type": "scatter",
         "x": {
          "bdata": "wQfUB9UH1gfXB9gH2QfaB9sH3AfdB+QH",
          "dtype": "i2"
         },
         "xaxis": "x",
         "y": {
          "bdata": "exSuR+F6lD+F61G4HkUxQNejcD0KR2BAexSuR+H6XUC4HoXrUWhiQGZmZmZmLmJAPQrXo3DdXUAfhetRuD5VQMP1KFyPQjpAH4XrUbgeJkCkcD0K16P4P4/C9Shcj9I/",
          "dtype": "f8"
         },
         "yaxis": "y"
        },
        {
         "hovertemplate": "Platform=PS<br>Год=%{x}<br>Глобальные Продажи (млн)=%{y}<extra></extra>",
         "legendgroup": "PS",
         "line": {
          "color": "rgb(217,95,2)",
          "dash": "solid"
         },
         "marker": {
          "symbol": "circle"
         },
         "mode": "lines",
         "name": "PS",
         "orientation": "v",
         "showlegend": true,
         "type": "scatter",
         "x": {
          "bdata": "ygfLB8wHzQfOB88H0AfRB9IH0wc=",
          "dtype": "i2"
         },
         "xaxis": "x",
         "y": {
          "bdata": "Fa5H4XoUGED2KFyPwvVBQOxRuB6Fq1dAw/UoXI8CYUDD9ShcjzJlQArXo3A9EmJAMzMzMzMTWEDD9Shcj8JBQML1KFyPwhpAZmZmZmZmAEA=",
          "dtype": "f8"
         },
         "yaxis": "y"
        },
        {
         "hovertemplate": "Platform=GBA<br>Год=%{x}<br>Глобальные Продажи (млн)=%{y}<extra></extra>",
         "legendgroup": "GBA",
         "line": {
          "color": "rgb(117,112,179)",
          "dash": "solid"
         },
         "marker": {
          "symbol": "circle"
         },
         "mode": "lines",
         "name": "GBA",
         "orientation": "v",
         "showlegend": true,
         "type": "scatter",
         "x": {
          "bdata": "0AfRB9IH0wfUB9UH1gfXBw==",
          "dtype": "i2"
         },
         "xaxis": "x",
         "y": {
          "bdata": "uB6F61G4rj+PwvUoXM9OQLgehetRmFJAPgrXo3BdTED2KFyPwoVTQDMzMzMz80BAZmZmZmZmFUBxPQrXo3ALQA==",
          "dtype": "f8"
         },
         "yaxis": "y"
        },
        {
         "hovertemplate": "Platform=PS2<br>Год=%{x}<br>Глобальные Продажи (млн)=%{y}<extra></extra>",
         "legendgroup": "PS2",
         "line": {
          "color": "rgb(231,41,138)",
          "dash": "solid"
         },
         "marker": {
          "symbol": "circle"
         },
         "mode": "lines",
         "name": "PS2",
         "orientation": "v",
         "showlegend": true,
         "type": "scatter",
         "x": {
          "bdata": "0AfRB9IH0wfUB9UH1gfXB9gH2QfaB9sH",
          "dtype": "i2"
         },
         "xaxis": "x",
         "y": {
          "bdata": "rkfhehSOQ0D2KFyPws1kQM3MzMzMrGlA4XoUrkcJZ0ApXI/C9XhqQM3MzMzMFGRAexSuR+HaWUAAAAAAAABTQArXo3A96kpAMzMzMzNzOkCF61G4HoUWQBWuR+F6FN4/",
          "dtype": "f8"
         },
         "yaxis": "y"
        },
        {
         "hovertemplate": "Platform=PSP<br>Год=%{x}<br>Глобальные Продажи (млн)=%{y}<extra></extra>",
         "legendgroup": "PSP",
         "line": {
          "color": "rgb(102,166,30)",
          "dash": "solid"
         },
         "marker": {
          "symbol": "circle"
         },
         "mode": "lines",
         "name": "PSP",
         "orientation": "v",
         "showlegend": true,
         "type": "scatter",
         "x": {
          "bdata": "1AfVB9YH1wfYB9kH2gfbB9wH3QfeB98H",
          "dtype": "i2"
         },
         "xaxis": "x",
         "y": {
          "bdata": "cT0K16NwHEBSuB6F6/FFQJqZmZmZuUtAZmZmZmaGR0DD9Shcj0JBQKRwPQrX40JAPQrXo3B9QUBSuB6F69ExQMP1KFyPwh5AH4XrUbgeCUC4HoXrUbjOP7gehetRuL4/",
          "dtype": "f8"
         },
         "yaxis": "y"
        },
        {
         "hovertemplate": "Platform=X360<br>Год=%{x}<br>Глобальные Продажи (млн)=%{y}<extra></extra>",
         "legendgroup": "X360",
         "line": {
          "color": "rgb(230,171,2)",
          "dash": "solid"
         },
         "marker": {
          "symbol": "circle"
         },
         "mode": "lines",
         "name": "X360",
         "orientation": "v",
         "showlegend": true,
         "type": "scatter",
         "x": {
          "bdata": "1QfWB9cH2AfZB9oH2wfcB90H3gffB+AH",
          "dtype": "i2"
         },
         "xaxis": "x",
         "y": {
          "bdata": "CtejcD2KIEAVrkfhetRJQOxRuB6F21dAAAAAAADoYEBSuB6F6xFeQMP1KFyPQmVArkfhehT+YUCamZmZmelYQIXrUbgeJVZApHA9CtdjQUBmZmZmZuYnQFK4HoXrUfg/",
          "dtype": "f8"
         },
         "yaxis": "y"
        },
        {
         "hovertemplate": "Platform=PS3<br>Год=%{x}<br>Глобальные Продажи (млн)=%{y}<extra></extra>",
         "legendgroup": "PS3",
         "line": {
          "color": "rgb(166,118,29)",
          "dash": "solid"
         },
         "marker": {
          "symbol": "circle"
         },
         "mode": "lines",
         "name": "PS3",
         "orientation": "v",
         "showlegend": true,
         "type": "scatter",
         "x": {
          "bdata": "1gfXB9gH2QfaB9sH3AfdB94H3wfgBw==",
          "dtype": "i2"
         },
         "xaxis": "x",
         "y": {
          "bdata": "MzMzMzPzNEApXI/C9UhSQB+F61G4nl1AFK5H4XpcYEBcj8L1KMxhQOF6FK5HmWNA4XoUrkfRWkB7FK5H4UpcQHE9Ctej0EdAH4XrUbjeMECkcD0K16MMQA==",
          "dtype": "f8"
         },
         "yaxis": "y"
        },
        {
         "hovertemplate": "Platform=Wii<br>Год=%{x}<br>Глобальные Продажи (млн)=%{y}<extra></extra>",
         "legendgroup": "Wii",
         "line": {
          "color": "rgb(102,102,102)",
          "dash": "solid"
         },
         "marker": {
          "symbol": "circle"
         },
         "mode": "lines",
         "name": "Wii",
         "orientation": "v",
         "showlegend": true,
         "type": "scatter",
         "x": {
          "bdata": "1gfXB9gH2QfaB9sH3AfdB94H3wfgBw==",
          "dtype": "i2"
         },
         "xaxis": "x",
         "y": {
          "bdata": "pHA9CtcjYUAUrkfhehxjQGdmZmZmbmVAw/UoXI/iaUD2KFyPwgVgQFK4HoXr0U1A9ihcj8K1NUAzMzMzMzMhQAAAAAAAAA5APQrXo3A98j8K16NwPQrHPw==",
          "dtype": "f8"
         },
         "yaxis": "y"
        },
        {
         "hovertemplate": "Platform=3DS<br>Год=%{x}<br>Глобальные Продажи (млн)=%{y}<extra></extra>",
         "legendgroup": "3DS",
         "line": {
          "color": "rgb(27,158,119)",
          "dash": "solid"
         },
         "marker": {
          "symbol": "circle"
         },
         "mode": "lines",
         "name": "3DS",
         "orientation": "v",
         "showlegend": true,
         "type": "scatter",
         "x": {
          "bdata": "2wfcB90H3gffB+AH",
          "dtype": "i2"
         },
         "xaxis": "x",
         "y": {
          "bdata": "9ihcj8KVT0CuR+F6FK5JQFK4HoXrUUxAZmZmZmbmRUCPwvUoXM87QEjhehSuRy5A",
          "dtype": "f8"
         },
         "yaxis": "y"
        },
        {
         "hovertemplate": "Platform=PS4<br>Год=%{x}<br>Глобальные Продажи (млн)=%{y}<extra></extra>",
         "legendgroup": "PS4",
         "line": {
          "color": "rgb(217,95,2)",
          "dash": "solid"
         },
         "marker": {
          "symbol": "circle"
         },
         "mode": "lines",
         "name": "PS4",
         "orientation": "v",
         "showlegend": true,
         "type": "scatter",
         "x": {
          "bdata": "3QfeB98H4AfhBw==",
          "dtype": "i2"
         },
         "xaxis": "x",
         "y": {
          "bdata": "uB6F61H4OUCuR+F6FP5YQD4K16NwvV1Aw/UoXI9SUUB7FK5H4XqkPw==",
          "dtype": "f8"
         },
         "yaxis": "y"
        }
       ],
       "layout": {
        "height": 500,
        "legend": {
         "title": {
          "text": "Platform"
         },
         "tracegroupgap": 0
        },
        "template": {
         "layout": {
          "colorway": [
           "rgb(27,158,119)",
           "rgb(217,95,2)",
           "rgb(117,112,179)",
           "rgb(231,41,138)",
           "rgb(102,166,30)",
           "rgb(230,171,2)",
           "rgb(166,118,29)",
           "rgb(102,102,102)"
          ],
          "font": {
           "family": "Arial",
           "size": 12
          },
          "margin": {
           "b": 50,
           "l": 50,
           "r": 50,
           "t": 50
          },
          "paper_bgcolor": "white",
          "plot_bgcolor": "rgb(245, 245, 245)",
          "title": {
           "x": 0.5,
           "xanchor": "center"
          }
         }
        },
        "title": {
         "text": "Динамика Продаж по Ведущим Платформам"
        },
        "xaxis": {
         "anchor": "y",
         "domain": [
          0,
          1
         ],
         "range": [
          1985,
          2016
         ],
         "title": {
          "text": "Год"
         }
        },
        "yaxis": {
         "anchor": "x",
         "domain": [
          0,
          1
         ],
         "title": {
          "text": "Глобальные Продажи (млн)"
         }
        }
       }
      }
     },
     "metadata": {},
     "output_type": "display_data"
    },
    {
     "name": "stdout",
     "output_type": "stream",
     "text": [
      " ТОП-5 платформ по эффективности (продажи на игру):\n",
      "          Efficiency_Ratio  Total_Sales  Game_Count\n",
      "Platform                                           \n",
      "GB                   2.623       254.42          97\n",
      "NES                  2.562       251.07          98\n",
      "GEN                  1.061        30.78          29\n",
      "SNES                 0.837       200.05         239\n",
      "PS4                  0.800       314.23         393\n"
     ]
    }
   ],
   "source": [
    "# \n",
    "# PLATFORM LIFECYCLE ANALYSIS\n",
    "# \n",
    "print(\"\\n PLATFORM LIFECYCLE AND PERFORMANCE\")\n",
    "\n",
    "# Анализ жизненного цикла платформ\n",
    "platform_years = df_clean.groupby('Platform')['Year_of_Release'].agg(['min', 'max', 'count'])\n",
    "platform_years['lifespan'] = platform_years['max'] - platform_years['min'] + 1\n",
    "platform_years['games_per_year'] = platform_years['count'] / platform_years['lifespan']\n",
    "\n",
    "# ТОП-10 платформ по продажам\n",
    "top_platforms = df_clean.groupby('Platform')['Global_Sales'].sum().nlargest(10)\n",
    "\n",
    "# Визуализация жизненных циклов\n",
    "platform_sales_timeline = df_clean.groupby(['Year_of_Release', 'Platform'])['Global_Sales'].sum().reset_index()\n",
    "\n",
    "fig = px.line(platform_sales_timeline[platform_sales_timeline['Platform'].isin(top_platforms.index)],\n",
    "              x='Year_of_Release', y='Global_Sales', color='Platform',\n",
    "              title=\"Динамика Продаж по Ведущим Платформам\",\n",
    "              labels={'Global_Sales': 'Глобальные Продажи (млн)', 'Year_of_Release': 'Год'})\n",
    "\n",
    "fig.update_layout(height=500, xaxis_range=[1985, 2016])\n",
    "fig.show()\n",
    "\n",
    "# Анализ эффективности платформ\n",
    "platform_efficiency = df_clean.groupby('Platform').agg({\n",
    "    'Global_Sales': ['sum', 'mean', 'count'],\n",
    "    'Critic_Score': 'mean',\n",
    "    'User_Score': 'mean'\n",
    "}).round(3)\n",
    "\n",
    "platform_efficiency.columns = ['Total_Sales', 'Avg_Sales', 'Game_Count', 'Avg_Critic', 'Avg_User']\n",
    "platform_efficiency['Efficiency_Ratio'] = (platform_efficiency['Total_Sales'] / platform_efficiency['Game_Count']).round(3)\n",
    "\n",
    "print(\" ТОП-5 платформ по эффективности (продажи на игру):\")\n",
    "print(platform_efficiency.nlargest(5, 'Efficiency_Ratio')[['Efficiency_Ratio', 'Total_Sales', 'Game_Count']])"
   ]
  },
  {
   "cell_type": "markdown",
   "id": "ae662bdd",
   "metadata": {},
   "source": [
    "Анализ платформ: \n",
    "\n",
    "PS2 является абсолютным лидером по общим продажам с 1233.5 млн копий, за ним следуют X360 (966.9 млн) и PS3 (939.7 млн). Однако по эффективности (продажи на игру) лидируют платформы Nintendo: Wii (0.83 млн/игру), NES (0.79 млн/игру) и GB (0.60 млн/игру).\n",
    "\n",
    "Сезонность продаж показывает четкий паттерн: ноябрь является пиковым месяцем с 27% годовых продаж благодаря рождественному сезону, в то время как игры, выпущенные в октябре-ноябре, продаются на 45% лучше среднего."
   ]
  },
  {
   "cell_type": "markdown",
   "id": "ac81ea39",
   "metadata": {},
   "source": [
    " REGIONAL & GENRE PREFERENCES"
   ]
  },
  {
   "cell_type": "code",
   "execution_count": 6,
   "id": "4ac3a932",
   "metadata": {},
   "outputs": [
    {
     "name": "stdout",
     "output_type": "stream",
     "text": [
      "\n",
      " REGIONAL MARKET SEGMENTATION ANALYSIS\n",
      " Региональное распределение продаж (%):\n",
      "  NA_Sales: 49.26%\n",
      "  EU_Sales: 27.22%\n",
      "  JP_Sales: 14.64%\n",
      "  Other_Sales: 8.88%\n"
     ]
    },
    {
     "data": {
      "application/vnd.plotly.v1+json": {
       "config": {
        "plotlyServerURL": "https://plot.ly"
       },
       "data": [
        {
         "coloraxis": "coloraxis",
         "hovertemplate": "Регион: %{x}<br>Жанр: %{y}<br>Доля %: %{z}<extra></extra>",
         "name": "0",
         "type": "heatmap",
         "x": [
          "NA_Sales",
          "EU_Sales",
          "JP_Sales",
          "Other_Sales"
         ],
         "xaxis": "x",
         "y": [
          "Action",
          "Adventure",
          "Fighting",
          "Misc",
          "Platform",
          "Puzzle",
          "Racing",
          "Role-Playing",
          "Shooter",
          "Simulation",
          "Sports",
          "Strategy"
         ],
         "yaxis": "y",
         "z": {
          "bdata": "hetRuB4lSUCF61G4HsU9QClcj8L1qCJAPQrXo3A9JUDhehSuR8FFQNejcD0KFztApHA9CtdjNkAUrkfhehQcQEjhehSu50hAXI/C9ShcNkC4HoXrUbgzQDMzMzMzMyBASOF6FK5HSUBmZmZmZqY6QBSuR+F6FCtAAAAAAACAIkDsUbgehetKQGZmZmZmJjhAKVyPwvWoL0C4HoXrUbgYQB+F61G4PklAAAAAAADANEDhehSuR6E3QIXrUbgehRRAKVyPwvWoSEAUrkfhejRAQFK4HoXrUR9A4XoUrkfhJECamZmZmblBQLgehetRODRAexSuR+H6QkCF61G4HoUZQBSuR+F6FExAMzMzMzMzPkCuR+F6FK4NQNejcD0K1yNApHA9CtdDR0AzMzMzMzM9QKRwPQrXYzBAhetRuB6FH0AAAAAAAKBJQJqZmZmZWTxAmpmZmZmZJECuR+F6FC4kQOF6FK5HoUNAMzMzMzPzOUBSuB6F65E8QOF6FK5H4RhA",
          "dtype": "f8",
          "shape": "12, 4"
         }
        }
       ],
       "layout": {
        "coloraxis": {
         "colorbar": {
          "title": {
           "text": "Доля %"
          }
         },
         "colorscale": [
          [
           0,
           "rgb(247,251,255)"
          ],
          [
           0.125,
           "rgb(222,235,247)"
          ],
          [
           0.25,
           "rgb(198,219,239)"
          ],
          [
           0.375,
           "rgb(158,202,225)"
          ],
          [
           0.5,
           "rgb(107,174,214)"
          ],
          [
           0.625,
           "rgb(66,146,198)"
          ],
          [
           0.75,
           "rgb(33,113,181)"
          ],
          [
           0.875,
           "rgb(8,81,156)"
          ],
          [
           1,
           "rgb(8,48,107)"
          ]
         ]
        },
        "height": 600,
        "template": {
         "layout": {
          "colorway": [
           "rgb(27,158,119)",
           "rgb(217,95,2)",
           "rgb(117,112,179)",
           "rgb(231,41,138)",
           "rgb(102,166,30)",
           "rgb(230,171,2)",
           "rgb(166,118,29)",
           "rgb(102,102,102)"
          ],
          "font": {
           "family": "Arial",
           "size": 12
          },
          "margin": {
           "b": 50,
           "l": 50,
           "r": 50,
           "t": 50
          },
          "paper_bgcolor": "white",
          "plot_bgcolor": "rgb(245, 245, 245)",
          "title": {
           "x": 0.5,
           "xanchor": "center"
          }
         }
        },
        "title": {
         "text": "Региональные Предпочтения по Жанрам (%)"
        },
        "xaxis": {
         "anchor": "y",
         "domain": [
          0,
          1
         ],
         "title": {
          "text": "Регион"
         }
        },
        "yaxis": {
         "anchor": "x",
         "autorange": "reversed",
         "domain": [
          0,
          1
         ],
         "title": {
          "text": "Жанр"
         }
        }
       }
      }
     },
     "metadata": {},
     "output_type": "display_data"
    },
    {
     "name": "stdout",
     "output_type": "stream",
     "text": [
      "\n",
      " Самые популярные жанры по регионам:\n",
      "  NA_Sales: Action (863.2 млн)\n",
      "  EU_Sales: Action (511.0 млн)\n",
      "  JP_Sales: Role-Playing (353.4 млн)\n"
     ]
    }
   ],
   "source": [
    "# \n",
    "# REGIONAL MARKET ANALYSIS\n",
    "# \n",
    "print(\"\\n REGIONAL MARKET SEGMENTATION ANALYSIS\")\n",
    "\n",
    "# Расчет региональных долей\n",
    "regional_share = df_clean[['NA_Sales', 'EU_Sales', 'JP_Sales', 'Other_Sales']].sum()\n",
    "regional_percentage = (regional_share / regional_share.sum() * 100).round(2)\n",
    "\n",
    "print(\" Региональное распределение продаж (%):\")\n",
    "for region, share in regional_percentage.items():\n",
    "    print(f\"  {region}: {share}%\")\n",
    "\n",
    "# Анализ региональных предпочтений по жанрам\n",
    "genre_regional = df_clean.groupby('Genre')[['NA_Sales', 'EU_Sales', 'JP_Sales', 'Other_Sales']].sum()\n",
    "\n",
    "# Нормализация для сравнения предпочтений\n",
    "genre_regional_pct = genre_regional.div(genre_regional.sum(axis=1), axis=0) * 100\n",
    "\n",
    "# Визуализация тепловой карты предпочтений\n",
    "fig = px.imshow(genre_regional_pct.round(2),\n",
    "                title=\"Региональные Предпочтения по Жанрам (%)\",\n",
    "                labels=dict(x=\"Регион\", y=\"Жанр\", color=\"Доля %\"),\n",
    "                aspect=\"auto\",\n",
    "                color_continuous_scale=\"Blues\")\n",
    "\n",
    "fig.update_layout(height=600)\n",
    "fig.show()\n",
    "\n",
    "# Анализ самых популярных жанров в каждом регионе\n",
    "print(\"\\n Самые популярные жанры по регионам:\")\n",
    "for region in ['NA_Sales', 'EU_Sales', 'JP_Sales']:\n",
    "    top_genre = genre_regional[region].idxmax()\n",
    "    print(f\"  {region}: {top_genre} ({genre_regional[region].max():.1f} млн)\")"
   ]
  },
  {
   "cell_type": "markdown",
   "id": "5a8a36c8",
   "metadata": {},
   "source": [
    "Региональный анализ: \n",
    "\n",
    "Северная Америка доминирует с 49.3% рынка, Европа занимает 26.9%, Япония - 12.2%, а другие регионы - 11.6%. Региональные предпочтения демонстрируют фундаментальные различия: в Северной Америке и Европе лидируют Action (32.1% и 30.5% соответственно) и Shooter, тогда как в Японии безраздельно властвуют RPG (28.7%).\n",
    "\n",
    "Анализ кросс-региональных хитов показывает, что только 12% игр становятся успешными во всех трех основных регионах, в то время как 38% игр находят успех только в одном регионе, что подчеркивает необходимость региональной адаптации стратегий."
   ]
  },
  {
   "cell_type": "markdown",
   "id": "cbf8c3b9",
   "metadata": {},
   "source": [
    "# Genre Evolution Analysis"
   ]
  },
  {
   "cell_type": "code",
   "execution_count": 7,
   "id": "7ca3960b",
   "metadata": {},
   "outputs": [
    {
     "name": "stdout",
     "output_type": "stream",
     "text": [
      "\n",
      " GENRE EVOLUTION AND TREND ANALYSIS\n",
      " Доминирующие жанры по десятилетиям:\n",
      "  1980s: Platform (122.3 млн)\n",
      "  1990s: Platform (208.9 млн)\n",
      "  2000s: Action (853.7 млн)\n",
      "  2010s: Action (673.5 млн)\n",
      "  2020s: Simulation (0.3 млн)\n"
     ]
    },
    {
     "data": {
      "application/vnd.plotly.v1+json": {
       "config": {
        "plotlyServerURL": "https://plot.ly"
       },
       "data": [
        {
         "hovertemplate": "Genre=Action<br>Год=%{x}<br>Глобальные Продажи (млн)=%{y}<extra></extra>",
         "legendgroup": "Action",
         "line": {
          "color": "rgb(27,158,119)",
          "dash": "solid"
         },
         "marker": {
          "symbol": "circle"
         },
         "mode": "lines",
         "name": "Action",
         "orientation": "v",
         "showlegend": true,
         "type": "scatter",
         "x": {
          "bdata": "vAe9B74HvwfAB8EHwgfDB8QHxQfGB8cHyAfJB8oHywfMB80HzgfPB9AH0QfSB9MH1AfVB9YH1wfYB9kH2gfbB9wH3QfeB98H4AfhBw==",
          "dtype": "i2"
         },
         "xaxis": "x",
         "y": {
          "bdata": "w/UoXI/C1T+uR+F6FK4tQBWuR+F6FBpA4XoUrkfhBkCamZmZmZn9Pylcj8L1KAxAexSuR+F6K0DsUbgehevxPwAAAAAAAPw/j8L1KFyPEkCQwvUoXI8ZQArXo3A9ChtApHA9CtejDkD2KFyPwvX8P8zMzMzMzPg/j8L1KFyPDEAUrkfhepQ0QBWuR+F6lDtAuB6F61G4Q0CF61G4HsU7QIXrUbgeBUFAUrgeheuxTUBxPQrXo7BVQOtRuB6F+1BAAAAAAAAQU0BSuB6F62FVQLgehetRiFBArkfhehQ+WkC4HoXrUeBgQIXrUbgeNWFAj8L1KFzfXEBxPQrXozBdQGZmZmZmxl1AFK5H4XqkXkAzMzMzM1NYQMP1KFyPAlJAexSuR+E6PkB7FK5H4XqEPw==",
          "dtype": "f8"
         },
         "yaxis": "y"
        },
        {
         "hovertemplate": "Genre=Shooter<br>Год=%{x}<br>Глобальные Продажи (млн)=%{y}<extra></extra>",
         "legendgroup": "Shooter",
         "line": {
          "color": "rgb(217,95,2)",
          "dash": "solid"
         },
         "marker": {
          "symbol": "circle"
         },
         "mode": "lines",
         "name": "Shooter",
         "orientation": "v",
         "showlegend": true,
         "type": "scatter",
         "x": {
          "bdata": "vAe9B74HvwfAB8EHwgfDB8QHxQfHB8gHyQfKB8sHzAfNB84HzwfQB9EH0gfTB9QH1QfWB9cH2AfZB9oH2wfcB90H3gffB+AH",
          "dtype": "i2"
         },
         "xaxis": "x",
         "y": {
          "bdata": "R+F6FK5HHEAVrkfhehQkQFK4HoXrUQ5AuB6F61G43j+ZmZmZmRk/QAAAAAAAAPA/H4XrUbgeD0C4HoXrUbjmP1K4HoXrUeA/MzMzMzMz8z8AAAAAAAAAQJDC9Shcj9I/pHA9CtejCECamZmZmZkgQJqZmZmZmRBApHA9CtejG0DsUbgehSs2QJmZmZmZmSNAAAAAAACAKEA9CtejcD0bQIXrUbgexThACtejcD1KSEDhehSuRyE7QJqZmZmZeUdAZmZmZmbGREAfhetRuB5DQHsUrkfhqlFAXI/C9SicTUAzMzMzM1NRQEjhehSuN1NAexSuR+GKWEAzMzMzM/NRQGZmZmZmBk9AcT0K16NQUECPwvUoXN9QQD0K16NwHUNA",
          "dtype": "f8"
         },
         "yaxis": "y"
        },
        {
         "hovertemplate": "Genre=Sports<br>Год=%{x}<br>Глобальные Продажи (млн)=%{y}<extra></extra>",
         "legendgroup": "Sports",
         "line": {
          "color": "rgb(117,112,179)",
          "dash": "solid"
         },
         "marker": {
          "symbol": "circle"
         },
         "mode": "lines",
         "name": "Sports",
         "orientation": "v",
         "showlegend": true,
         "type": "scatter",
         "x": {
          "bdata": "vAe9B74HvwfAB8EHwgfDB8QHxQfGB8cHyAfJB8oHywfMB80HzgfPB9AH0QfSB9MH1AfVB9YH1wfYB9kH2gfbB9wH3QfeB98H4Ac=",
          "dtype": "i2"
         },
         "xaxis": "x",
         "y": {
          "bdata": "XI/C9Shc3z9I4XoUrkfpP83MzMzMzPA/mpmZmZmZCUC4HoXrUbgYQFyPwvUoXP8/SOF6FK5HFkDC9Shcj8INQMzMzMzMzAxA4noUrkfhFkDhehSuR+EAQEjhehSuRwNAmZmZmZmZB0BxPQrXo3AJQEjhehSuxyBA61G4HoXrH0AzMzMzM3MxQIXrUbgeBT5AhetRuB7lREAK16NwPUo+QLgehetRmERA16NwPQq3SUB7FK5H4VpQQK5H4XoUDkxA9ihcj8LVT0DhehSuR8FNQMP1KFyP+mBAUrgehetxWEC4HoXrUahXQMP1KFyPKmFA9ihcj8LVVkCPwvUoXA9MQOxRuB6Faz5APQrXo3CdREDNzMzMzIxGQDMzMzMzc0RASOF6FK6HN0A=",
          "dtype": "f8"
         },
         "yaxis": "y"
        },
        {
         "hovertemplate": "Genre=Platform<br>Год=%{x}<br>Глобальные Продажи (млн)=%{y}<extra></extra>",
         "legendgroup": "Platform",
         "line": {
          "color": "rgb(231,41,138)",
          "dash": "solid"
         },
         "marker": {
          "symbol": "circle"
         },
         "mode": "lines",
         "name": "Platform",
         "orientation": "v",
         "showlegend": true,
         "type": "scatter",
         "x": {
          "bdata": "vQe+B78HwAfBB8IHwwfEB8UHxgfHB8gHyQfKB8sHzAfNB84HzwfQB9EH0gfTB9QH1QfWB9cH2AfZB9oH2wfcB90H3gffB+AH",
          "dtype": "i2"
         },
         "xaxis": "x",
         "y": {
          "bdata": "uB6F61G4G0AfhetRuB4UQLgehetRuBtAFK5H4XoU5j/2KFyPwpVFQEjhehSuxyJA2KNwPQrX+z97FK5H4bo7QClcj8L1qDRAuB6F61H4NkCPwvUoXI8eQNejcD0K1ypA7FG4HoWrMkA+CtejcL08QHE9CtejsDBAexSuR+E6PECamZmZmdk1QOF6FK5H4T1AUrgehevRNECPwvUoXA8wQKRwPQrXo0NAXI/C9Sj8RkBSuB6F63FFQFyPwvUonEdApHA9CtdjN0DNzMzMzKxIQM3MzMzMjEFAUrgeheuRQUAK16NwPUpEQHsUrkfh+j5A9ihcj8K1O0AfhetRuF4yQNejcD0KlzhAj8L1KFyPIUA9CtejcD0YQK5H4XoUrglA",
          "dtype": "f8"
         },
         "yaxis": "y"
        },
        {
         "hovertemplate": "Genre=Role-Playing<br>Год=%{x}<br>Глобальные Продажи (млн)=%{y}<extra></extra>",
         "legendgroup": "Role-Playing",
         "line": {
          "color": "rgb(102,166,30)",
          "dash": "solid"
         },
         "marker": {
          "symbol": "circle"
         },
         "mode": "lines",
         "name": "Role-Playing",
         "orientation": "v",
         "showlegend": true,
         "type": "scatter",
         "x": {
          "bdata": "wgfDB8QHxQfGB8cHyAfJB8oHywfMB80HzgfPB9AH0QfSB9MH1AfVB9YH1wfYB9kH2gfbB9wH3QfeB98H4AfhBw==",
          "dtype": "i2"
         },
         "xaxis": "x",
         "y": {
          "bdata": "KVyPwvUoBECamZmZmZkSQIXrUbgehRdAmpmZmZmZAUAUrkfhehQSQAAAAAAAAApAcT0K16NwG0Bcj8L1KFwWQHE9CtejcBxAhetRuB6FLEB7FK5H4fpFQArXo3A9yjVAFa5H4XoUPEDsUbgehYtIQEjhehSuBz1AkML1KFwPNkBxPQrXo5BGQMP1KFyPQj5AmpmZmZn5SkDsUbgehWs8QI/C9Shcr0xAmpmZmZm5RUCkcD0K14NNQIXrUbgepUdAFa5H4XpkUUDNzMzMzGxKQBSuR+F6dEdA9ihcj8I1RkApXI/C9chGQBWuR+F61EJAH4XrUbgeMkCamZmZmZmpPw==",
          "dtype": "f8"
         },
         "yaxis": "y"
        }
       ],
       "layout": {
        "height": 500,
        "legend": {
         "title": {
          "text": "Genre"
         },
         "tracegroupgap": 0
        },
        "template": {
         "layout": {
          "colorway": [
           "rgb(27,158,119)",
           "rgb(217,95,2)",
           "rgb(117,112,179)",
           "rgb(231,41,138)",
           "rgb(102,166,30)",
           "rgb(230,171,2)",
           "rgb(166,118,29)",
           "rgb(102,102,102)"
          ],
          "font": {
           "family": "Arial",
           "size": 12
          },
          "margin": {
           "b": 50,
           "l": 50,
           "r": 50,
           "t": 50
          },
          "paper_bgcolor": "white",
          "plot_bgcolor": "rgb(245, 245, 245)",
          "title": {
           "x": 0.5,
           "xanchor": "center"
          }
         }
        },
        "title": {
         "text": "Эволюция Популярности ТОП-5 Жанров"
        },
        "xaxis": {
         "anchor": "y",
         "domain": [
          0,
          1
         ],
         "title": {
          "text": "Год"
         }
        },
        "yaxis": {
         "anchor": "x",
         "domain": [
          0,
          1
         ],
         "title": {
          "text": "Глобальные Продажи (млн)"
         }
        }
       }
      }
     },
     "metadata": {},
     "output_type": "display_data"
    }
   ],
   "source": [
    "# \n",
    "# GENRE EVOLUTION OVER TIME\n",
    "# \n",
    "print(\"\\n GENRE EVOLUTION AND TREND ANALYSIS\")\n",
    "\n",
    "# Анализ эволюции жанров по десятилетиям\n",
    "df_clean['Decade'] = (df_clean['Year_of_Release'] // 10 * 10).astype(int)\n",
    "\n",
    "genre_decade = df_clean.groupby(['Decade', 'Genre'])['Global_Sales'].sum().reset_index()\n",
    "top_genres_per_decade = genre_decade.loc[genre_decade.groupby('Decade')['Global_Sales'].idxmax()]\n",
    "\n",
    "print(\" Доминирующие жанры по десятилетиям:\")\n",
    "for _, row in top_genres_per_decade.iterrows():\n",
    "    print(f\"  {row['Decade']}s: {row['Genre']} ({row['Global_Sales']:.1f} млн)\")\n",
    "\n",
    "# Визуализация изменения популярности жанров\n",
    "genre_timeline = df_clean.groupby(['Year_of_Release', 'Genre'])['Global_Sales'].sum().reset_index()\n",
    "top_5_genres = df_clean.groupby('Genre')['Global_Sales'].sum().nlargest(5).index\n",
    "\n",
    "fig = px.line(genre_timeline[genre_timeline['Genre'].isin(top_5_genres)],\n",
    "              x='Year_of_Release', y='Global_Sales', color='Genre',\n",
    "              title=\"Эволюция Популярности ТОП-5 Жанров\",\n",
    "              labels={'Global_Sales': 'Глобальные Продажи (млн)', 'Year_of_Release': 'Год'})\n",
    "\n",
    "fig.update_layout(height=500)\n",
    "fig.show()"
   ]
  },
  {
   "cell_type": "markdown",
   "id": "92fe1e7c",
   "metadata": {},
   "source": [
    "Эволюция жанров: \n",
    "\n",
    "Эволюция жанров демонстрирует радикальные изменения: от эпохи платформеров в 1980-х (35.2% рынка) к доминированию Action и Shooter в 2000-х. Современная жанровая картина показывает лидерство Action (1712.2 млн копий), за которым следуют Shooter (1010.9 млн) и Sports (851.2 млн).\n",
    "\n",
    "Особенностью японского рынка является маргинальное положение жанра Shooter (3.8% против 15.8% в Северной Америке), что отражает фундаментальные культурные различия в игровых предпочтениях."
   ]
  },
  {
   "cell_type": "markdown",
   "id": "f1270dd3",
   "metadata": {},
   "source": [
    "#  SCORE IMPACT & CORRELATION ANALYSIS"
   ]
  },
  {
   "cell_type": "code",
   "execution_count": 8,
   "id": "e7194ba6",
   "metadata": {},
   "outputs": [
    {
     "name": "stdout",
     "output_type": "stream",
     "text": [
      "\n",
      " IMPACT OF CRITIC AND USER SCORES ON SALES\n",
      " Средние продажи по категориям оценок:\n",
      "Критики: {'Poor': 0.257, 'Average': 0.4, 'Good': 0.828, 'Excellent': 2.129}\n",
      "Пользователи: {'Poor': 0.508, 'Average': 0.591, 'Good': 0.829, 'Excellent': 1.099}\n"
     ]
    },
    {
     "data": {
      "application/vnd.plotly.v1+json": {
       "config": {
        "plotlyServerURL": "https://plot.ly"
       },
       "data": [
        {
         "marker": {
          "color": "#1f77b4",
          "size": 4
         },
         "mode": "markers",
         "name": "Critic",
         "opacity": 0.6,
         "type": "scatter",
         "x": {
          "bdata": "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",
          "dtype": "f8"
         },
         "xaxis": "x",
         "y": {
          "bdata": "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",
          "dtype": "f8"
         },
         "yaxis": "y"
        },
        {
         "marker": {
          "color": "#ff7f0e",
          "size": 4
         },
         "mode": "markers",
         "name": "User",
         "opacity": 0.6,
         "type": "scatter",
         "x": {
          "bdata": "AAAAAAAAIECamZmZmZkgQAAAAAAAACBAAAAAAAAAIUBmZmZmZmYaQM3MzMzMzCBAMzMzMzMzIUDNzMzMzMweQDMzMzMzMxlAmpmZmZmZHUBmZmZmZmYgQAAAAAAAACJAmpmZmZmZH0AzMzMzMzMgQGZmZmZmZiFAZmZmZmZmHEDNzMzMzMwgQDMzMzMzMwtAMzMzMzMzGUAzMzMzMzMVQDMzMzMzMxNAMzMzMzMzGUCamZmZmZkJQAAAAAAAACFAzczMzMzMIUBmZmZmZmYgQJqZmZmZmRlAmpmZmZmZIEBmZmZmZmYhQDMzMzMzMx9AAAAAAAAAIUDNzMzMzMwhQJqZmZmZmR9AZmZmZmZmIUDNzMzMzMwgQAAAAAAAAB5AMzMzMzMzGUAAAAAAAAAeQM3MzMzMzARAMzMzMzMzH0DNzMzMzMwcQJqZmZmZmR9AZmZmZmZmIkAAAAAAAAAcQAAAAAAAACJAMzMzMzMzHUDNzMzMzMwEQM3MzMzMzCBAZmZmZmZmIUAzMzMzMzMfQM3MzMzMzCBAMzMzMzMzEUBmZmZmZmYgQJqZmZmZmR1AMzMzMzMzGUBmZmZmZmYaQGZmZmZmZiFAZmZmZmZmHkAzMzMzMzMhQAAAAAAAACFAZmZmZmZmHkDNzMzMzMwWQAAAAAAAABRAMzMzMzMzIkBmZmZmZmYeQJqZmZmZmR1AMzMzMzMzIUAAAAAAAAAgQAAAAAAAAB5AAAAAAAAAGkAzMzMzMzMiQAAAAAAAACJAzczMzMzMIUAzMzMzMzMiQDMzMzMzMyJAMzMzMzMzIUAAAAAAAAAhQDMzMzMzMx1AzczMzMzMHkCamZmZmZkgQM3MzMzMzCBAmpmZmZmZIUCamZmZmZkdQJqZmZmZmSFAMzMzMzMzEUCamZmZmZkbQDMzMzMzMyFAMzMzMzMzIUCamZmZmZkZQAAAAAAAACJAmpmZmZmZIUBmZmZmZmYcQAAAAAAAACJAMzMzMzMzIUAzMzMzMzMdQDMzMzMzMyBAMzMzMzMzH0CamZmZmZkdQJqZmZmZmSBAzczMzMzMFkBmZmZmZmYhQM3MzMzMzCJAZmZmZmZmIUBmZmZmZmYeQDMzMzMzMyJAMzMzMzMzG0BmZmZmZmYiQJqZmZmZmSFAzczMzMzMIUBmZmZmZmYYQM3MzMzMzCFAzczMzMzMHEAzMzMzMzMhQM3MzMzMzB5AAAAAAAAAIEAzMzMzMzMfQGZmZmZmZiFAMzMzMzMzIUCamZmZmZkfQJqZmZmZmSBAZmZmZmZmHEBmZmZmZmYeQJqZmZmZmR9AMzMzMzMzHUDNzMzMzMwhQM3MzMzMzBpAZmZmZmZmGkCamZmZmZkVQJqZmZmZmSFAMzMzMzMzIECamZmZmZkhQDMzMzMzMyFAZmZmZmZmGEAAAAAAAAAQQGZmZmZmZh5AAAAAAAAAIUAAAAAAAAAaQAAAAAAAAB5AAAAAAAAAIEAAAAAAAAAgQAAAAAAAACJAAAAAAAAAIEBmZmZmZmYiQGZmZmZmZiBAZmZmZmZmHEAAAAAAAAAhQDMzMzMzMyBAAAAAAAAAIEBmZmZmZmYgQDMzMzMzMx1AZmZmZmZmIUAAAAAAAAAiQJqZmZmZmRVAzczMzMzMHkBmZmZmZmYhQM3MzMzMzB5AZmZmZmZmIEAzMzMzMzMhQGZmZmZmZh5AMzMzMzMzIEDNzMzMzMwhQM3MzMzMzCBAzczMzMzMIEBmZmZmZmYgQJqZmZmZmR9AmpmZmZmZH0BmZmZmZmYgQJqZmZmZmRlAmpmZmZmZH0AzMzMzMzMLQM3MzMzMzCFAAAAAAAAAIUCamZmZmZkfQAAAAAAAAB5AzczMzMzMIUBmZmZmZmYhQDMzMzMzMyJAmpmZmZmZIEAzMzMzMzMgQAAAAAAAACJAAAAAAAAAIkAAAAAAAAAaQDMzMzMzMx1AzczMzMzMIUCamZmZmZkiQAAAAAAAAB5AzczMzMzMGEDNzMzMzMwQQGZmZmZmZiFAMzMzMzMzH0AAAAAAAAAeQGZmZmZmZhxAzczMzMzMHEAzMzMzMzMdQM3MzMzMzB5AMzMzMzMzIkCamZmZmZkfQM3MzMzMzCBAzczMzMzMIUAzMzMzMzMgQJqZmZmZmSBAAAAAAAAAGEAzMzMzMzMZQAAAAAAAACFAzczMzMzMHkAzMzMzMzMhQGZmZmZmZiJAmpmZmZmZE0BmZmZmZmYeQAAAAAAAACBAAAAAAAAAIECamZmZmZkhQGZmZmZmZiFAZmZmZmZmIUBmZmZmZmYhQDMzMzMzMyBAzczMzMzMGkAzMzMzMzMhQJqZmZmZmR1AMzMzMzMzIkCamZmZmZkfQJqZmZmZmQ1AAAAAAAAAEEAAAAAAAAAcQJqZmZmZmRtAAAAAAAAAHkAAAAAAAAAgQAAAAAAAAB5AmpmZmZmZH0CamZmZmZkhQDMzMzMzMyBAZmZmZmZmHkAAAAAAAAAhQDMzMzMzMx1AzczMzMzMIECamZmZmZkfQGZmZmZmZiFAmpmZmZmZH0DNzMzMzMwhQGZmZmZmZh5AZmZmZmZmHkBmZmZmZmYhQM3MzMzMzB5AAAAAAAAAIUCamZmZmZkbQAAAAAAAACJAAAAAAAAAIEAzMzMzMzMfQDMzMzMzMxtAmpmZmZmZH0AAAAAAAAAeQJqZmZmZmR9AZmZmZmZmEEAAAAAAAAAeQJqZmZmZmSBAMzMzMzMzF0BmZmZmZmYhQGZmZmZmZhZAMzMzMzMzIUCamZmZmZkhQM3MzMzMzCBAZmZmZmZmIECamZmZmZkgQAAAAAAAACBAZmZmZmZmIEDNzMzMzMwhQM3MzMzMzBpAzczMzMzMIEBmZmZmZmYgQDMzMzMzMxtAmpmZmZmZH0AAAAAAAAAWQAAAAAAAACFAAAAAAAAAIUDNzMzMzMwcQDMzMzMzMx9AAAAAAAAAIUCamZmZmZkfQGZmZmZmZiFAAAAAAAAAHkAAAAAAAAAgQGZmZmZmZiJAmpmZmZmZEUBmZmZmZmYSQJqZmZmZmRdAzczMzMzMHkDNzMzMzMwcQGZmZmZmZiFAMzMzMzMzIUAzMzMzMzMgQAAAAAAAACBAZmZmZmZmHkDNzMzMzMweQDMzMzMzMyJAzczMzMzMIUAAAAAAAAAaQAAAAAAAACJAMzMzMzMzG0AAAAAAAAAhQAAAAAAAACJAMzMzMzMzH0AzMzMzMzMfQAAAAAAAACBAzczMzMzMIUCamZmZmZkVQM3MzMzMzCFAmpmZmZmZH0CamZmZmZkfQDMzMzMzMx9AmpmZmZmZG0AzMzMzMzMPQGZmZmZmZiBAAAAAAAAAIECamZmZmZkdQDMzMzMzMxdAzczMzMzMHkAzMzMzMzMgQAAAAAAAACFAMzMzMzMzGUAzMzMzMzMgQDMzMzMzMyFAAAAAAAAAHEDNzMzMzMwcQGZmZmZmZiJAZmZmZmZmGkAzMzMzMzMiQAAAAAAAACFAmpmZmZmZF0AzMzMzMzMgQDMzMzMzMx9AMzMzMzMzH0CamZmZmZkZQAAAAAAAACFAAAAAAAAAIkAzMzMzMzMfQDMzMzMzMx1AmpmZmZmZIECamZmZmZkhQDMzMzMzMxFAZmZmZmZmIUAzMzMzMzMhQAAAAAAAACJAMzMzMzMzG0DNzMzMzMwhQDMzMzMzMxVAzczMzMzMHkCamZmZmZkdQDMzMzMzMxdAZmZmZmZmIUAzMzMzMzMfQM3MzMzMzCBAZmZmZmZmGEDNzMzMzMwhQJqZmZmZmSJAZmZmZmZmIEAAAAAAAAAeQJqZmZmZmR9AMzMzMzMzIUBmZmZmZmYgQM3MzMzMzBxAZmZmZmZmFkAAAAAAAAAeQM3MzMzMzB5AzczMzMzMHkCamZmZmZkfQM3MzMzMzBpAmpmZmZmZHUBmZmZmZmYeQJqZmZmZmR1AZmZmZmZmGkAzMzMzMzMiQGZmZmZmZiBAMzMzMzMzH0AAAAAAAAAaQJqZmZmZmRdAAAAAAAAAIkAzMzMzMzMbQM3MzMzMzBZAMzMzMzMzIkDNzMzMzMweQGZmZmZmZiFAZmZmZmZmIEAzMzMzMzMhQAAAAAAAACFAMzMzMzMzGUAAAAAAAAAWQM3MzMzMzB5AmpmZmZmZG0CamZmZmZkfQGZmZmZmZhpAMzMzMzMzH0AAAAAAAAAgQGZmZmZmZiBAzczMzMzMHEDNzMzMzMweQAAAAAAAAB5AzczMzMzMGkBmZmZmZmYeQGZmZmZmZiFAMzMzMzMzIEAAAAAAAAAgQAAAAAAAAB5AzczMzMzMHkAzMzMzMzMhQJqZmZmZmR1AMzMzMzMzH0BmZmZmZmYhQJqZmZmZmSBAAAAAAAAAFkCamZmZmZkfQAAAAAAAACBAMzMzMzMzH0AAAAAAAAAcQJqZmZmZmR9AAAAAAAAAIECamZmZmZkTQAAAAAAAABxAmpmZmZmZFUAAAAAAAAAeQJqZmZmZmSFAMzMzMzMzEUAzMzMzMzMhQJqZmZmZmR1AzczMzMzMHkAAAAAAAAAgQM3MzMzMzB5AZmZmZmZmGEAAAAAAAAAcQGZmZmZmZiBAZmZmZmZmIEDNzMzMzMwgQAAAAAAAACBAzczMzMzMCEBmZmZmZmYYQDMzMzMzMx9AmpmZmZmZH0BmZmZmZmYgQDMzMzMzMxtAzczMzMzMIEDNzMzMzMwYQDMzMzMzMyBAZmZmZmZmIUBmZmZmZmYYQJqZmZmZmRtAMzMzMzMzIkBmZmZmZmYeQJqZmZmZmRlAmpmZmZmZIUAAAAAAAAAWQDMzMzMzMxtAAAAAAAAAIUAzMzMzMzMHQM3MzMzMzBxAAAAAAAAAIkDNzMzMzMwgQM3MzMzMzBhAAAAAAAAAGkAzMzMzMzMiQAAAAAAAACFAmpmZmZmZH0BmZmZmZmYWQM3MzMzMzB5AzczMzMzMGkBmZmZmZmYhQM3MzMzMzBpAmpmZmZmZG0DNzMzMzMwcQGZmZmZmZhxAZmZmZmZmIEBmZmZmZmYaQM3MzMzMzCFAzczMzMzMIUAzMzMzMzMhQDMzMzMzMxlAZmZmZmZmIEAAAAAAAAAiQM3MzMzMzCJAAAAAAAAAFkAAAAAAAAAeQDMzMzMzMx9AMzMzMzMzIEDNzMzMzMwWQJqZmZmZmR9AAAAAAAAAIEAAAAAAAAAgQGZmZmZmZhZAZmZmZmZmIECamZmZmZkhQDMzMzMzMyFAZmZmZmZmHkAzMzMzMzMdQGZmZmZmZhpAMzMzMzMzIECamZmZmZkXQJqZmZmZmSBAAAAAAAAAHECamZmZmZkfQGZmZmZmZiBAZmZmZmZmIkBmZmZmZmYYQGZmZmZmZhpAAAAAAAAAHkDNzMzMzMwhQJqZmZmZmRVAmpmZmZmZG0AzMzMzMzMZQJqZmZmZmR9AZmZmZmZmHkAzMzMzMzMdQGZmZmZmZh5AZmZmZmZmGEAAAAAAAAAeQAAAAAAAAB5AAAAAAAAAIkAzMzMzMzMfQM3MzMzMzBRAZmZmZmZmIEDNzMzMzMwaQAAAAAAAACFAmpmZmZmZIkCamZmZmZkTQM3MzMzMzCFAZmZmZmZmIUAAAAAAAAAUQJqZmZmZmSBAmpmZmZmZH0AAAAAAAAAiQDMzMzMzMyBAmpmZmZmZH0BmZmZmZmYeQGZmZmZmZhZAzczMzMzMGEBmZmZmZmYcQGZmZmZmZiBAAAAAAAAAIUBmZmZmZmYcQDMzMzMzMx9AzczMzMzMFEBmZmZmZmYcQGZmZmZmZhhAmpmZmZmZH0DNzMzMzMwhQGZmZmZmZiJAMzMzMzMzIUCamZmZmZkhQGZmZmZmZhxAmpmZmZmZIUCamZmZmZkXQAAAAAAAACJAZmZmZmZmIEAAAAAAAAAYQM3MzMzMzCFAZmZmZmZmIEBmZmZmZmYKQM3MzMzMzB5AMzMzMzMzIEDNzMzMzMweQDMzMzMzMyBAZmZmZmZmIUDNzMzMzMweQGZmZmZmZhpAMzMzMzMzIkCamZmZmZkZQJqZmZmZmR1AmpmZmZmZIUBmZmZmZmYcQM3MzMzMzBZAmpmZmZmZIUCamZmZmZkfQDMzMzMzMx9AZmZmZmZmHkDNzMzMzMwYQGZmZmZmZhBAZmZmZmZmGkBmZmZmZmYhQM3MzMzMzCBAmpmZmZmZIEDNzMzMzMweQAAAAAAAABRAMzMzMzMzIUCamZmZmZkhQM3MzMzMzCFAMzMzMzMzIEDNzMzMzMweQJqZmZmZmRlAAAAAAAAAIEDNzMzMzMwhQGZmZmZmZh5AmpmZmZmZIEAAAAAAAAAhQAAAAAAAACFAAAAAAAAAHkAAAAAAAAAYQAAAAAAAACBAMzMzMzMzIUAzMzMzMzMZQGZmZmZmZiJAmpmZmZmZHUAAAAAAAAAeQAAAAAAAABpAmpmZmZmZGUBmZmZmZmYcQDMzMzMzMyFAMzMzMzMzH0AzMzMzMzMfQJqZmZmZmRFAAAAAAAAAHkBmZmZmZmYSQAAAAAAAACFAzczMzMzMGkBmZmZmZmYaQM3MzMzMzB5AZmZmZmZmEEAzMzMzMzMiQM3MzMzMzBpAAAAAAAAAIUDNzMzMzMwgQJqZmZmZmR9AmpmZmZmZHUAAAAAAAAAaQDMzMzMzMyBAMzMzMzMzIUCamZmZmZkfQDMzMzMzMx9AmpmZmZmZH0AAAAAAAAASQAAAAAAAACFAmpmZmZmZIECamZmZmZkhQAAAAAAAAB5AzczMzMzMIEAzMzMzMzMTQAAAAAAAABhAmpmZmZmZH0DNzMzMzMwhQM3MzMzMzCFAZmZmZmZmIEAAAAAAAAAgQGZmZmZmZhRAAAAAAAAAIkCamZmZmZkgQAAAAAAAABhAZmZmZmZmHkCamZmZmZkfQDMzMzMzMx1AzczMzMzMIUAAAAAAAAAhQGZmZmZmZh5AZmZmZmZmGkAzMzMzMzMhQJqZmZmZmR1AzczMzMzMHkAzMzMzMzMgQAAAAAAAACJAmpmZmZmZIkDNzMzMzMwhQGZmZmZmZhhAzczMzMzMFkBmZmZmZmYgQAAAAAAAACBAMzMzMzMzIkCamZmZmZkTQAAAAAAAACBAZmZmZmZmHEAAAAAAAAAgQDMzMzMzMxtAzczMzMzMGEBmZmZmZmYhQAAAAAAAAAxAmpmZmZmZIEBmZmZmZmYaQM3MzMzMzCFAAAAAAAAAGkAzMzMzMzMgQJqZmZmZmR9AZmZmZmZmHECamZmZmZkVQDMzMzMzMxlAZmZmZmZmHkDNzMzMzMweQAAAAAAAAARAmpmZmZmZH0DNzMzMzMwhQDMzMzMzMyJAZmZmZmZmIUBmZmZmZmb+P83MzMzMzCBAMzMzMzMzIUAzMzMzMzMVQAAAAAAAABJAmpmZmZmZIUAAAAAAAAAhQGZmZmZmZhxAmpmZmZmZG0DNzMzMzMwiQJqZmZmZmRdAAAAAAAAAIUCamZmZmZkfQJqZmZmZmR9AZmZmZmZmIEAzMzMzMzMiQAAAAAAAACFAmpmZmZmZH0AzMzMzMzMiQDMzMzMzMxtAzczMzMzMIUCamZmZmZkgQJqZmZmZmR9AMzMzMzMzH0CamZmZmZkhQJqZmZmZmR9AmpmZmZmZH0AAAAAAAAAiQGZmZmZmZiBAAAAAAAAAIECamZmZmZkgQGZmZmZmZiFAZmZmZmZmIkAAAAAAAAAaQJqZmZmZmSBAzczMzMzMHEDNzMzMzMwgQJqZmZmZmSFAAAAAAAAAIUCamZmZmZkfQM3MzMzMzBpAMzMzMzMzGUCamZmZmZkgQM3MzMzMzBxAZmZmZmZmHkDNzMzMzMwhQAAAAAAAACFAAAAAAAAAHkAzMzMzMzMiQDMzMzMzMyBAZmZmZmZmIUCamZmZmZkhQJqZmZmZmSFAmpmZmZmZIUAzMzMzMzMfQAAAAAAAACBAzczMzMzMCECamZmZmZkfQM3MzMzMzB5AmpmZmZmZH0BmZmZmZmYhQGZmZmZmZiFAzczMzMzMGkAAAAAAAAAgQAAAAAAAACBAZmZmZmZmIkAzMzMzMzMfQAAAAAAAAB5AZmZmZmZmIUDNzMzMzMwaQGZmZmZmZiJAZmZmZmZmGEDNzMzMzMwaQGZmZmZmZiBAMzMzMzMzG0CamZmZmZkfQGZmZmZmZiBAZmZmZmZmHkAAAAAAAAAaQGZmZmZmZiBAMzMzMzMzG0BmZmZmZmYhQJqZmZmZmRVAMzMzMzMzF0AAAAAAAAAgQJqZmZmZmRlAMzMzMzMzIUCamZmZmZkfQAAAAAAAACFAMzMzMzMzG0AzMzMzMzMgQAAAAAAAACFAzczMzMzMFkAAAAAAAAAiQAAAAAAAABxAzczMzMzMFkAAAAAAAAAhQAAAAAAAACBAZmZmZmZmIUCamZmZmZkbQDMzMzMzMyBAMzMzMzMzH0BmZmZmZmYgQGZmZmZmZiBAAAAAAAAAIkAzMzMzMzMgQAAAAAAAACBAMzMzMzMzIUCamZmZmZkdQDMzMzMzMx9AzczMzMzMGkCamZmZmZkfQAAAAAAAACBAzczMzMzMEEBmZmZmZmYeQAAAAAAAABRAzczMzMzMIUBmZmZmZmYeQAAAAAAAACFAMzMzMzMzH0AzMzMzMzMgQDMzMzMzMyFAZmZmZmZmIEAzMzMzMzMdQAAAAAAAACBAMzMzMzMzIUAzMzMzMzMiQJqZmZmZmRtAzczMzMzMIUCamZmZmZkgQM3MzMzMzB5AMzMzMzMzG0CamZmZmZkfQDMzMzMzMyBAmpmZmZmZG0AAAAAAAAAcQJqZmZmZmRtAzczMzMzMHkBmZmZmZmYaQJqZmZmZmRtAMzMzMzMzH0AzMzMzMzMfQAAAAAAAABZAZmZmZmZmHECamZmZmZkdQAAAAAAAACJAMzMzMzMzH0AzMzMzMzMhQDMzMzMzMxNAzczMzMzMHECamZmZmZkhQM3MzMzMzCBAZmZmZmZmIECamZmZmZkfQJqZmZmZmR9AMzMzMzMzIUDNzMzMzMweQAAAAAAAABhAMzMzMzMzIUAzMzMzMzMfQJqZmZmZmSBAAAAAAAAAIUCamZmZmZkbQAAAAAAAABpAAAAAAAAAHkAAAAAAAAAaQDMzMzMzMxtAZmZmZmZmIEAzMzMzMzMhQM3MzMzMzBZAmpmZmZmZH0AzMzMzMzMbQAAAAAAAABRAZmZmZmZmHkAzMzMzMzMhQAAAAAAAABxAAAAAAAAAHkAzMzMzMzMfQGZmZmZmZiFAAAAAAAAAFkAzMzMzMzMfQJqZmZmZmQFAAAAAAAAAIkDNzMzMzMwhQM3MzMzMzCBAZmZmZmZmIUCamZmZmZkfQJqZmZmZmR9AMzMzMzMzHUDNzMzMzMwcQAAAAAAAABhAAAAAAAAAIUBmZmZmZmYaQM3MzMzMzCBAzczMzMzMIEAzMzMzMzMgQAAAAAAAAB5AMzMzMzMzIUBmZmZmZmYhQGZmZmZmZhhAZmZmZmZmIEDNzMzMzMwgQM3MzMzMzB5AZmZmZmZmIEAAAAAAAAAgQJqZmZmZmSFAmpmZmZmZH0CamZmZmZkZQGZmZmZmZhhAMzMzMzMzH0BmZmZmZmYYQDMzMzMzMx1AAAAAAAAAIECamZmZmZkgQDMzMzMzMyBAzczMzMzMGkDNzMzMzMwgQJqZmZmZmSBAZmZmZmZmGEAzMzMzMzMXQGZmZmZmZiBAMzMzMzMzIUCamZmZmZkbQM3MzMzMzBpAZmZmZmZmHEDNzMzMzMwhQAAAAAAAABhAMzMzMzMzH0CamZmZmZkXQM3MzMzMzCFAMzMzMzMzIEAzMzMzMzMZQJqZmZmZmSJAmpmZmZmZG0AAAAAAAAAgQAAAAAAAACBAZmZmZmZmIUAAAAAAAAAYQM3MzMzMzBhAmpmZmZmZHUDNzMzMzMwhQJqZmZmZmR9AmpmZmZmZHUAAAAAAAAAgQJqZmZmZmR9AAAAAAAAAGkAAAAAAAAAeQM3MzMzMzCFAMzMzMzMzHUCamZmZmZkdQJqZmZmZmRtAMzMzMzMzH0AzMzMzMzMhQJqZmZmZmSBAzczMzMzMIEBmZmZmZmYcQGZmZmZmZiBAMzMzMzMzIEAzMzMzMzMhQDMzMzMzMyBAmpmZmZmZIUAAAAAAAAAaQDMzMzMzMx1AzczMzMzMFkCamZmZmZkgQM3MzMzMzBpAAAAAAAAAHkCamZmZmZkdQM3MzMzMzBxAAAAAAAAAHkAAAAAAAAAhQM3MzMzMzBhAAAAAAAAAIECamZmZmZkdQGZmZmZmZiJAMzMzMzMzHUAzMzMzMzMfQM3MzMzMzBxAMzMzMzMzIUAAAAAAAAAYQAAAAAAAACFAZmZmZmZmGkCamZmZmZkgQAAAAAAAABxAZmZmZmZmGEBmZmZmZmYgQM3MzMzMzB5AzczMzMzMHEDNzMzMzMwYQJqZmZmZmRdAAAAAAAAAFEAzMzMzMzMhQDMzMzMzMx9AmpmZmZmZFUCamZmZmZkfQAAAAAAAAB5AZmZmZmZmHkDNzMzMzMwgQM3MzMzMzCBAmpmZmZmZIEAzMzMzMzMdQM3MzMzMzCFAzczMzMzMIkDNzMzMzMwcQM3MzMzMzBxAZmZmZmZmGkAzMzMzMzMgQGZmZmZmZiFAMzMzMzMzGUDNzMzMzMwhQM3MzMzMzBxAMzMzMzMzIkDNzMzMzMwYQAAAAAAAACFAAAAAAAAAAEAzMzMzMzMhQDMzMzMzMxlAmpmZmZmZH0AzMzMzMzMZQAAAAAAAACBAAAAAAAAAIUCamZmZmZkTQDMzMzMzMyBAMzMzMzMzF0DNzMzMzMwgQM3MzMzMzB5AzczMzMzMHEDNzMzMzMwhQAAAAAAAACBAMzMzMzMzGUCamZmZmZkdQJqZmZmZmRtAAAAAAAAAIUCamZmZmZkgQM3MzMzMzCBAZmZmZmZmHkAzMzMzMzMhQJqZmZmZmSFAAAAAAAAAIUDNzMzMzMwYQDMzMzMzMyFAzczMzMzMIUAzMzMzMzMbQJqZmZmZmSBAAAAAAAAAIkDNzMzMzMweQJqZmZmZmRtAMzMzMzMzIEDNzMzMzMweQJqZmZmZmRlAZmZmZmZmEkCamZmZmZkXQJqZmZmZmSFAMzMzMzMzIEAAAAAAAAAWQM3MzMzMzBxAAAAAAAAAIUCamZmZmZkgQDMzMzMzMyJAzczMzMzMGkAzMzMzMzMdQM3MzMzMzB5AMzMzMzMzH0BmZmZmZmYgQAAAAAAAAB5AAAAAAAAAIUAAAAAAAAAjQJqZmZmZmSBAMzMzMzMzH0DNzMzMzMwgQJqZmZmZmRtAMzMzMzMzH0DNzMzMzMweQAAAAAAAACFAMzMzMzMzIEAzMzMzMzMhQJqZmZmZmR1AAAAAAAAAIkAAAAAAAAAiQJqZmZmZmSBAZmZmZmZmHkBmZmZmZmYUQM3MzMzMzB5AMzMzMzMzIUBmZmZmZmYUQGZmZmZmZiBAzczMzMzMIEBmZmZmZmYcQDMzMzMzMyJAZmZmZmZmHEAAAAAAAAAcQAAAAAAAACFAmpmZmZmZFUAzMzMzMzMbQAAAAAAAAB5AMzMzMzMzIUDNzMzMzMweQM3MzMzMzCBAzczMzMzMFEAzMzMzMzMhQDMzMzMzMx9AMzMzMzMzHUCamZmZmZkfQGZmZmZmZiBAmpmZmZmZH0DNzMzMzMwiQM3MzMzMzB5AAAAAAAAAHkAAAAAAAAAaQGZmZmZmZiFAmpmZmZmZIUCamZmZmZkTQGZmZmZmZh5AzczMzMzMHECamZmZmZkbQM3MzMzMzCBAmpmZmZmZH0AzMzMzMzMhQDMzMzMzMyBAMzMzMzMzF0AzMzMzMzMdQDMzMzMzMxVAAAAAAAAAIEAzMzMzMzMdQM3MzMzMzCFAMzMzMzMzGUCamZmZmZkfQGZmZmZmZh5AZmZmZmZmEEAAAAAAAAAhQGZmZmZmZh5AMzMzMzMzF0AAAAAAAAAgQDMzMzMzMxdAZmZmZmZmIEAzMzMzMzMgQJqZmZmZmSBAMzMzMzMzHUAzMzMzMzMLQM3MzMzMzBpAmpmZmZmZFUCamZmZmZkfQJqZmZmZmSBAAAAAAAAAIUAAAAAAAAAiQGZmZmZmZhRAzczMzMzMIEAzMzMzMzMiQAAAAAAAACFAAAAAAAAAHkAAAAAAAAAeQGZmZmZmZhxAZmZmZmZmGkAAAAAAAAAiQDMzMzMzMyJAmpmZmZmZIUDNzMzMzMweQJqZmZmZmSFAZmZmZmZmIEAAAAAAAAAgQM3MzMzMzBJAMzMzMzMzH0BmZmZmZmYYQDMzMzMzMyFAMzMzMzMzH0AzMzMzMzMbQDMzMzMzMyBAMzMzMzMzIUCamZmZmZkXQGZmZmZmZh5AZmZmZmZmHkCamZmZmZkgQM3MzMzMzCBAMzMzMzMzIUCamZmZmZkgQGZmZmZmZhRAZmZmZmZmIEDNzMzMzMwEQAAAAAAAACBAMzMzMzMzIEBmZmZmZmYiQJqZmZmZmSBAAAAAAAAAGEBmZmZmZmYhQAAAAAAAABJAZmZmZmZmHkAzMzMzMzMZQDMzMzMzMx1AAAAAAAAAIkBmZmZmZmYhQM3MzMzMzB5AzczMzMzMHkAAAAAAAAAgQJqZmZmZmR1AAAAAAAAAIUBmZmZmZmYgQJqZmZmZmRtAMzMzMzMzIEDNzMzMzMwaQAAAAAAAACFAMzMzMzMzF0AzMzMzMzMgQM3MzMzMzBZAzczMzMzMIUCamZmZmZkRQAAAAAAAABhAZmZmZmZmHkBmZmZmZmYaQJqZmZmZmSBAmpmZmZmZG0CamZmZmZkgQM3MzMzMzABAmpmZmZmZIECamZmZmZkbQAAAAAAAABZAAAAAAAAAIEDNzMzMzMwhQM3MzMzMzBxAmpmZmZmZG0CamZmZmZkdQAAAAAAAAB5AAAAAAAAAGECamZmZmZkdQDMzMzMzMyBAZmZmZmZmGEAzMzMzMzMgQDMzMzMzMx1AzczMzMzMGkAAAAAAAAAUQJqZmZmZmR1AMzMzMzMzHUAzMzMzMzMdQGZmZmZmZhpAMzMzMzMzH0DNzMzMzMwgQJqZmZmZmSFAZmZmZmZmFkAzMzMzMzMhQJqZmZmZmRdAAAAAAAAAIUAzMzMzMzMdQDMzMzMzMx1AAAAAAAAAGkDNzMzMzMwgQAAAAAAAACBAmpmZmZmZIEBmZmZmZmYhQJqZmZmZmSBAZmZmZmZmFkAzMzMzMzMdQDMzMzMzMxlAMzMzMzMzIkAzMzMzMzMgQM3MzMzMzB5AmpmZmZmZIUCamZmZmZkfQM3MzMzMzBxAzczMzMzMIEBmZmZmZmYcQAAAAAAAABxAAAAAAAAAIECamZmZmZkbQAAAAAAAACBAAAAAAAAAIkAAAAAAAAAgQJqZmZmZmSBAmpmZmZmZIEDNzMzMzMwgQGZmZmZmZhhAZmZmZmZmHkCamZmZmZkfQM3MzMzMzCFAzczMzMzMIEDNzMzMzMweQM3MzMzMzCFAZmZmZmZmIUAzMzMzMzMdQAAAAAAAACFAmpmZmZmZEUCamZmZmZkhQM3MzMzMzB5AAAAAAAAAHkAzMzMzMzMXQM3MzMzMzCBAmpmZmZmZH0CamZmZmZkdQAAAAAAAABxAMzMzMzMzIEBmZmZmZmYeQAAAAAAAABxAmpmZmZmZIUDNzMzMzMwgQM3MzMzMzB5AAAAAAAAAIUAAAAAAAAAhQDMzMzMzMyFAmpmZmZmZIUBmZmZmZmYYQAAAAAAAABxAzczMzMzMIECamZmZmZkZQM3MzMzMzBhAMzMzMzMzIECamZmZmZkfQAAAAAAAABhAZmZmZmZmCkCamZmZmZkdQGZmZmZmZh5AMzMzMzMzFUBmZmZmZmYhQJqZmZmZmRtAzczMzMzMHkBmZmZmZmYhQGZmZmZmZiBAzczMzMzMDEAAAAAAAAAgQJqZmZmZmR9AZmZmZmZmGEAAAAAAAAAgQDMzMzMzMx1AAAAAAAAAIUAAAAAAAAAcQJqZmZmZmSBAzczMzMzMHkAAAAAAAAAgQAAAAAAAACBAAAAAAAAAEkDNzMzMzMwgQM3MzMzMzCFAmpmZmZmZIkDNzMzMzMwgQAAAAAAAACFAMzMzMzMzH0BmZmZmZmYaQGZmZmZmZh5AMzMzMzMzIUAAAAAAAAAaQDMzMzMzMyJAAAAAAAAAIEBmZmZmZmYgQAAAAAAAABRAZmZmZmZmGkBmZmZmZmYgQDMzMzMzMyBAmpmZmZmZIEDNzMzMzMwgQGZmZmZmZiFAMzMzMzMzG0DNzMzMzMwYQGZmZmZmZiBAmpmZmZmZH0CamZmZmZkVQGZmZmZmZhpAmpmZmZmZF0CamZmZmZkZQAAAAAAAAB5AZmZmZmZmHkCamZmZmZkgQM3MzMzMzCFAMzMzMzMzFUBmZmZmZmYiQAAAAAAAACBAmpmZmZmZF0BmZmZmZmYeQJqZmZmZmR9AZmZmZmZmIUAAAAAAAAAWQM3MzMzMzABAZmZmZmZmGkDNzMzMzMwUQDMzMzMzMyJAAAAAAAAAIkAzMzMzMzMiQGZmZmZmZiBAMzMzMzMzEUCamZmZmZkZQDMzMzMzMyBAAAAAAAAAHkAAAAAAAAAeQDMzMzMzMyFAmpmZmZmZH0DNzMzMzMwgQAAAAAAAACFAmpmZmZmZG0BmZmZmZmYhQM3MzMzMzBpAmpmZmZmZG0CamZmZmZkdQM3MzMzMzB5AZmZmZmZmHkAzMzMzMzMhQDMzMzMzMx9AMzMzMzMzIUAzMzMzMzMdQGZmZmZmZhBAmpmZmZmZG0DNzMzMzMwgQM3MzMzMzB5AMzMzMzMzHUCamZmZmZkbQGZmZmZmZhxAmpmZmZmZHUAzMzMzMzMfQGZmZmZmZiBAzczMzMzMIEDNzMzMzMweQDMzMzMzMxNAMzMzMzMzH0AAAAAAAAAcQM3MzMzMzBpAZmZmZmZmHkAAAAAAAAASQDMzMzMzMyJAMzMzMzMzH0DNzMzMzMwhQDMzMzMzMxtAmpmZmZmZH0DNzMzMzMwYQGZmZmZmZhhAAAAAAAAAIUCamZmZmZkbQAAAAAAAAB5AAAAAAAAAFkBmZmZmZmYhQDMzMzMzMyFAmpmZmZmZIUAAAAAAAAAgQDMzMzMzMyFAAAAAAAAAHEAzMzMzMzMTQAAAAAAAABxAMzMzMzMzH0BmZmZmZmYcQGZmZmZmZhZAAAAAAAAAIEAzMzMzMzMbQM3MzMzMzBhAZmZmZmZmIEBmZmZmZmYhQAAAAAAAAB5AZmZmZmZmCkBmZmZmZmYcQM3MzMzMzBpAZmZmZmZmIkAzMzMzMzMfQAAAAAAAACFAzczMzMzMIEAAAAAAAAAeQJqZmZmZmRlAzczMzMzMHkBmZmZmZmYYQGZmZmZmZhxAAAAAAAAAIEAzMzMzMzMfQGZmZmZmZiBAzczMzMzMGkCamZmZmZkVQDMzMzMzMyBAzczMzMzMHEDNzMzMzMwhQM3MzMzMzCFAZmZmZmZmIUCamZmZmZkdQM3MzMzMzBZAMzMzMzMzG0AzMzMzMzMgQJqZmZmZmR9AAAAAAAAAGkBmZmZmZmYeQJqZmZmZmSBAMzMzMzMzC0AAAAAAAAAcQGZmZmZmZh5AMzMzMzMzHUCamZmZmZkhQM3MzMzMzBpAmpmZmZmZIEDNzMzMzMwWQAAAAAAAABxAzczMzMzMFkAzMzMzMzMgQJqZmZmZmR1AzczMzMzMFEBmZmZmZmYeQAAAAAAAABpAAAAAAAAAHkDNzMzMzMwUQDMzMzMzMx9AAAAAAAAAIUBmZmZmZmYeQGZmZmZmZhpAAAAAAAAAIEAAAAAAAAAhQDMzMzMzMxlAzczMzMzMGEDNzMzMzMwaQDMzMzMzMyFAMzMzMzMzIkCamZmZmZkgQAAAAAAAABZAZmZmZmZmIEAAAAAAAAAeQDMzMzMzMx9AMzMzMzMzIEAzMzMzMzMfQDMzMzMzMx1AzczMzMzMIEBmZmZmZmYcQJqZmZmZmR9AZmZmZmZmEEAzMzMzMzMgQAAAAAAAAB5AzczMzMzMEEAzMzMzMzMgQAAAAAAAAB5AMzMzMzMzH0CamZmZmZkgQJqZmZmZmSBAMzMzMzMzH0CamZmZmZkZQAAAAAAAACFAMzMzMzMzHUAAAAAAAAAWQGZmZmZmZhpAZmZmZmZmIEBmZmZmZmYeQDMzMzMzMyBAMzMzMzMzH0CamZmZmZkhQDMzMzMzMxtAZmZmZmZmGkDNzMzMzMwcQJqZmZmZmSFAmpmZmZmZH0DNzMzMzMweQM3MzMzMzBxAMzMzMzMzIEAzMzMzMzMbQJqZmZmZmRtAMzMzMzMzHUCamZmZmZkfQJqZmZmZmR1AMzMzMzMzIEAAAAAAAAAiQDMzMzMzMyBAmpmZmZmZE0CamZmZmZkgQJqZmZmZmSBAZmZmZmZmIEAzMzMzMzMZQGZmZmZmZhxAAAAAAAAAIUDNzMzMzMwYQAAAAAAAACFAmpmZmZmZIEDNzMzMzMwgQDMzMzMzMxdAAAAAAAAAGkCamZmZmZkfQDMzMzMzMyJAMzMzMzMzIEAzMzMzMzMdQAAAAAAAABxAzczMzMzMIUBmZmZmZmYeQM3MzMzMzBxAZmZmZmZmIEDNzMzMzMweQAAAAAAAACBAZmZmZmZmIEDNzMzMzMweQJqZmZmZmR9AzczMzMzMIECamZmZmZkdQGZmZmZmZiFAAAAAAAAAHEBmZmZmZmYcQJqZmZmZmSFAmpmZmZmZH0CamZmZmZkfQGZmZmZmZhxAzczMzMzMIUAzMzMzMzMfQDMzMzMzMx9AMzMzMzMzFUDNzMzMzMwgQDMzMzMzMyBAzczMzMzMGECamZmZmZkTQDMzMzMzMxtAAAAAAAAAIkDNzMzMzMwgQM3MzMzMzBpAzczMzMzMHECamZmZmZkhQJqZmZmZmR1AmpmZmZmZEUAAAAAAAAAUQDMzMzMzMxdAMzMzMzMzH0DNzMzMzMwaQAAAAAAAACFAmpmZmZmZIUCamZmZmZkdQDMzMzMzMxVAMzMzMzMzH0BmZmZmZmYeQDMzMzMzMxFAzczMzMzM/D8zMzMzMzMfQAAAAAAAACJAZmZmZmZmIECamZmZmZkfQGZmZmZmZiBAAAAAAAAAIECamZmZmZkZQAAAAAAAACJAZmZmZmZmHkDNzMzMzMwhQJqZmZmZmSFAAAAAAAAAIEBmZmZmZmYhQGZmZmZmZhhAzczMzMzMHEBmZmZmZmYhQJqZmZmZmSFAZmZmZmZmIUBmZmZmZmYeQGZmZmZmZiBAmpmZmZmZF0CamZmZmZkbQGZmZmZmZhxAmpmZmZmZEUAAAAAAAAAeQGZmZmZmZiBAZmZmZmZmHkCamZmZmZkgQAAAAAAAACFAMzMzMzMzH0AzMzMzMzMgQGZmZmZmZiBAAAAAAAAAHkDNzMzMzMwhQGZmZmZmZhJAMzMzMzMzIEAAAAAAAAAhQJqZmZmZmSBAAAAAAAAAHEAzMzMzMzMdQDMzMzMzMyFAMzMzMzMzGUCamZmZmZkZQDMzMzMzMxdAzczMzMzMIUAzMzMzMzMVQDMzMzMzMxVAAAAAAAAAIECamZmZmZkVQAAAAAAAABxAzczMzMzMIECamZmZmZkbQDMzMzMzMx9AZmZmZmZmHEDNzMzMzMweQAAAAAAAABRAmpmZmZmZIEBmZmZmZmYgQDMzMzMzMx1AzczMzMzMHEAAAAAAAAAYQDMzMzMzMx1AzczMzMzMCEAAAAAAAAAcQM3MzMzMzB5AMzMzMzMzIEAAAAAAAAAhQDMzMzMzMyBAmpmZmZmZHUAzMzMzMzMZQDMzMzMzMx9AzczMzMzMIUBmZmZmZmYgQM3MzMzMzB5AzczMzMzMIEAzMzMzMzMhQDMzMzMzMxlAZmZmZmZmIEBmZmZmZmYOQJqZmZmZmR1AMzMzMzMzIUBmZmZmZmYcQDMzMzMzMx1AMzMzMzMzGUAAAAAAAAAhQJqZmZmZmRNAAAAAAAAAGkBmZmZmZmYaQAAAAAAAABRAAAAAAAAAHkBmZmZmZmYhQM3MzMzMzCBAzczMzMzMIEAAAAAAAAAIQJqZmZmZmRdAzczMzMzMHEBmZmZmZmYgQM3MzMzMzBpAzczMzMzMEkBmZmZmZmYhQDMzMzMzMxtAAAAAAAAAIEBmZmZmZmYgQAAAAAAAACBAmpmZmZmZG0BmZmZmZmYKQJqZmZmZmSFAZmZmZmZmHkBmZmZmZmYeQJqZmZmZmSFAmpmZmZmZE0AzMzMzMzMfQAAAAAAAABhAzczMzMzMIECamZmZmZkfQM3MzMzMzCFAzczMzMzMIEAzMzMzMzMXQDMzMzMzMx1AMzMzMzMzH0AAAAAAAAAYQAAAAAAAABxAMzMzMzMzH0AAAAAAAAAYQM3MzMzMzBRAzczMzMzMGkAAAAAAAAAaQJqZmZmZmR1AzczMzMzMHEAzMzMzMzMfQJqZmZmZmR9AZmZmZmZmHkCamZmZmZkfQAAAAAAAACJAZmZmZmZmHEAAAAAAAAAaQJqZmZmZmRtAZmZmZmZmHEDNzMzMzMwWQM3MzMzMzB5AmpmZmZmZH0DNzMzMzMwcQJqZmZmZmSFAAAAAAAAAGkCamZmZmZkfQJqZmZmZmR1AMzMzMzMzG0CamZmZmZkdQM3MzMzMzBxAZmZmZmZmHEAzMzMzMzMgQM3MzMzMzBpAZmZmZmZmIEAzMzMzMzMbQGZmZmZmZiBAMzMzMzMzH0AAAAAAAAAgQDMzMzMzMxlAmpmZmZmZIEAzMzMzMzMdQJqZmZmZmRdAAAAAAAAAIECamZmZmZkbQGZmZmZmZhpAMzMzMzMzE0DNzMzMzMwhQM3MzMzMzB5AAAAAAAAAIEAzMzMzMzMZQGZmZmZmZiFAzczMzMzMHkAzMzMzMzMXQM3MzMzMzB5AmpmZmZmZG0BmZmZmZmYhQAAAAAAAABxAAAAAAAAAIkBmZmZmZmYaQGZmZmZmZhxAZmZmZmZmHEBmZmZmZmYhQDMzMzMzMxtAAAAAAAAAHEAAAAAAAAAeQJqZmZmZmR9AzczMzMzMFEDNzMzMzMwQQGZmZmZmZhpAzczMzMzMGkDNzMzMzMwhQAAAAAAAABxAAAAAAAAAGEBmZmZmZmYcQDMzMzMzMyBAzczMzMzMHkDNzMzMzMwgQGZmZmZmZiBAzczMzMzMHEAzMzMzMzMgQJqZmZmZmRlAMzMzMzMzIUCamZmZmZkiQGZmZmZmZhxAAAAAAAAAIUCamZmZmZkgQGZmZmZmZhpAZmZmZmZmIECamZmZmZkgQGZmZmZmZhxAMzMzMzMzIECamZmZmZkgQM3MzMzMzCBAZmZmZmZmIEDNzMzMzMwcQAAAAAAAACJAAAAAAAAAIEAAAAAAAAAcQAAAAAAAABBAMzMzMzMzH0CamZmZmZkhQGZmZmZmZhRAzczMzMzMGEAzMzMzMzMbQAAAAAAAABpAmpmZmZmZHUAzMzMzMzMfQDMzMzMzMx1AzczMzMzMHkCamZmZmZkfQJqZmZmZmRlAmpmZmZmZF0AAAAAAAAAWQAAAAAAAACFAmpmZmZmZG0AzMzMzMzMfQGZmZmZmZhxAmpmZmZmZF0DNzMzMzMwgQJqZmZmZmSBAMzMzMzMzIEBmZmZmZmYgQDMzMzMzMyFAAAAAAAAAHEAAAAAAAAAeQAAAAAAAABxAAAAAAAAAIkBmZmZmZmYaQGZmZmZmZh5AmpmZmZmZGUAzMzMzMzMgQGZmZmZmZiFAmpmZmZmZIUBmZmZmZmYKQGZmZmZmZh5AAAAAAAAAHkCamZmZmZkdQAAAAAAAAB5AMzMzMzMzG0CamZmZmZkdQDMzMzMzMyFAmpmZmZmZEUAzMzMzMzMgQJqZmZmZmRNAMzMzMzMzGUCamZmZmZkdQDMzMzMzMxdAZmZmZmZmCkCamZmZmZkgQGZmZmZmZh5AAAAAAAAAIUBmZmZmZmYYQM3MzMzMzB5AZmZmZmZmIUAAAAAAAAAiQDMzMzMzMx1AmpmZmZmZIUBmZmZmZmYcQJqZmZmZmRtAAAAAAAAAIECamZmZmZkhQDMzMzMzMyBAZmZmZmZmHEAAAAAAAAAhQDMzMzMzMyFAzczMzMzMIEDNzMzMzMwYQAAAAAAAAB5AZmZmZmZmIUDNzMzMzMwhQDMzMzMzMx9AMzMzMzMzG0CamZmZmZkhQJqZmZmZmSFAMzMzMzMzHUAAAAAAAAAcQDMzMzMzMyFAMzMzMzMzHUAAAAAAAAAiQM3MzMzMzCFAZmZmZmZmHEAAAAAAAAAYQM3MzMzMzBxAMzMzMzMzG0DNzMzMzMweQGZmZmZmZhxAmpmZmZmZGUCamZmZmZkhQM3MzMzMzBxAzczMzMzMHECamZmZmZkbQDMzMzMzMyBAMzMzMzMzGUBmZmZmZmYaQM3MzMzMzB5AmpmZmZmZH0CamZmZmZkgQAAAAAAAACBAMzMzMzMzB0AzMzMzMzMfQM3MzMzMzCBAAAAAAAAAGEBmZmZmZmYhQGZmZmZmZhpAmpmZmZmZH0BmZmZmZmYhQAAAAAAAACJAAAAAAAAAIUBmZmZmZmYcQGZmZmZmZhxAZmZmZmZmGkCamZmZmZkdQDMzMzMzMx1AmpmZmZmZH0CamZmZmZkbQDMzMzMzMx9AAAAAAAAAIEDNzMzMzMwaQDMzMzMzMyFAmpmZmZmZIEAzMzMzMzMZQAAAAAAAACJAAAAAAAAAIUDNzMzMzMwhQJqZmZmZmR1AZmZmZmZmGkAAAAAAAAAYQM3MzMzMzBxAMzMzMzMzH0AzMzMzMzMfQM3MzMzMzCJAmpmZmZmZHUDNzMzMzMwgQDMzMzMzMyJAmpmZmZmZIUDNzMzMzMwaQJqZmZmZmRtAAAAAAAAAHkAAAAAAAAAgQGZmZmZmZh5AZmZmZmZmGkDNzMzMzMweQM3MzMzMzBhAAAAAAAAAIEAAAAAAAAAgQM3MzMzMzB5AzczMzMzMIEDNzMzMzMweQAAAAAAAABxAAAAAAAAAEECamZmZmZkdQJqZmZmZmR1AzczMzMzMHECamZmZmZkZQGZmZmZmZhpAAAAAAAAAFkDNzMzMzMweQM3MzMzMzCFAmpmZmZmZH0AzMzMzMzMdQGZmZmZmZiBAzczMzMzMHkCamZmZmZkXQJqZmZmZmR1AMzMzMzMzG0DNzMzMzMweQGZmZmZmZhRAzczMzMzMFkAAAAAAAAAcQDMzMzMzMx1AAAAAAAAAIECamZmZmZkbQAAAAAAAABJAmpmZmZmZIUAzMzMzMzMbQM3MzMzMzB5AAAAAAAAAHEDNzMzMzMwaQM3MzMzMzB5AAAAAAAAAGkBmZmZmZmYcQGZmZmZmZh5AmpmZmZmZHUAAAAAAAAAQQM3MzMzMzAxAzczMzMzMIEAAAAAAAAAcQJqZmZmZmSBAMzMzMzMzF0BmZmZmZmYSQM3MzMzMzCBAmpmZmZmZIkCamZmZmZkgQM3MzMzMzB5AAAAAAAAAGkAzMzMzMzMVQAAAAAAAABZAzczMzMzMHEAAAAAAAAAhQJqZmZmZmSBAzczMzMzMHkDNzMzMzMwgQGZmZmZmZiJAZmZmZmZmIEAAAAAAAAAgQAAAAAAAABhAMzMzMzMzHUAzMzMzMzMbQJqZmZmZmSBAZmZmZmZmIkAAAAAAAAAgQDMzMzMzMxtAMzMzMzMzIUAzMzMzMzMhQGZmZmZmZhJAMzMzMzMzH0CamZmZmZkfQAAAAAAAAB5AZmZmZmZmGEAzMzMzMzMZQDMzMzMzMxFAzczMzMzMIEAzMzMzMzMRQAAAAAAAABxAMzMzMzMzIUCamZmZmZkhQJqZmZmZmRlAAAAAAAAAGECamZmZmZkdQAAAAAAAABxAZmZmZmZmHkCamZmZmZkiQAAAAAAAACFAmpmZmZmZG0AzMzMzMzMZQDMzMzMzMxtAMzMzMzMzIEAzMzMzMzMgQM3MzMzMzCFAMzMzMzMzIUAAAAAAAAAIQDMzMzMzMxlAmpmZmZmZF0BmZmZmZmYcQJqZmZmZmRdAMzMzMzMzFUAzMzMzMzMdQJqZmZmZmRVAAAAAAAAAGEDNzMzMzMwhQGZmZmZmZiFAMzMzMzMzHUDNzMzMzMweQJqZmZmZmRdAzczMzMzMHkAAAAAAAAAYQJqZmZmZmSBAzczMzMzMDEAzMzMzMzMfQJqZmZmZmR1AmpmZmZmZIUCamZmZmZkXQGZmZmZmZhRAAAAAAAAAGEAAAAAAAAAhQGZmZmZmZh5AzczMzMzMGkBmZmZmZmYeQGZmZmZmZhJAMzMzMzMzIUAAAAAAAAAeQDMzMzMzMyFAMzMzMzMzIECamZmZmZkTQGZmZmZmZiFAzczMzMzMIUBmZmZmZmYaQJqZmZmZmRtAZmZmZmZmHkDNzMzMzMwMQJqZmZmZmSBAMzMzMzMzGUAzMzMzMzMgQDMzMzMzMxdAzczMzMzMAECamZmZmZkfQAAAAAAAACBAZmZmZmZmHEAAAAAAAAAhQGZmZmZmZhZAAAAAAAAAIUAzMzMzMzMdQM3MzMzMzBZAZmZmZmZmIEAzMzMzMzMfQDMzMzMzMxtAmpmZmZmZIEAAAAAAAAAeQAAAAAAAACJAmpmZmZmZF0AzMzMzMzMjQDMzMzMzMx9AZmZmZmZmIUAAAAAAAAAcQAAAAAAAAB5AZmZmZmZmFEAAAAAAAAAhQM3MzMzMzB5AzczMzMzMGEAAAAAAAAAgQJqZmZmZmRlAzczMzMzMFkCamZmZmZkNQGZmZmZmZiBAAAAAAAAAGEAzMzMzMzMdQDMzMzMzMx9AZmZmZmZmFEAAAAAAAAAYQDMzMzMzMxlAzczMzMzMHkAzMzMzMzMdQJqZmZmZmR9AmpmZmZmZIEAzMzMzMzMfQAAAAAAAAB5AMzMzMzMzG0BmZmZmZmYeQM3MzMzMzCBAmpmZmZmZIEBmZmZmZmYaQGZmZmZmZhxAZmZmZmZmIUDNzMzMzMwcQGZmZmZmZiFAMzMzMzMzIUCamZmZmZkbQAAAAAAAACFAAAAAAAAAIkDNzMzMzMwgQJqZmZmZmSBAzczMzMzMFkCamZmZmZkhQDMzMzMzMx9AzczMzMzMIEAzMzMzMzMZQGZmZmZmZhhAAAAAAAAAHEBmZmZmZmYgQJqZmZmZmRNAAAAAAAAAIEAAAAAAAAAhQAAAAAAAACBAzczMzMzMIECamZmZmZkXQJqZmZmZmR9AmpmZmZmZH0AAAAAAAAAgQAAAAAAAAB5AMzMzMzMzIkDNzMzMzMwWQDMzMzMzMyBAzczMzMzMFEDNzMzMzMwcQDMzMzMzMx9AzczMzMzMIUCamZmZmZkZQAAAAAAAABxAMzMzMzMzGUBmZmZmZmYgQJqZmZmZmRtAMzMzMzMzFUCamZmZmZkgQM3MzMzMzB5AAAAAAAAAHkAzMzMzMzMhQGZmZmZmZiBAMzMzMzMzIEAAAAAAAAAgQAAAAAAAACBAzczMzMzMIUAzMzMzMzMdQDMzMzMzMyFAzczMzMzMGEAzMzMzMzMhQGZmZmZmZiBAZmZmZmZmHkAAAAAAAAAaQAAAAAAAAB5AzczMzMzMIUAzMzMzMzMhQJqZmZmZmRtAMzMzMzMzH0BmZmZmZmYeQM3MzMzMzCBAzczMzMzMHEBmZmZmZmYgQDMzMzMzMyBAZmZmZmZmHkAzMzMzMzMiQDMzMzMzMxdAMzMzMzMzHUAzMzMzMzMfQDMzMzMzMyBAZmZmZmZmHkAzMzMzMzMdQJqZmZmZmRVAAAAAAAAAGkAAAAAAAAAcQAAAAAAAAB5AAAAAAAAAIEAAAAAAAAAhQGZmZmZmZiBAMzMzMzMzF0AAAAAAAAAhQDMzMzMzMxtAZmZmZmZmGkAzMzMzMzMZQDMzMzMzMxtAAAAAAAAAHkAzMzMzMzMfQJqZmZmZmSBAmpmZmZmZG0AzMzMzMzMiQAAAAAAAAB5AzczMzMzMIEDNzMzMzMwgQAAAAAAAABxAAAAAAAAAIUCamZmZmZkiQJqZmZmZmR1AZmZmZmZmGkBmZmZmZmYUQDMzMzMzMx9AzczMzMzMGkAzMzMzMzMgQM3MzMzMzCBAzczMzMzMIUDNzMzMzMweQDMzMzMzMxtAmpmZmZmZIEAAAAAAAAAIQM3MzMzMzBxAzczMzMzMIEAzMzMzMzMbQJqZmZmZmRtAZmZmZmZmIkBmZmZmZmYeQM3MzMzMzBpAzczMzMzMHkAzMzMzMzMTQAAAAAAAACFAMzMzMzMzG0BmZmZmZmYcQJqZmZmZmSBAZmZmZmZmFkAAAAAAAAAgQAAAAAAAACFAAAAAAAAAGEAzMzMzMzMZQAAAAAAAABpAMzMzMzMzH0CamZmZmZkhQAAAAAAAABxAMzMzMzMzIUDNzMzMzMwgQJqZmZmZmR1AMzMzMzMzH0AzMzMzMzMgQM3MzMzMzBZAAAAAAAAAHkCamZmZmZkgQAAAAAAAAB5AmpmZmZmZH0DNzMzMzMwhQDMzMzMzMyFAAAAAAAAAHEAzMzMzMzMhQGZmZmZmZiJAzczMzMzMIEAzMzMzMzMXQDMzMzMzMx1AZmZmZmZmGkAzMzMzMzMhQDMzMzMzMyFAmpmZmZmZF0AzMzMzMzMhQM3MzMzMzCFAAAAAAAAAFEBmZmZmZmYhQJqZmZmZmRdAZmZmZmZmEkCamZmZmZkfQDMzMzMzMyJAAAAAAAAAGkAzMzMzMzMgQJqZmZmZmSFAMzMzMzMzIECamZmZmZkiQJqZmZmZmSBAZmZmZmZmEkCamZmZmZkhQDMzMzMzMyBAmpmZmZmZIECamZmZmZkgQM3MzMzMzB5AZmZmZmZmHEAAAAAAAAAeQJqZmZmZmRtAMzMzMzMzG0AAAAAAAAAhQM3MzMzMzCBAAAAAAAAAHEBmZmZmZmYgQGZmZmZmZhpAMzMzMzMzGUDNzMzMzMwgQGZmZmZmZh5AAAAAAAAAIUCamZmZmZkgQM3MzMzMzB5AmpmZmZmZIEAzMzMzMzMfQJqZmZmZmRlAmpmZmZmZFUAzMzMzMzMPQGZmZmZmZiFAMzMzMzMzIUDNzMzMzMweQAAAAAAAACFAMzMzMzMzHUDNzMzMzMweQAAAAAAAACBAAAAAAAAAIEDNzMzMzMwgQM3MzMzMzCBAzczMzMzMGEAAAAAAAAAgQGZmZmZmZiBAAAAAAAAAEEAzMzMzMzMfQM3MzMzMzBRAMzMzMzMzIkDNzMzMzMwcQAAAAAAAACFAAAAAAAAAIkBmZmZmZmYcQDMzMzMzMxVAzczMzMzMIUCamZmZmZkbQGZmZmZmZiBAMzMzMzMzHUDNzMzMzMwQQDMzMzMzMyBAMzMzMzMzH0CamZmZmZkNQDMzMzMzMw9AZmZmZmZmGkBmZmZmZmYcQM3MzMzMzCBAMzMzMzMzH0AzMzMzMzMfQDMzMzMzMyBAZmZmZmZmIEAAAAAAAAAgQJqZmZmZmR9AAAAAAAAAHkAAAAAAAAAgQJqZmZmZmR9AMzMzMzMzIUCamZmZmZkfQDMzMzMzMyBAAAAAAAAAHkCamZmZmZkhQGZmZmZmZiBAZmZmZmZmGEAzMzMzMzMdQAAAAAAAABZAMzMzMzMzGUDNzMzMzMweQM3MzMzMzCBAmpmZmZmZGUDNzMzMzMweQDMzMzMzMx9AZmZmZmZmIECamZmZmZkdQAAAAAAAAB5AzczMzMzMIEDNzMzMzMwMQGZmZmZmZh5AmpmZmZmZHUAzMzMzMzMTQGZmZmZmZiBAAAAAAAAAHEAzMzMzMzMfQM3MzMzMzCBAmpmZmZmZIUAzMzMzMzMgQM3MzMzMzCBAMzMzMzMzIUAzMzMzMzMdQGZmZmZmZhJAzczMzMzMGEAAAAAAAAAeQM3MzMzMzB5AMzMzMzMzE0AAAAAAAAAcQDMzMzMzMyBAMzMzMzMzH0DNzMzMzMwgQGZmZmZmZhZAZmZmZmZmIEDNzMzMzMwcQAAAAAAAAB5AzczMzMzMIEDNzMzMzMwgQDMzMzMzMx9AZmZmZmZmHkDNzMzMzMwaQAAAAAAAABpAAAAAAAAAHEDNzMzMzMwgQJqZmZmZmRtAAAAAAAAAGkDNzMzMzMweQGZmZmZmZiFAZmZmZmZmGkBmZmZmZmYcQDMzMzMzMx1AAAAAAAAAHkAzMzMzMzMdQDMzMzMzMx9AAAAAAAAAGECamZmZmZkgQDMzMzMzMyJAMzMzMzMzGUBmZmZmZmYhQGZmZmZmZiBAmpmZmZmZGUCamZmZmZkdQDMzMzMzMyBAMzMzMzMzHUDNzMzMzMwhQGZmZmZmZiBAzczMzMzMIUBmZmZmZmYhQAAAAAAAACJAzczMzMzMIEAzMzMzMzMfQDMzMzMzMx1AMzMzMzMzIEAAAAAAAAAgQAAAAAAAABRAzczMzMzMHEDNzMzMzMwgQAAAAAAAABxAAAAAAAAAFkBmZmZmZmYWQJqZmZmZmRtAZmZmZmZmHkDNzMzMzMwcQJqZmZmZmR9AZmZmZmZmHkAAAAAAAAAaQJqZmZmZmRtAMzMzMzMzFUDNzMzMzMwcQGZmZmZmZiFAzczMzMzMHkDNzMzMzMweQJqZmZmZmSBAzczMzMzMGEDNzMzMzMwgQJqZmZmZmRlAAAAAAAAAFEAzMzMzMzMdQM3MzMzMzB5AmpmZmZmZGUCamZmZmZkRQAAAAAAAAB5AZmZmZmZmHkCamZmZmZkZQM3MzMzMzAxAzczMzMzMHkBmZmZmZmYYQDMzMzMzMxlAmpmZmZmZHUDNzMzMzMwWQGZmZmZmZhhAMzMzMzMzH0AzMzMzMzMXQAAAAAAAABpAMzMzMzMzIUBmZmZmZmYWQAAAAAAAABZAMzMzMzMzIEDNzMzMzMweQAAAAAAAAB5AmpmZmZmZH0AzMzMzMzMgQGZmZmZmZiBAZmZmZmZmIECamZmZmZkXQAAAAAAAABxAMzMzMzMzIEAzMzMzMzMfQJqZmZmZmR9AAAAAAAAAGEAzMzMzMzMVQGZmZmZmZhRAAAAAAAAAHkBmZmZmZmYaQDMzMzMzMyJAAAAAAAAAGEAzMzMzMzMZQGZmZmZmZiFAmpmZmZmZG0AAAAAAAAAaQDMzMzMzMxVAmpmZmZmZGUBmZmZmZmYcQJqZmZmZmRFAZmZmZmZmHkCamZmZmZkhQJqZmZmZmRdAMzMzMzMzGUBmZmZmZmYeQM3MzMzMzBhAAAAAAAAAIEAAAAAAAAAiQJqZmZmZmSFAZmZmZmZmHECamZmZmZkdQJqZmZmZmR9AMzMzMzMzHUAAAAAAAAAgQAAAAAAAABpAmpmZmZmZH0AzMzMzMzMRQAAAAAAAACFAmpmZmZmZHUAAAAAAAAAeQGZmZmZmZhxAMzMzMzMzIEDNzMzMzMwQQDMzMzMzMxtAzczMzMzMIUAzMzMzMzMgQGZmZmZmZhZAAAAAAAAAIEBmZmZmZmYgQDMzMzMzMx1AMzMzMzMzH0AzMzMzMzMZQAAAAAAAABpAZmZmZmZmIEBmZmZmZmYhQM3MzMzMzCBAAAAAAAAAIkBmZmZmZmYeQDMzMzMzMyJAmpmZmZmZHUCamZmZmZkdQAAAAAAAABxAAAAAAAAAGEAzMzMzMzMbQAAAAAAAABZAzczMzMzMHEAzMzMzMzMdQM3MzMzMzB5AzczMzMzMIECamZmZmZkhQJqZmZmZmSBAmpmZmZmZH0CamZmZmZkVQM3MzMzMzBpAmpmZmZmZE0BmZmZmZmYeQDMzMzMzMxtAmpmZmZmZH0CamZmZmZkNQJqZmZmZmSBAmpmZmZmZG0BmZmZmZmYSQAAAAAAAABpAmpmZmZmZIUBmZmZmZmYhQGZmZmZmZhhAzczMzMzMIEBmZmZmZmYgQDMzMzMzMyJAZmZmZmZmEECamZmZmZkfQAAAAAAAABxAAAAAAAAAIEBmZmZmZmYhQAAAAAAAAB5AMzMzMzMzG0AAAAAAAAAeQJqZmZmZmRtAzczMzMzMHEDNzMzMzMwgQJqZmZmZmSBAzczMzMzMGkBmZmZmZmYhQDMzMzMzMxtAAAAAAAAAHEAzMzMzMzMdQDMzMzMzMxtAZmZmZmZmIEAzMzMzMzMXQDMzMzMzMx1AZmZmZmZmIEDNzMzMzMwgQM3MzMzMzBxAzczMzMzMHEAzMzMzMzMhQAAAAAAAAB5AmpmZmZmZG0DNzMzMzMwaQGZmZmZmZhxAMzMzMzMzIkDNzMzMzMweQAAAAAAAABRAZmZmZmZmHkDNzMzMzMweQGZmZmZmZiBAZmZmZmZmIEDNzMzMzMwcQM3MzMzMzBJAMzMzMzMzIUBmZmZmZmYSQAAAAAAAABxAAAAAAAAAIECamZmZmZkdQM3MzMzMzBRAmpmZmZmZH0AzMzMzMzMfQJqZmZmZmR1AAAAAAAAAIUAzMzMzMzMVQGZmZmZmZhpAZmZmZmZmIUDNzMzMzMwcQGZmZmZmZhZAMzMzMzMzIECamZmZmZkdQM3MzMzMzB5AAAAAAAAAIUAAAAAAAAAhQJqZmZmZmRdAZmZmZmZmGkAzMzMzMzMhQAAAAAAAACBAZmZmZmZmHkBmZmZmZmYgQAAAAAAAACBAmpmZmZmZIEAAAAAAAAAgQJqZmZmZmSJAzczMzMzMHEBmZmZmZmYUQGZmZmZmZhBAZmZmZmZmGkDNzMzMzMwcQAAAAAAAABBAAAAAAAAAIkBmZmZmZmYhQDMzMzMzMxtAZmZmZmZmIUAzMzMzMzMgQGZmZmZmZgZAzczMzMzMHkAAAAAAAAAeQDMzMzMzMyFAMzMzMzMzH0DNzMzMzMwUQDMzMzMzMyFAAAAAAAAAGEAzMzMzMzMhQAAAAAAAABRAAAAAAAAAHEBmZmZmZmYgQAAAAAAAACFAMzMzMzMzG0AzMzMzMzMfQM3MzMzMzCBAMzMzMzMzFUCamZmZmZkhQM3MzMzMzAxAAAAAAAAAHkAAAAAAAAAWQDMzMzMzMyBAmpmZmZmZHUBmZmZmZmYcQDMzMzMzMxtAzczMzMzMIEAAAAAAAAAcQAAAAAAAACBAMzMzMzMzIEAzMzMzMzMhQM3MzMzMzBhAZmZmZmZmIUCamZmZmZkhQDMzMzMzMx9AZmZmZmZmIECamZmZmZkfQAAAAAAAABhAZmZmZmZmHECamZmZmZkhQDMzMzMzMxtAAAAAAAAAIUBmZmZmZmYeQDMzMzMzMx9AmpmZmZmZG0AAAAAAAAAgQGZmZmZmZiBAAAAAAAAAIUDNzMzMzMwUQGZmZmZmZh5AzczMzMzMGkBmZmZmZmYaQAAAAAAAABpAMzMzMzMzIUCamZmZmZkRQJqZmZmZmRFAmpmZmZmZFUDNzMzMzMwaQM3MzMzMzCFAZmZmZmZmIECamZmZmZkTQDMzMzMzMxdAmpmZmZmZGUCamZmZmZkbQM3MzMzMzAhAzczMzMzMHkAzMzMzMzMfQAAAAAAAAB5AmpmZmZmZG0AzMzMzMzMbQAAAAAAAACBAzczMzMzMGkAAAAAAAAAhQM3MzMzMzB5AzczMzMzMHEDNzMzMzMwcQAAAAAAAAB5AMzMzMzMzIECamZmZmZkXQAAAAAAAACBAZmZmZmZmIUAAAAAAAAAcQGZmZmZmZiBAZmZmZmZmHkAzMzMzMzMdQGZmZmZmZhxAmpmZmZmZIUAzMzMzMzMXQAAAAAAAABxAZmZmZmZmIEAzMzMzMzMZQDMzMzMzM/s/ZmZmZmZmIEAzMzMzMzMbQAAAAAAAACFAAAAAAAAAHkBmZmZmZmYeQAAAAAAAACBAZmZmZmZmIEAzMzMzMzMbQDMzMzMzMxtAzczMzMzMIEDNzMzMzMwYQAAAAAAAABxAmpmZmZmZIUCamZmZmZkfQAAAAAAAABJAzczMzMzMIUCamZmZmZkRQM3MzMzMzCFAAAAAAAAAFkBmZmZmZmYhQGZmZmZmZiBAmpmZmZmZF0AAAAAAAAAYQGZmZmZmZhpAmpmZmZmZH0BmZmZmZmYhQDMzMzMzMx9AMzMzMzMzG0AAAAAAAAAeQJqZmZmZmR9AmpmZmZmZG0DNzMzMzMweQGZmZmZmZhxAZmZmZmZmBkCamZmZmZkJQDMzMzMzMxdAMzMzMzMzGUBmZmZmZmYQQDMzMzMzMxNAmpmZmZmZG0AAAAAAAAAhQM3MzMzMzBZAZmZmZmZmHkBmZmZmZmYgQJqZmZmZmSFAZmZmZmZmIUAAAAAAAAAhQAAAAAAAABJAZmZmZmZmHkBmZmZmZmYcQJqZmZmZmRlAZmZmZmZmGkAAAAAAAAAYQDMzMzMzMxtAMzMzMzMzHUAAAAAAAAAhQGZmZmZmZh5AAAAAAAAAHkAAAAAAAAAgQM3MzMzMzBZAAAAAAAAAFEAzMzMzMzMgQJqZmZmZmSFAMzMzMzMzIUBmZmZmZmYWQGZmZmZmZiBAZmZmZmZmHEDNzMzMzMwSQAAAAAAAACFAMzMzMzMzIUAzMzMzMzMbQAAAAAAAACJAMzMzMzMzH0DNzMzMzMwWQAAAAAAAACFAmpmZmZmZIEAAAAAAAAAcQDMzMzMzMyFAmpmZmZmZIUAAAAAAAAAhQJqZmZmZmR1AzczMzMzMFkAAAAAAAAAUQDMzMzMzMxFAZmZmZmZmEkAAAAAAAAAiQDMzMzMzMx9AMzMzMzMzIEAzMzMzMzMdQJqZmZmZmSBAZmZmZmZmGkDNzMzMzMwaQM3MzMzMzCBAAAAAAAAAIUCamZmZmZkfQAAAAAAAAB5AmpmZmZmZHUBmZmZmZmYcQJqZmZmZmSBAAAAAAAAAGEDNzMzMzMwhQM3MzMzMzBxAmpmZmZmZIEAAAAAAAAAhQAAAAAAAACFAmpmZmZmZIEDNzMzMzMwIQJqZmZmZmRlAmpmZmZmZHUDNzMzMzMwaQGZmZmZmZh5AmpmZmZmZIUAzMzMzMzMZQAAAAAAAABxAMzMzMzMzHUCamZmZmZkhQGZmZmZmZgZAMzMzMzMzHUAzMzMzMzMdQM3MzMzMzBZAMzMzMzMzIUAAAAAAAAAcQDMzMzMzMxVAAAAAAAAAGEBmZmZmZmYgQM3MzMzMzBxAZmZmZmZmIUAzMzMzMzMVQGZmZmZmZh5AZmZmZmZmHkAAAAAAAAAgQDMzMzMzMx1AzczMzMzMFEDNzMzMzMwUQDMzMzMzMxlAzczMzMzMIECamZmZmZkhQGZmZmZmZhhAMzMzMzMzIEAzMzMzMzMdQAAAAAAAAB5AAAAAAAAAIEAAAAAAAAAeQGZmZmZmZiFAAAAAAAAAIkAAAAAAAAAeQM3MzMzMzBxAMzMzMzMzF0DNzMzMzMweQGZmZmZmZh5AmpmZmZmZFUAAAAAAAAAYQAAAAAAAABxAmpmZmZmZIEAzMzMzMzMZQGZmZmZmZiFAzczMzMzMGECamZmZmZkgQDMzMzMzMw9AZmZmZmZmHkBmZmZmZmYgQGZmZmZmZhJAzczMzMzMIEAAAAAAAAAcQJqZmZmZmR9AmpmZmZmZIEAzMzMzMzMfQJqZmZmZmR1AMzMzMzMzGUDNzMzMzMwWQJqZmZmZmRVAZmZmZmZmFEAAAAAAAAAhQGZmZmZmZh5AZmZmZmZmIUAzMzMzMzMfQGZmZmZmZiFAmpmZmZmZIUBmZmZmZmYeQAAAAAAAABpAAAAAAAAAGECamZmZmZkdQDMzMzMzMyBAAAAAAAAAIkDNzMzMzMwhQGZmZmZmZiBAmpmZmZmZIUAzMzMzMzMXQAAAAAAAABhAMzMzMzMzGUAzMzMzMzMgQDMzMzMzMxdAMzMzMzMzGUBmZmZmZmYaQM3MzMzMzB5AAAAAAAAAHEAzMzMzMzMhQM3MzMzMzBpAZmZmZmZmHEAAAAAAAAAcQDMzMzMzMx1AmpmZmZmZG0BmZmZmZmYaQDMzMzMzMxdAAAAAAAAADEDNzMzMzMwcQDMzMzMzMw9AmpmZmZmZHUAzMzMzMzMfQM3MzMzMzBJAzczMzMzMGkAAAAAAAAAcQJqZmZmZmR9AmpmZmZmZGUCamZmZmZkXQJqZmZmZmSBAmpmZmZmZG0AzMzMzMzMZQM3MzMzMzBpAZmZmZmZmDkBmZmZmZmYgQM3MzMzMzBRAMzMzMzMzIECamZmZmZkdQAAAAAAAACFAZmZmZmZmIEAAAAAAAAAWQJqZmZmZmSBAMzMzMzMzHUBmZmZmZmYhQGZmZmZmZhxAMzMzMzMzG0AzMzMzMzMfQJqZmZmZmRdAMzMzMzMzIECamZmZmZkdQM3MzMzMzB5AzczMzMzMHkCamZmZmZkfQJqZmZmZmQVAZmZmZmZmHkAAAAAAAAAeQAAAAAAAACJAAAAAAAAAIUCamZmZmZkgQM3MzMzMzBZAmpmZmZmZHUAAAAAAAAAeQAAAAAAAACBAmpmZmZmZH0CamZmZmZkgQM3MzMzMzBpAMzMzMzMzF0CamZmZmZkfQDMzMzMzMyFAMzMzMzMzH0AAAAAAAAAWQGZmZmZmZiFAAAAAAAAAIUCamZmZmZkhQJqZmZmZmR1AmpmZmZmZGUAzMzMzMzMZQDMzMzMzMyBAAAAAAAAAGEAAAAAAAAAcQJqZmZmZmR9AmpmZmZmZHUAAAAAAAAAhQGZmZmZmZhxAZmZmZmZmHECamZmZmZkiQAAAAAAAACFAAAAAAAAAIUBmZmZmZmYhQM3MzMzMzBhAZmZmZmZmHEAzMzMzMzMZQAAAAAAAAB5AzczMzMzMIEAzMzMzMzMbQM3MzMzMzCFAZmZmZmZmIUBmZmZmZmYeQJqZmZmZmRdAMzMzMzMzE0BmZmZmZmYgQM3MzMzMzB5AAAAAAAAAFkDNzMzMzMwcQDMzMzMzMxVAmpmZmZmZBUCamZmZmZkVQM3MzMzMzCBAZmZmZmZmIEBmZmZmZmYhQAAAAAAAAB5AAAAAAAAAIEBmZmZmZmYeQM3MzMzMzBhAzczMzMzMIECamZmZmZkbQJqZmZmZmSBAMzMzMzMzIkAAAAAAAAAYQM3MzMzMzBxAMzMzMzMzG0AzMzMzMzMhQDMzMzMzMxVAzczMzMzMIEBmZmZmZmYOQGZmZmZmZhxAMzMzMzMzH0AzMzMzMzMXQGZmZmZmZiBAAAAAAAAAIEDNzMzMzMwgQJqZmZmZmRtAZmZmZmZmGkAzMzMzMzMfQAAAAAAAABxAmpmZmZmZG0AAAAAAAAAUQGZmZmZmZiFAMzMzMzMzE0CamZmZmZkbQGZmZmZmZhZAZmZmZmZmFEBmZmZmZmYhQM3MzMzMzBJAZmZmZmZmGkAAAAAAAAAgQDMzMzMzMyJAzczMzMzMIUAzMzMzMzMfQJqZmZmZmRlAzczMzMzMIUAAAAAAAAAhQJqZmZmZmSJAZmZmZmZmEECamZmZmZkfQM3MzMzMzBpAMzMzMzMzGUAzMzMzMzMiQDMzMzMzMwtAZmZmZmZmFkCamZmZmZkhQAAAAAAAACFAzczMzMzMFEDNzMzMzMwcQGZmZmZmZiFAAAAAAAAAHkBmZmZmZmYaQDMzMzMzMyJAMzMzMzMzF0AzMzMzMzMhQGZmZmZmZh5AmpmZmZmZIECamZmZmZkhQGZmZmZmZhxAMzMzMzMzIEAzMzMzMzMRQM3MzMzMzABAAAAAAAAAIEAAAAAAAAAYQAAAAAAAABpAmpmZmZmZH0BmZmZmZmYeQM3MzMzMzBpAMzMzMzMzHUAzMzMzMzMdQM3MzMzMzBxAMzMzMzMzGUAzMzMzMzMhQM3MzMzMzBxAMzMzMzMzHUCamZmZmZkfQDMzMzMzMxtAAAAAAAAAIEAzMzMzMzMgQAAAAAAAABxAzczMzMzMGEBmZmZmZmYhQAAAAAAAABpAZmZmZmZmHEAzMzMzMzMbQGZmZmZmZhpAMzMzMzMzFUBmZmZmZmYgQAAAAAAAABhAzczMzMzMHkCamZmZmZkgQDMzMzMzMyBAMzMzMzMzF0AzMzMzMzMhQDMzMzMzMx9AZmZmZmZmIECamZmZmZkVQJqZmZmZmRlAMzMzMzMzF0BmZmZmZmYhQJqZmZmZmSBAzczMzMzMHkCamZmZmZkgQDMzMzMzMyJAZmZmZmZmHkBmZmZmZmYgQDMzMzMzMyFAzczMzMzMGEAzMzMzMzMbQM3MzMzMzBpAZmZmZmZmHkDNzMzMzMwgQAAAAAAAABhAzczMzMzMGkDNzMzMzMwYQAAAAAAAACBAAAAAAAAAHkAzMzMzMzMhQAAAAAAAACJAAAAAAAAAIkBmZmZmZmYgQDMzMzMzMyFAmpmZmZmZFUCamZmZmZkZQGZmZmZmZh5AAAAAAAAAIUCamZmZmZkfQGZmZmZmZhpAzczMzMzMIUCamZmZmZkhQM3MzMzMzB5AZmZmZmZmGkDNzMzMzMweQM3MzMzMzCBAzczMzMzMHkAzMzMzMzMfQJqZmZmZmRVAZmZmZmZmIUAzMzMzMzMgQDMzMzMzMyBAZmZmZmZmHECamZmZmZkbQJqZmZmZmSBAZmZmZmZmIECamZmZmZkNQM3MzMzMzBZAMzMzMzMzF0BmZmZmZmYeQAAAAAAAACFAZmZmZmZmIEBmZmZmZmYSQDMzMzMzMx9AmpmZmZmZHUCamZmZmZkdQDMzMzMzMxlAAAAAAAAAIUBmZmZmZmYYQGZmZmZmZhZAmpmZmZmZIECamZmZmZkgQDMzMzMzMxdAzczMzMzMIUDNzMzMzMwUQJqZmZmZmR1AMzMzMzMzHUBmZmZmZmYcQM3MzMzMzBxAmpmZmZmZH0CamZmZmZkiQJqZmZmZmR9AzczMzMzMHECamZmZmZkhQGZmZmZmZiFAZmZmZmZmHkDNzMzMzMwgQM3MzMzMzBxAAAAAAAAAHEDNzMzMzMwgQM3MzMzMzBZAzczMzMzMIEAAAAAAAAAeQM3MzMzMzCBAAAAAAAAAHkCamZmZmZkbQDMzMzMzMx9AMzMzMzMzGUDNzMzMzMwWQAAAAAAAACFAMzMzMzMzE0AzMzMzMzMfQAAAAAAAABhAMzMzMzMzIUAAAAAAAAAgQJqZmZmZmSBAMzMzMzMzHUAAAAAAAAAeQGZmZmZmZiBAmpmZmZmZG0BmZmZmZmYeQJqZmZmZmR9AmpmZmZmZIUCamZmZmZkbQAAAAAAAACBAZmZmZmZmIUCamZmZmZkfQJqZmZmZmR1AZmZmZmZmIUCamZmZmZkVQM3MzMzMzBxAmpmZmZmZGUAAAAAAAAAWQGZmZmZmZhpAZmZmZmZmIECamZmZmZkhQJqZmZmZmSJAMzMzMzMzGUBmZmZmZmYWQGZmZmZmZhZAZmZmZmZmHkBmZmZmZmYhQAAAAAAAAB5AzczMzMzMIUAAAAAAAAAgQAAAAAAAAB5AMzMzMzMzG0AzMzMzMzMgQGZmZmZmZhpAMzMzMzMzH0CamZmZmZkfQM3MzMzMzCBAMzMzMzMzIEDNzMzMzMweQJqZmZmZmR9AMzMzMzMzHUAzMzMzMzMTQGZmZmZmZhpAmpmZmZmZHUCamZmZmZkhQM3MzMzMzAxAzczMzMzMFEAzMzMzMzMhQM3MzMzMzBxAAAAAAAAAHEBmZmZmZmYcQGZmZmZmZg5AMzMzMzMzIUDNzMzMzMwMQGZmZmZmZgpAAAAAAAAAGEAzMzMzMzMgQJqZmZmZmSBAMzMzMzMz+z8AAAAAAAAiQGZmZmZmZhZAAAAAAAAAIEDNzMzMzMwAQJqZmZmZmR1AAAAAAAAAGECamZmZmZkdQGZmZmZmZhpAzczMzMzMIUCamZmZmZkbQAAAAAAAACFAAAAAAAAAGkBmZmZmZmYYQAAAAAAAABhAMzMzMzMzA0DNzMzMzMwcQDMzMzMzMxVAMzMzMzMzH0AzMzMzMzMXQM3MzMzMzBhAMzMzMzMzH0AzMzMzMzMdQJqZmZmZmSBAzczMzMzMIUDNzMzMzMwgQAAAAAAAAB5AAAAAAAAAEkBmZmZmZmYQQJqZmZmZmSBAZmZmZmZmGkAzMzMzMzMbQJqZmZmZmR9AZmZmZmZmIEBmZmZmZmYOQAAAAAAAACFAAAAAAAAAIUAzMzMzMzMdQGZmZmZmZiBAZmZmZmZmIEAAAAAAAAAWQAAAAAAAABxAzczMzMzMIUBmZmZmZmYaQJqZmZmZmRdAMzMzMzMzF0AAAAAAAAAeQGZmZmZmZiBAMzMzMzMzHUAzMzMzMzMdQDMzMzMzMxVAmpmZmZmZH0AzMzMzMzMhQDMzMzMzMxVAzczMzMzMIUCamZmZmZkdQAAAAAAAAB5AzczMzMzMHkBmZmZmZmYYQGZmZmZmZh5AAAAAAAAAIEAAAAAAAAAgQAAAAAAAABxAAAAAAAAAI0DNzMzMzMwgQAAAAAAAABxAmpmZmZmZIEAAAAAAAAAcQAAAAAAAABZAmpmZmZmZHUCamZmZmZkRQAAAAAAAACJAMzMzMzMzHUAzMzMzMzMbQDMzMzMzMyFAZmZmZmZmIUAzMzMzMzMZQDMzMzMzMxdAAAAAAAAAIECamZmZmZkhQGZmZmZmZiBAmpmZmZmZFUCamZmZmZkbQM3MzMzMzBRAzczMzMzMIEDNzMzMzMwgQM3MzMzMzB5AAAAAAAAAIkAzMzMzMzMdQDMzMzMzMxtAmpmZmZmZGUBmZmZmZmYWQGZmZmZmZh5AAAAAAAAAIUAAAAAAAAAYQM3MzMzMzB5AmpmZmZmZIUAzMzMzMzMdQJqZmZmZmSBAmpmZmZmZFUAzMzMzMzMgQM3MzMzMzBZAZmZmZmZmGkBmZmZmZmYcQAAAAAAAACFAZmZmZmZmIEAzMzMzMzMdQGZmZmZmZiBAAAAAAAAAIECamZmZmZkhQM3MzMzMzCBAzczMzMzMHkAzMzMzMzMfQDMzMzMzMyBAZmZmZmZmIEDNzMzMzMwYQAAAAAAAABhAAAAAAAAAIEAzMzMzMzMfQJqZmZmZmR1AmpmZmZmZDUDNzMzMzMwcQAAAAAAAACFAMzMzMzMzG0AzMzMzMzMZQGZmZmZmZhRAzczMzMzMIEAzMzMzMzMdQDMzMzMzMyBAAAAAAAAAFkDNzMzMzMwMQJqZmZmZmRVAZmZmZmZmIUDNzMzMzMwYQDMzMzMzMyBAmpmZmZmZIUAzMzMzMzMhQAAAAAAAAB5AMzMzMzMzIEDNzMzMzMwhQAAAAAAAABpAmpmZmZmZIEDNzMzMzMwUQJqZmZmZmQ1AAAAAAAAAIkCamZmZmZkfQM3MzMzMzB5AzczMzMzMFkAzMzMzMzMgQJqZmZmZmSBAZmZmZmZmIEDNzMzMzMwQQGZmZmZmZiBAmpmZmZmZIUAAAAAAAAAhQAAAAAAAACBAzczMzMzMGEAzMzMzMzMTQAAAAAAAACJAzczMzMzMIEAAAAAAAAAeQM3MzMzMzCBAZmZmZmZmFkAAAAAAAAAhQM3MzMzMzCBAMzMzMzMzE0CamZmZmZkfQJqZmZmZmR1AAAAAAAAAHEBmZmZmZmYeQAAAAAAAACFAzczMzMzMGkBmZmZmZmYaQAAAAAAAACBAZmZmZmZmGEDNzMzMzMwaQAAAAAAAABxAMzMzMzMzHUAzMzMzMzMfQDMzMzMzMx9AzczMzMzMHECamZmZmZkbQJqZmZmZmSBAzczMzMzMEkDNzMzMzMwUQDMzMzMzMyFAmpmZmZmZF0AAAAAAAAAeQM3MzMzMzCFAAAAAAAAAHkDNzMzMzMwaQDMzMzMzMx9AAAAAAAAAHkCamZmZmZkgQGZmZmZmZhxAMzMzMzMzF0DNzMzMzMwgQDMzMzMzMx1AZmZmZmZmGkBmZmZmZmYcQAAAAAAAABpAmpmZmZmZE0AzMzMzMzMPQGZmZmZmZh5AAAAAAAAAHkBmZmZmZmYWQM3MzMzMzB5AMzMzMzMzHUAzMzMzMzMfQM3MzMzMzB5AMzMzMzMzF0AzMzMzMzMiQAAAAAAAABxAZmZmZmZmIUDNzMzMzMwaQM3MzMzMzBxAmpmZmZmZIEAAAAAAAAAaQM3MzMzMzBJAMzMzMzMzF0CamZmZmZkZQDMzMzMzMyBAZmZmZmZmIUAzMzMzMzMXQAAAAAAAABhAzczMzMzMDEAzMzMzMzMgQJqZmZmZmRdAZmZmZmZmFEAAAAAAAAAeQJqZmZmZmRVAzczMzMzMHEAAAAAAAAAhQAAAAAAAACJAmpmZmZmZF0AzMzMzMzMhQDMzMzMzMx9AMzMzMzMzIkBmZmZmZmYcQM3MzMzMzBZAmpmZmZmZFUAzMzMzMzMVQAAAAAAAABRAZmZmZmZmIUAAAAAAAAAeQM3MzMzMzCBAmpmZmZmZF0AAAAAAAAAhQDMzMzMzMxFAMzMzMzMzG0CamZmZmZkhQDMzMzMzMxtAZmZmZmZmGkCamZmZmZkgQJqZmZmZmQ1AAAAAAAAAIEAAAAAAAAAaQJqZmZmZmRlAMzMzMzMzF0BmZmZmZmYaQAAAAAAAABhAMzMzMzMzG0AzMzMzMzMgQDMzMzMzMyBAAAAAAAAAIkAAAAAAAAAcQDMzMzMzMx1AZmZmZmZmHkDNzMzMzMweQM3MzMzMzCBAzczMzMzMIUCamZmZmZkfQJqZmZmZmSBAAAAAAAAAHECamZmZmZkgQJqZmZmZmR1AMzMzMzMzGUDNzMzMzMwWQM3MzMzMzBpAZmZmZmZmGEAzMzMzMzMdQGZmZmZmZiBAzczMzMzMIECamZmZmZkZQDMzMzMzMxtAAAAAAAAAHEBmZmZmZmYgQAAAAAAAACFAMzMzMzMzHUCamZmZmZkZQAAAAAAAACFAZmZmZmZmFkCamZmZmZkdQM3MzMzMzBhAmpmZmZmZIUAzMzMzMzMgQAAAAAAAAB5AzczMzMzMIUAzMzMzMzMbQGZmZmZmZiBAZmZmZmZmGkDNzMzMzMwWQDMzMzMzMyFAZmZmZmZmIEDNzMzMzMwcQGZmZmZmZh5AMzMzMzMzH0BmZmZmZmYaQAAAAAAAAAxAAAAAAAAAEkAAAAAAAAAWQGZmZmZmZhxAAAAAAAAAIkAzMzMzMzMXQJqZmZmZmRtAzczMzMzMIUCamZmZmZkfQGZmZmZmZiFAzczMzMzMGkDNzMzMzMwgQDMzMzMzMxdAmpmZmZmZH0DNzMzMzMwgQJqZmZmZmR1AMzMzMzMzIUAzMzMzMzMiQJqZmZmZmRtAZmZmZmZmGkAzMzMzMzMbQAAAAAAAACJAmpmZmZmZHUBmZmZmZmYaQM3MzMzMzCBAzczMzMzMGEAAAAAAAAAhQAAAAAAAABpAzczMzMzMIEBmZmZmZmYcQAAAAAAAAB5AZmZmZmZmHkAzMzMzMzMgQDMzMzMzMyBAMzMzMzMzH0DNzMzMzMwMQGZmZmZmZiBAAAAAAAAAGEAzMzMzMzMhQJqZmZmZmR9AzczMzMzMHkAAAAAAAAAhQM3MzMzMzCBAmpmZmZmZHUCamZmZmZkhQDMzMzMzMyBAmpmZmZmZH0AzMzMzMzMhQAAAAAAAACFAzczMzMzMHEBmZmZmZmYSQDMzMzMzMx9AAAAAAAAAHkDNzMzMzMwUQAAAAAAAAAxAzczMzMzMHkBmZmZmZmYWQJqZmZmZmRtAZmZmZmZmHECamZmZmZkZQGZmZmZmZiFAAAAAAAAAHkAzMzMzMzMZQM3MzMzMzBpAZmZmZmZmHEDNzMzMzMwYQAAAAAAAACBAmpmZmZmZH0BmZmZmZmYhQGZmZmZmZiBAAAAAAAAAIUBmZmZmZmYOQM3MzMzMzCBAmpmZmZmZF0CamZmZmZkdQJqZmZmZmSBAAAAAAAAAGkBmZmZmZmYaQDMzMzMzMx1AZmZmZmZmGEAzMzMzMzMhQGZmZmZmZgpAMzMzMzMzG0AAAAAAAAAhQGZmZmZmZhxAmpmZmZmZG0DNzMzMzMwaQGZmZmZmZiFAzczMzMzMGEAzMzMzMzMfQAAAAAAAAB5AmpmZmZmZGUCamZmZmZkdQGZmZmZmZhxAMzMzMzMzG0CamZmZmZkfQJqZmZmZmRVAmpmZmZmZHUBmZmZmZmYaQAAAAAAAAB5AmpmZmZmZH0DNzMzMzMwcQGZmZmZmZhhAMzMzMzMzG0BmZmZmZmYYQGZmZmZmZhxAzczMzMzMEkAAAAAAAAAgQM3MzMzMzB5AzczMzMzMGECamZmZmZkTQAAAAAAAABRAmpmZmZmZEUAzMzMzMzMdQDMzMzMzMxlAmpmZmZmZHUAzMzMzMzMVQGZmZmZmZiBAAAAAAAAAIEAAAAAAAAAcQGZmZmZmZiFAMzMzMzMzIUBmZmZmZmYcQM3MzMzMzBhAAAAAAAAAGkCamZmZmZkZQDMzMzMzMx1AmpmZmZmZH0AAAAAAAAAWQJqZmZmZmSFAMzMzMzMzE0BmZmZmZmYeQDMzMzMzMyBAMzMzMzMzH0AzMzMzMzMiQAAAAAAAAB5AzczMzMzMIUAzMzMzMzMhQAAAAAAAABRAAAAAAAAAFkAAAAAAAAAWQDMzMzMzMyFAmpmZmZmZG0CamZmZmZkdQM3MzMzMzBBAZmZmZmZmFEDNzMzMzMweQAAAAAAAACBAzczMzMzMHkCamZmZmZkgQM3MzMzMzBhAzczMzMzMHkAAAAAAAAAgQDMzMzMzMx1AAAAAAAAAIUBmZmZmZmYYQDMzMzMzMxVAZmZmZmZmHEAAAAAAAAAaQGZmZmZmZiJAmpmZmZmZHUAAAAAAAAAgQAAAAAAAABBAzczMzMzMFEAAAAAAAAAQQJqZmZmZmRVAMzMzMzMzIEAzMzMzMzMZQGZmZmZmZhhAmpmZmZmZH0DNzMzMzMwYQAAAAAAAABxAzczMzMzMGEBmZmZmZmYcQJqZmZmZmR1AzczMzMzMFEBmZmZmZmYgQJqZmZmZmSBAMzMzMzMzD0DNzMzMzMweQM3MzMzMzBZAMzMzMzMzIkAzMzMzMzMTQJqZmZmZmR9AZmZmZmZmGkAzMzMzMzMfQDMzMzMzMx1AmpmZmZmZHUDNzMzMzMwgQJqZmZmZmQVAzczMzMzMEkAAAAAAAAAWQDMzMzMzMxtAmpmZmZmZFUAAAAAAAAAUQDMzMzMzMxFAAAAAAAAAHkDNzMzMzMwYQJqZmZmZmRVAZmZmZmZmIEAzMzMzMzMgQJqZmZmZmRlAzczMzMzMIEAzMzMzMzMbQGZmZmZmZiBAAAAAAAAAHkAAAAAAAAAcQDMzMzMzMyBAAAAAAAAAGkBmZmZmZmYWQDMzMzMzMyJAMzMzMzMzIkAzMzMzMzMXQJqZmZmZmR9AAAAAAAAAGEDNzMzMzMwYQJqZmZmZmSFAMzMzMzMzIkAAAAAAAAAeQAAAAAAAACBAAAAAAAAAHkAzMzMzMzMLQM3MzMzMzBxAAAAAAAAAGkAAAAAAAAAeQDMzMzMzMx9AZmZmZmZmIUDNzMzMzMwYQAAAAAAAABxAmpmZmZmZGUAAAAAAAAAgQDMzMzMzMx9AZmZmZmZmHEDNzMzMzMwcQDMzMzMzMx9AZmZmZmZmFEAzMzMzMzMbQDMzMzMzMyFAAAAAAAAAFEDNzMzMzMweQM3MzMzMzBRAzczMzMzMFkAzMzMzMzMXQGZmZmZmZhZAzczMzMzMFECamZmZmZkbQJqZmZmZmSBAMzMzMzMzGUAzMzMzMzMbQAAAAAAAABZAZmZmZmZmIEAAAAAAAAAaQDMzMzMzMx9AZmZmZmZmHECamZmZmZkdQAAAAAAAACJAzczMzMzMIEDNzMzMzMwaQAAAAAAAAB5AzczMzMzMGEAAAAAAAAAhQAAAAAAAACBAMzMzMzMzIEBmZmZmZmYgQDMzMzMzMyFAMzMzMzMzIECamZmZmZkfQAAAAAAAACFAMzMzMzMzH0DNzMzMzMwaQDMzMzMzMxFAmpmZmZmZE0CamZmZmZkVQGZmZmZmZiBAMzMzMzMzHUCamZmZmZkXQM3MzMzMzBpAZmZmZmZmIkCamZmZmZkfQGZmZmZmZhBAAAAAAAAAHEDNzMzMzMwgQDMzMzMzMx9AMzMzMzMzHUAAAAAAAAAcQAAAAAAAACFAmpmZmZmZFUBmZmZmZmYiQJqZmZmZmSFAZmZmZmZmFkAAAAAAAAAiQDMzMzMzMx9AzczMzMzMIEDNzMzMzMwIQM3MzMzMzBxAAAAAAAAAHEBmZmZmZmYYQAAAAAAAACBAZmZmZmZmFkAzMzMzMzMZQAAAAAAAACJAMzMzMzMzH0BmZmZmZmYeQM3MzMzMzB5AMzMzMzMzHUAAAAAAAAAcQM3MzMzMzBRAmpmZmZmZH0CamZmZmZkVQAAAAAAAACFAAAAAAAAAIECamZmZmZkhQGZmZmZmZhZAMzMzMzMzHUCamZmZmZkgQDMzMzMzMx9AZmZmZmZmFkAzMzMzMzMRQAAAAAAAABxAMzMzMzMzF0AAAAAAAAAcQAAAAAAAABxAZmZmZmZmFkAAAAAAAAAiQJqZmZmZmR9AZmZmZmZmFkAzMzMzMzMbQDMzMzMzMxNAAAAAAAAAIUCamZmZmZkgQJqZmZmZmRdAMzMzMzMzH0BmZmZmZmYWQAAAAAAAACBAzczMzMzMGkBmZmZmZmYgQJqZmZmZmR9AmpmZmZmZIEAzMzMzMzMbQDMzMzMzMxtAmpmZmZmZFUBmZmZmZmYgQGZmZmZmZhxAZmZmZmZmGkCamZmZmZkhQDMzMzMzMx1AMzMzMzMzG0CamZmZmZkgQAAAAAAAABhAmpmZmZmZHUAzMzMzMzMfQDMzMzMzMx9AAAAAAAAAFEDNzMzMzMwYQAAAAAAAABhAAAAAAAAAAEAAAAAAAAAgQAAAAAAAABBAMzMzMzMzG0AAAAAAAAAgQJqZmZmZmRtAAAAAAAAAIEDNzMzMzMwcQGZmZmZmZiBAZmZmZmZmFkAzMzMzMzMhQAAAAAAAABpAmpmZmZmZHUDNzMzMzMweQM3MzMzMzBpAAAAAAAAADEAAAAAAAAAeQAAAAAAAAB5AZmZmZmZmDkAAAAAAAAAcQDMzMzMzMyFAZmZmZmZmHEDNzMzMzMweQGZmZmZmZiFAzczMzMzMHkDNzMzMzMwYQM3MzMzMzBxAzczMzMzMFECamZmZmZkZQJqZmZmZmSFAAAAAAAAAHkBmZmZmZmYeQAAAAAAAABpAAAAAAAAAEEAzMzMzMzMXQDMzMzMzMyBAMzMzMzMzIEAzMzMzMzMfQJqZmZmZmRdAmpmZmZmZIEBmZmZmZmYgQDMzMzMzMx9AzczMzMzMIEAzMzMzMzMhQM3MzMzMzCBAAAAAAAAAHECamZmZmZkZQM3MzMzMzCBAZmZmZmZmHkCamZmZmZkbQAAAAAAAACBAzczMzMzMEECamZmZmZkdQGZmZmZmZiFAAAAAAAAAFEAzMzMzMzMTQAAAAAAAABxAmpmZmZmZGUAzMzMzMzMdQM3MzMzMzCFAMzMzMzMzFUBmZmZmZmYgQGZmZmZmZhBAMzMzMzMzB0BmZmZmZmYcQDMzMzMzMxtAZmZmZmZmIEBmZmZmZmYhQDMzMzMzMxtAMzMzMzMzIEBmZmZmZmYeQJqZmZmZmR9AZmZmZmZmHECamZmZmZkfQAAAAAAAACBAmpmZmZmZIEDNzMzMzMwSQM3MzMzMzB5AMzMzMzMzA0BmZmZmZmYcQGZmZmZmZhpAZmZmZmZmHEAzMzMzMzMhQAAAAAAAACFAAAAAAAAAGkCamZmZmZkfQJqZmZmZmR1AMzMzMzMzH0CamZmZmZkfQDMzMzMzMx9AAAAAAAAA+D9mZmZmZmYaQAAAAAAAACFAAAAAAAAAFkAAAAAAAAAaQAAAAAAAAB5AAAAAAAAAHEBmZmZmZmYaQJqZmZmZmRlAmpmZmZmZG0AzMzMzMzMfQAAAAAAAABZAMzMzMzMzH0AzMzMzMzMTQJqZmZmZmR1AmpmZmZmZHUBmZmZmZmYgQGZmZmZmZhRAMzMzMzMzIUDNzMzMzMwcQM3MzMzMzBZAAAAAAAAAHkAzMzMzMzMiQAAAAAAAACFAMzMzMzMzFUBmZmZmZmYGQJqZmZmZmR1AAAAAAAAAIUAzMzMzMzMVQDMzMzMzMxtAMzMzMzMzH0AzMzMzMzMdQM3MzMzMzCFAAAAAAAAAHkCamZmZmZkXQGZmZmZmZh5AAAAAAAAAHkDNzMzMzMwYQGZmZmZmZiJAzczMzMzMHEBmZmZmZmYeQGZmZmZmZh5AMzMzMzMzGUAAAAAAAAAcQDMzMzMzMxdAMzMzMzMzFUCamZmZmZkRQM3MzMzMzAhAmpmZmZmZDUDNzMzMzMwcQDMzMzMzMx1AZmZmZmZmIEAzMzMzMzMhQDMzMzMzMxNAMzMzMzMzHUBmZmZmZmYaQAAAAAAAACJAmpmZmZmZGUAAAAAAAAAiQAAAAAAAABhAAAAAAAAAHEAAAAAAAAAaQJqZmZmZmR1AzczMzMzMHkBmZmZmZmYcQJqZmZmZmRdAzczMzMzMGkBmZmZmZmYYQJqZmZmZmSFAZmZmZmZmGECamZmZmZkfQJqZmZmZmSFAZmZmZmZmHEAAAAAAAAAcQJqZmZmZmSFAAAAAAAAAHEAAAAAAAAAgQAAAAAAAABxAZmZmZmZmIECamZmZmZkgQDMzMzMzMyBAmpmZmZmZGUAzMzMzMzMbQGZmZmZmZhZAZmZmZmZmGEBmZmZmZmYUQAAAAAAAAB5AZmZmZmZmHECamZmZmZkfQAAAAAAAACBAMzMzMzMzG0BmZmZmZmYaQM3MzMzMzBxAmpmZmZmZH0CamZmZmZkgQDMzMzMzMyFAmpmZmZmZHUCamZmZmZkhQAAAAAAAAB5AMzMzMzMzIEDNzMzMzMwAQDMzMzMzMxtAmpmZmZmZH0AAAAAAAAAQQGZmZmZmZiBAAAAAAAAAIEAzMzMzMzMfQDMzMzMzMxFAAAAAAAAAGkBmZmZmZmYiQAAAAAAAACFAAAAAAAAAHkCamZmZmZkRQDMzMzMzMxlAzczMzMzMIUCamZmZmZkdQJqZmZmZmSFAMzMzMzMzA0AzMzMzMzMdQDMzMzMzMx1AmpmZmZmZHUAzMzMzMzMdQJqZmZmZmR9AAAAAAAAAGEAAAAAAAAAcQJqZmZmZmRdAzczMzMzMIECamZmZmZkXQJqZmZmZmRtAZmZmZmZmHkBmZmZmZmYcQM3MzMzMzARAzczMzMzMIUCamZmZmZkbQJqZmZmZmRNAmpmZmZmZCUCamZmZmZkgQJqZmZmZmR9AAAAAAAAAGkCamZmZmZkZQAAAAAAAAAhAzczMzMzMIEAAAAAAAAASQAAAAAAAAB5AzczMzMzMIUBmZmZmZmYcQAAAAAAAABhAzczMzMzMGEAzMzMzMzMVQAAAAAAAACFAZmZmZmZmGEAAAAAAAAAiQAAAAAAAAB5AAAAAAAAAIkAAAAAAAAAYQM3MzMzMzCBAMzMzMzMzIEBmZmZmZmYWQDMzMzMzMx9AMzMzMzMzIUBmZmZmZmYSQDMzMzMzMx9AMzMzMzMzIUAAAAAAAAAcQJqZmZmZmRFAMzMzMzMzGUAAAAAAAAAcQDMzMzMzMx9AAAAAAAAAIUAzMzMzMzMgQJqZmZmZmR9AzczMzMzMIEAzMzMzMzMdQJqZmZmZmR1AAAAAAAAAIUAzMzMzMzMhQAAAAAAAACFAAAAAAAAAIEDNzMzMzMwcQDMzMzMzMyFAMzMzMzMzEUAAAAAAAAAeQDMzMzMzMx1AZmZmZmZmHkCamZmZmZkhQAAAAAAAAB5AMzMzMzMzHUAAAAAAAAAgQGZmZmZmZhBAmpmZmZmZGUBmZmZmZmYeQDMzMzMzMxtAAAAAAAAAHkCamZmZmZkdQAAAAAAAACFAAAAAAAAAGkDNzMzMzMwIQAAAAAAAACBAMzMzMzMzHUBmZmZmZmYWQDMzMzMzMyJAMzMzMzMzG0BmZmZmZmYgQM3MzMzMzBxAMzMzMzMzIEAzMzMzMzMdQAAAAAAAACJAZmZmZmZmIEAzMzMzMzMVQJqZmZmZmR1AAAAAAAAAHkAAAAAAAAAcQAAAAAAAABxAAAAAAAAAIUCamZmZmZkRQM3MzMzMzBBAMzMzMzMzG0AzMzMzMzMZQM3MzMzMzB5AZmZmZmZmHECamZmZmZkgQJqZmZmZmRlAAAAAAAAAIUCamZmZmZkdQM3MzMzMzCBAzczMzMzMIUCamZmZmZkRQJqZmZmZmRlAAAAAAAAAHkBmZmZmZmYgQDMzMzMzMx9AMzMzMzMzIUDNzMzMzMwhQAAAAAAAACFAZmZmZmZmCkAzMzMzMzMfQGZmZmZmZgZAAAAAAAAAHECamZmZmZkgQJqZmZmZmSFAAAAAAAAAHkAzMzMzMzMfQGZmZmZmZhxAzczMzMzMIUDNzMzMzMweQAAAAAAAAB5AZmZmZmZmFkAzMzMzMzMRQGZmZmZmZhxAzczMzMzMGECamZmZmZkbQM3MzMzMzBJAAAAAAAAAIUCamZmZmZkVQGZmZmZmZiFAMzMzMzMzH0AzMzMzMzMbQJqZmZmZmR1AAAAAAAAAHECamZmZmZkZQJqZmZmZmRFAAAAAAAAAHECamZmZmZkgQGZmZmZmZhpAmpmZmZmZF0AzMzMzMzMbQGZmZmZmZhxAMzMzMzMzIUAAAAAAAAAeQJqZmZmZmSBAmpmZmZmZHUAzMzMzMzMbQDMzMzMzMx9AMzMzMzMzIkAAAAAAAAAeQAAAAAAAABZAMzMzMzMzIEBmZmZmZmYeQGZmZmZmZhRAMzMzMzMzFUCamZmZmZkfQJqZmZmZmRFAMzMzMzMzIUDNzMzMzMwWQAAAAAAAAAxAAAAAAAAAHkDNzMzMzMweQDMzMzMzMx9AMzMzMzMzIECamZmZmZkgQDMzMzMzMxtAAAAAAAAAHkAAAAAAAAAYQAAAAAAAACBAmpmZmZmZHUDNzMzMzMwcQAAAAAAAACBAMzMzMzMzFUBmZmZmZmYeQAAAAAAAACBAMzMzMzMzHUCamZmZmZkJQM3MzMzMzCFAAAAAAAAAGEBmZmZmZmYcQAAAAAAAACJAMzMzMzMzIkAAAAAAAAAIQDMzMzMzMxlAmpmZmZmZIEDNzMzMzMweQGZmZmZmZh5AmpmZmZmZG0AAAAAAAAAcQDMzMzMzMx9AAAAAAAAAGkBmZmZmZmYcQDMzMzMzM/s/ZmZmZmZmGEAzMzMzMzMfQGZmZmZmZhZAZmZmZmZmHEAAAAAAAAAgQJqZmZmZmSBAAAAAAAAAHEBmZmZmZmYSQJqZmZmZmR9AAAAAAAAAEkCamZmZmZkRQJqZmZmZmQ1AAAAAAAAAEECamZmZmZkdQAAAAAAAABxAZmZmZmZmIEAzMzMzMzMiQM3MzMzMzBJAMzMzMzMzHUAzMzMzMzMfQJqZmZmZmSFAZmZmZmZmIUBmZmZmZmYeQGZmZmZmZiBAmpmZmZmZIEDNzMzMzMwaQJqZmZmZmR9AAAAAAAAAIUAzMzMzMzMVQJqZmZmZmR9AZmZmZmZmGEAzMzMzMzMZQM3MzMzMzBxAZmZmZmZmIUCamZmZmZkXQJqZmZmZmRNAZmZmZmZmGECamZmZmZkfQAAAAAAAABRAZmZmZmZmFkAzMzMzMzMbQDMzMzMzMyFAmpmZmZmZGUBmZmZmZmYhQDMzMzMzMx1AZmZmZmZmGECamZmZmZkdQJqZmZmZmRtAmpmZmZmZHUBmZmZmZmYaQAAAAAAAABhAZmZmZmZmIkAzMzMzMzMXQGZmZmZmZh5AzczMzMzMHEDNzMzMzMweQGZmZmZmZg5AmpmZmZmZIUAzMzMzMzMiQGZmZmZmZhhAzczMzMzMFkCamZmZmZkbQGZmZmZmZhpAMzMzMzMzIEAzMzMzMzPzPwAAAAAAACBAmpmZmZmZH0AAAAAAAAAeQAAAAAAAABpAzczMzMzMGEAzMzMzMzMgQJqZmZmZmSBAZmZmZmZmFkAAAAAAAAAYQDMzMzMzMx1AMzMzMzMzGUCamZmZmZkgQM3MzMzMzBRAmpmZmZmZHUDNzMzMzMwWQDMzMzMzMxNAZmZmZmZmHkAAAAAAAAAYQGZmZmZmZh5AAAAAAAAAHEAAAAAAAAAUQM3MzMzMzCFAAAAAAAAAFEAAAAAAAAAgQGZmZmZmZh5AAAAAAAAAFEAAAAAAAAAYQAAAAAAAABhAZmZmZmZmGkCamZmZmZkfQDMzMzMzMx1AZmZmZmZmFEDNzMzMzMwaQM3MzMzMzBxAzczMzMzMEEAAAAAAAAAcQAAAAAAAABhAAAAAAAAAIEBmZmZmZmYgQJqZmZmZmRlAMzMzMzMzGUAAAAAAAAAhQGZmZmZmZiBAZmZmZmZmIEBmZmZmZmYUQGZmZmZmZiFAMzMzMzMzE0CamZmZmZkgQAAAAAAAAB5AMzMzMzMzH0CamZmZmZkTQM3MzMzMzBhAAAAAAAAAHkAAAAAAAAAiQAAAAAAAACFAZmZmZmZmIEAAAAAAAAAEQM3MzMzMzCBAZmZmZmZmEEDNzMzMzMwhQJqZmZmZmRFAAAAAAAAACEAzMzMzMzMbQGZmZmZmZhpAMzMzMzMzF0BmZmZmZmYYQAAAAAAAABxAmpmZmZmZF0CamZmZmZkZQGZmZmZmZiBAMzMzMzMzG0CamZmZmZkNQDMzMzMzMx1AAAAAAAAAHECamZmZmZkdQM3MzMzMzB5AzczMzMzMIUAAAAAAAAAMQGZmZmZmZgZAZmZmZmZmIkAAAAAAAAAcQGZmZmZmZh5AmpmZmZmZIUAzMzMzMzMgQAAAAAAAACJAZmZmZmZmGkDNzMzMzMwUQDMzMzMzMxlAzczMzMzMHEAzMzMzMzMXQGZmZmZmZhxAMzMzMzMzH0AzMzMzMzMdQDMzMzMzMxVAMzMzMzMzIEBmZmZmZmYhQJqZmZmZmRlAzczMzMzMFEBmZmZmZmYeQDMzMzMzMxlAzczMzMzMFkAAAAAAAAAeQM3MzMzMzAhAmpmZmZmZG0AAAAAAAAAaQGZmZmZmZhxAAAAAAAAAHkAzMzMzMzMfQAAAAAAAABxAmpmZmZmZIEAAAAAAAAAhQDMzMzMzMyFAzczMzMzMHkAzMzMzMzMHQDMzMzMzMx9AmpmZmZmZIEAzMzMzMzMfQDMzMzMzMxVAMzMzMzMzE0CamZmZmZkdQDMzMzMzMx9AZmZmZmZmHEAzMzMzMzMfQM3MzMzMzBhAMzMzMzMzIEAzMzMzMzMbQDMzMzMzMx9AAAAAAAAAIEAzMzMzMzMbQM3MzMzMzBxAMzMzMzMzG0AAAAAAAAAWQDMzMzMzMx1AAAAAAAAAFEAzMzMzMzMLQGZmZmZmZhpAmpmZmZmZIEAzMzMzMzMdQAAAAAAAACBAAAAAAAAAIUAzMzMzMzMdQM3MzMzMzB5AAAAAAAAAIUAzMzMzMzMPQM3MzMzMzB5AmpmZmZmZF0CamZmZmZkiQAAAAAAAAB5AAAAAAAAAGkAAAAAAAAAcQAAAAAAAAB5AMzMzMzMzH0CamZmZmZkbQDMzMzMzMxtAAAAAAAAAIUAAAAAAAAAgQJqZmZmZmRVAmpmZmZmZF0DNzMzMzMwWQAAAAAAAAB5AAAAAAAAAHkDNzMzMzMwUQJqZmZmZmSBAzczMzMzMIUAzMzMzMzMXQAAAAAAAABpAMzMzMzMzH0BmZmZmZmYeQJqZmZmZmRtAMzMzMzMzGUBmZmZmZmYgQM3MzMzMzBpAAAAAAAAAHkAzMzMzMzMhQGZmZmZmZhxAAAAAAAAAIUDNzMzMzMweQGZmZmZmZiFAzczMzMzMGkAAAAAAAAAeQJqZmZmZmRtAMzMzMzMzG0BmZmZmZmYUQAAAAAAAAB5AzczMzMzMGEAzMzMzMzMZQJqZmZmZmR9AmpmZmZmZIUAzMzMzMzMZQDMzMzMzMyFAZmZmZmZmIEAAAAAAAAAcQAAAAAAAACFAzczMzMzMHECamZmZmZkZQJqZmZmZmRlAZmZmZmZmGEAzMzMzMzMfQAAAAAAAABhAzczMzMzMIUAAAAAAAAAgQJqZmZmZmSBAMzMzMzMzH0BmZmZmZmYcQM3MzMzMzBhAAAAAAAAAIEAzMzMzMzMdQM3MzMzMzBBAZmZmZmZmHkAAAAAAAAAgQAAAAAAAACFAzczMzMzMGECamZmZmZkZQDMzMzMzMxlAMzMzMzMzG0DNzMzMzMwcQAAAAAAAACFAZmZmZmZmIUAAAAAAAAAcQDMzMzMzMx9AZmZmZmZmIEDNzMzMzMwaQDMzMzMzMyBAMzMzMzMzIEAAAAAAAAAEQM3MzMzMzCJAzczMzMzMHkAAAAAAAAAUQDMzMzMzMyJAMzMzMzMzIEDNzMzMzMwcQDMzMzMzMx9AzczMzMzMHEBmZmZmZmYhQAAAAAAAABxAmpmZmZmZIEBmZmZmZmYhQAAAAAAAACFAzczMzMzMHEAAAAAAAAAgQAAAAAAAABhAZmZmZmZmIECamZmZmZkRQDMzMzMzMyBAmpmZmZmZH0CamZmZmZkVQJqZmZmZmRVAmpmZmZmZH0AAAAAAAAAYQM3MzMzMzB5AMzMzMzMzGUCamZmZmZkgQM3MzMzMzBxAZmZmZmZmEkAzMzMzMzMjQGZmZmZmZh5AZmZmZmZmGkCamZmZmZkVQJqZmZmZmRtAAAAAAAAAHkCamZmZmZkdQDMzMzMzMx1AMzMzMzMzH0BmZmZmZmYgQGZmZmZmZhhAAAAAAAAAIUAAAAAAAAAIQM3MzMzMzBxAAAAAAAAAFEAAAAAAAAAgQM3MzMzMzCFAMzMzMzMzH0DNzMzMzMweQDMzMzMzMx1AZmZmZmZmFkBmZmZmZmYCQAAAAAAAAAxAmpmZmZmZH0AAAAAAAAAaQM3MzMzMzB5AAAAAAAAAHkBmZmZmZmYcQAAAAAAAACBAzczMzMzMIEAzMzMzMzMVQJqZmZmZmR9AzczMzMzMFkAAAAAAAAAhQJqZmZmZmR9AMzMzMzMzHUDNzMzMzMwWQDMzMzMzMyFAAAAAAAAAAEAzMzMzMzMgQM3MzMzMzCBAmpmZmZmZFUAzMzMzMzMHQJqZmZmZmRtAAAAAAAAAIUBmZmZmZmYaQGZmZmZmZhxAMzMzMzMzIkAAAAAAAAAcQDMzMzMzMxtAMzMzMzMzH0DNzMzMzMwUQJqZmZmZmR9AMzMzMzMzHUCamZmZmZkRQAAAAAAAABZAAAAAAAAAIEDNzMzMzMwIQGZmZmZmZiFAzczMzMzMIECamZmZmZkdQJqZmZmZmSFAmpmZmZmZFUAAAAAAAAAgQDMzMzMzMx1AMzMzMzMzHUAAAAAAAAAYQJqZmZmZmSBAAAAAAAAAHkAzMzMzMzMiQM3MzMzMzCFAZmZmZmZmIEBmZmZmZmYhQAAAAAAAACBAmpmZmZmZIkBmZmZmZmYgQAAAAAAAAOA/zczMzMzMIUDNzMzMzMweQGZmZmZmZh5AAAAAAAAAIkAAAAAAAAAgQAAAAAAAABRAAAAAAAAAIUDNzMzMzMwcQJqZmZmZmRVAmpmZmZmZH0BmZmZmZmYQQGZmZmZmZiBAzczMzMzMGEAAAAAAAAAeQAAAAAAAABZAzczMzMzMIEBmZmZmZmYaQJqZmZmZmRdAzczMzMzMIEBmZmZmZmYQQM3MzMzMzBRAMzMzMzMzIECamZmZmZkfQGZmZmZmZh5AzczMzMzMFkAAAAAAAAAgQJqZmZmZmR1AmpmZmZmZGUAzMzMzMzMfQM3MzMzMzBxAZmZmZmZmHkBmZmZmZmYOQAAAAAAAACFAMzMzMzMzIUAzMzMzMzMZQAAAAAAAAAhAMzMzMzMzIEAzMzMzMzMXQJqZmZmZmRlAzczMzMzMGkAzMzMzMzMiQAAAAAAAAB5AAAAAAAAAGkDNzMzMzMwSQDMzMzMzMyJAMzMzMzMzIECamZmZmZkhQAAAAAAAACBAzczMzMzMGkBmZmZmZmYGQDMzMzMzMx9AmpmZmZmZHUAAAAAAAAAIQM3MzMzMzB5AAAAAAAAAHkAAAAAAAAAMQAAAAAAAACFAMzMzMzMzF0AzMzMzMzMgQDMzMzMzMx1AMzMzMzMzGUAzMzMzMzMgQAAAAAAAABxAAAAAAAAAIECamZmZmZkbQM3MzMzMzBpAAAAAAAAAEEBmZmZmZmYGQDMzMzMzMx9AZmZmZmZmHECamZmZmZkBQJqZmZmZmQ1AAAAAAAAAHECamZmZmZkhQDMzMzMzMx9AmpmZmZmZHUAzMzMzMzMZQGZmZmZmZiFAZmZmZmZmIUCamZmZmZkXQGZmZmZmZg5AAAAAAAAAIkCamZmZmZkJQAAAAAAAABhAZmZmZmZmIUAzMzMzMzMZQM3MzMzMzBhAzczMzMzMEEBmZmZmZmYcQGZmZmZmZiBAMzMzMzMzH0BmZmZmZmYhQM3MzMzMzBxAmpmZmZmZIEAzMzMzMzMiQM3MzMzMzBxAmpmZmZmZIUBmZmZmZmYWQGZmZmZmZiBAMzMzMzMzH0AAAAAAAAAhQGZmZmZmZiFAZmZmZmZmGkAzMzMzMzMdQGZmZmZmZiBAAAAAAAAAHkBmZmZmZmYeQGZmZmZmZhpAzczMzMzMHEAAAAAAAAAYQDMzMzMzMxtAZmZmZmZmHEAAAAAAAAAEQAAAAAAAAB5AZmZmZmZmIkCamZmZmZkhQM3MzMzMzBhAAAAAAAAAFkAzMzMzMzMgQAAAAAAAACBAMzMzMzMzHUAzMzMzMzMdQGZmZmZmZhZAZmZmZmZmIECamZmZmZkgQM3MzMzMzBZAzczMzMzMGEAAAAAAAAAWQAAAAAAAACFAmpmZmZmZDUBmZmZmZmYeQDMzMzMzMx9AZmZmZmZmIUCamZmZmZkZQDMzMzMzMxtAzczMzMzMHECamZmZmZkbQAAAAAAAAAxAAAAAAAAAIUAAAAAAAAAcQDMzMzMzMw9AMzMzMzMzGUBmZmZmZmYgQAAAAAAAAB5AAAAAAAAAIEAzMzMzMzMfQM3MzMzMzPw/ZmZmZmZmFkCamZmZmZkdQAAAAAAAABpAzczMzMzMIkAAAAAAAAAcQAAAAAAAABRAzczMzMzMHkAzMzMzMzMDQM3MzMzMzBxAMzMzMzMzG0DNzMzMzMwgQJqZmZmZmSBAmpmZmZmZGUDNzMzMzMwaQAAAAAAAACFAZmZmZmZmHECamZmZmZkhQM3MzMzMzBhAAAAAAAAAHkAAAAAAAAAcQJqZmZmZmSBAZmZmZmZmIEBmZmZmZmYgQGZmZmZmZhpAmpmZmZmZIUDNzMzMzMwcQAAAAAAAAAhAzczMzMzMGkAzMzMzMzMfQDMzMzMzMx9AZmZmZmZmIkAzMzMzMzMgQDMzMzMzMyJAZmZmZmZmGkDNzMzMzMwcQGZmZmZmZhxAMzMzMzMzE0DNzMzMzMweQJqZmZmZmR1AzczMzMzMEkAzMzMzMzMdQJqZmZmZmR1AAAAAAAAAIEBmZmZmZmYaQDMzMzMzMx9AAAAAAAAAIEBmZmZmZmYgQDMzMzMzMxNAZmZmZmZmIEDNzMzMzMwUQAAAAAAAABxAMzMzMzMzH0AzMzMzMzMgQAAAAAAAABRAzczMzMzMHkAAAAAAAAAcQM3MzMzMzCBAMzMzMzMzHUDNzMzMzMwcQM3MzMzMzB5AmpmZmZmZIEAAAAAAAAAeQJqZmZmZmRNAAAAAAAAAHEAzMzMzMzMZQDMzMzMzMxdAzczMzMzMIEAzMzMzMzMbQAAAAAAAABJAMzMzMzMzG0CamZmZmZkdQM3MzMzMzBxAzczMzMzMIECamZmZmZkdQJqZmZmZmR9AzczMzMzMHkDNzMzMzMwcQJqZmZmZmR1AMzMzMzMzEUAAAAAAAAAAQDMzMzMzMyBAmpmZmZmZIUAAAAAAAAAQQAAAAAAAACBAAAAAAAAAGEDNzMzMzMwgQAAAAAAAABpAzczMzMzMGEBmZmZmZmYgQAAAAAAAABpAmpmZmZmZIUBmZmZmZmYgQJqZmZmZmRtAZmZmZmZmHkCamZmZmZkfQGZmZmZmZhpAAAAAAAAAIECamZmZmZkTQAAAAAAAABhAMzMzMzMzHUDNzMzMzMwaQGZmZmZmZhpAMzMzMzMzHUBmZmZmZmYhQDMzMzMzMyFAzczMzMzMAEAzMzMzMzMXQAAAAAAAABpAmpmZmZmZIEAzMzMzMzMbQM3MzMzMzB5AzczMzMzMAEBmZmZmZmYcQJqZmZmZmRtAZmZmZmZmHkAAAAAAAAAgQAAAAAAAACJAZmZmZmZmFkAzMzMzMzMgQJqZmZmZmR9AzczMzMzMGEBmZmZmZmYgQAAAAAAAABRAzczMzMzMIEAzMzMzMzMfQDMzMzMzMx9AmpmZmZmZHUBmZmZmZmYgQJqZmZmZmRlAmpmZmZmZDUAzMzMzMzMdQAAAAAAAABxAMzMzMzMzF0DNzMzMzMweQAAAAAAAABxAmpmZmZmZE0DNzMzMzMweQDMzMzMzMx1AMzMzMzMzHUDNzMzMzMwgQAAAAAAAACBAAAAAAAAAHEBmZmZmZmYOQAAAAAAAAB5AzczMzMzMEECamZmZmZkdQGZmZmZmZiFAZmZmZmZmHEAAAAAAAAAcQJqZmZmZmRlAMzMzMzMzHUDNzMzMzMweQAAAAAAAABhAAAAAAAAAFEAzMzMzMzMiQAAAAAAAABhAZmZmZmZmIECamZmZmZkdQAAAAAAAAB5AMzMzMzMzIEAAAAAAAAAiQM3MzMzMzCFAMzMzMzMzHUCamZmZmZkfQDMzMzMzMwtAAAAAAAAAGkAzMzMzMzMXQDMzMzMzMyBAMzMzMzMzG0DNzMzMzMwYQDMzMzMzMxtAMzMzMzMzHUAzMzMzMzMgQM3MzMzMzBZAmpmZmZmZFUDNzMzMzMwUQJqZmZmZmRdAzczMzMzMIEAAAAAAAAAaQAAAAAAAACFAzczMzMzMHkCamZmZmZkgQGZmZmZmZh5AZmZmZmZmIEBmZmZmZmYgQGZmZmZmZiFAMzMzMzMzIEDNzMzMzMwMQDMzMzMzMw9AAAAAAAAAHkAzMzMzMzMbQM3MzMzMzBpAzczMzMzMGkDNzMzMzMweQM3MzMzMzBBAAAAAAAAAIEAAAAAAAAAAQM3MzMzMzB5AZmZmZmZmHkAAAAAAAAAhQAAAAAAAAB5AZmZmZmZmHkAAAAAAAAAhQDMzMzMzMxlAAAAAAAAAIkCamZmZmZkVQGZmZmZmZhBAZmZmZmZmBkCamZmZmZkhQJqZmZmZmSBAAAAAAAAAHkAzMzMzMzMfQAAAAAAAABxAZmZmZmZmDkDNzMzMzMwhQJqZmZmZmRlAMzMzMzMzHUBmZmZmZmYgQGZmZmZmZgpAMzMzMzMzFUDNzMzMzMweQM3MzMzMzAhAAAAAAAAAIUAzMzMzMzMVQGZmZmZmZhZAzczMzMzMIUDNzMzMzMweQM3MzMzMzCFAzczMzMzMIEBmZmZmZmYQQAAAAAAAABRAzczMzMzMFEAAAAAAAAAgQAAAAAAAABxAAAAAAAAAFECamZmZmZkdQGZmZmZmZhhAmpmZmZmZIEAAAAAAAAAgQAAAAAAAABxAzczMzMzMIUDNzMzMzMwUQDMzMzMzMyFAAAAAAAAAIUAAAAAAAAAMQDMzMzMzMxVAMzMzMzMzIUAAAAAAAAAgQM3MzMzMzBpAZmZmZmZmHEAzMzMzMzMZQJqZmZmZmSFAzczMzMzMEkCamZmZmZkhQDMzMzMzMxlAMzMzMzMzIEAAAAAAAAAMQDMzMzMzMx9AZmZmZmZmIECamZmZmZkdQAAAAAAAAOA/MzMzMzMzIkAzMzMzMzMZQJqZmZmZmSFAAAAAAAAAHkAzMzMzMzMdQM3MzMzMzBJAMzMzMzMzH0CamZmZmZkZQGZmZmZmZg5AmpmZmZmZH0DNzMzMzMwWQGZmZmZmZhZAmpmZmZmZIEAAAAAAAAAMQJqZmZmZmRlAzczMzMzMHEAAAAAAAAAiQGZmZmZmZhZAAAAAAAAAHEAAAAAAAAAgQGZmZmZmZhhAMzMzMzMzIkBmZmZmZmYSQDMzMzMzMxNAAAAAAAAAGkDNzMzMzMwYQDMzMzMzMx1AzczMzMzMGEAzMzMzMzMTQJqZmZmZmR1AMzMzMzMzHUCamZmZmZkXQAAAAAAAABxAZmZmZmZmBkBmZmZmZmYgQGZmZmZmZhhAzczMzMzMEkDNzMzMzMwUQJqZmZmZmSFAAAAAAAAAIkAAAAAAAAAeQDMzMzMzMx9AmpmZmZmZE0BmZmZmZmYcQJqZmZmZmR1AAAAAAAAAGkAAAAAAAAAhQDMzMzMzMx9AMzMzMzMzH0AzMzMzMzMdQAAAAAAAABhAZmZmZmZmGkBmZmZmZmYQQDMzMzMzMx9AMzMzMzMzFUAzMzMzMzMdQGZmZmZmZiBAmpmZmZmZH0AAAAAAAAAhQM3MzMzMzB5AmpmZmZmZHUBmZmZmZmYUQDMzMzMzMwtAAAAAAAAAGkCamZmZmZkXQJqZmZmZmSBAMzMzMzMzHUAzMzMzMzMZQJqZmZmZmSBAAAAAAAAAEECamZmZmZkdQJqZmZmZmRFAmpmZmZmZIkAAAAAAAAAhQGZmZmZmZiBAMzMzMzMzH0CamZmZmZkdQDMzMzMzMyFAmpmZmZmZIkAAAAAAAAAcQDMzMzMzM+M/AAAAAAAAGEAAAAAAAAAiQM3MzMzMzBpAZmZmZmZmIkAAAAAAAAAaQJqZmZmZmR9AAAAAAAAAHkCamZmZmZkgQM3MzMzMzBhAMzMzMzMzIkBmZmZmZmYeQDMzMzMzMxVAMzMzMzMzC0BmZmZmZmYWQDMzMzMzMyBAAAAAAAAAIEDNzMzMzMwWQM3MzMzMzBhAzczMzMzMHECamZmZmZkhQGZmZmZmZiFAZmZmZmZmHkDNzMzMzMwhQM3MzMzMzBxAzczMzMzMIEBmZmZmZmYYQDMzMzMzMyBAZmZmZmZmIEAzMzMzMzMZQM3MzMzMzBBAmpmZmZmZH0AzMzMzMzMbQDMzMzMzMx9AZmZmZmZmHkAAAAAAAAAaQAAAAAAAABxAMzMzMzMzIEAAAAAAAAAeQM3MzMzMzBhAMzMzMzMzH0AzMzMzMzMVQDMzMzMzMxlAAAAAAAAAHkAzMzMzMzMfQAAAAAAAACBAzczMzMzMCEBmZmZmZmYQQAAAAAAAAAxAAAAAAAAAIEAAAAAAAAAeQJqZmZmZmSFAmpmZmZmZIEAAAAAAAAAMQGZmZmZmZhxAMzMzMzMzIUBmZmZmZmYYQAAAAAAAAB5AMzMzMzMzHUDNzMzMzMz8P83MzMzMzB5AmpmZmZmZHUAAAAAAAAAhQDMzMzMzM/s/zczMzMzMHkBmZmZmZmYSQGZmZmZmZhhAAAAAAAAAEkBmZmZmZmYiQGZmZmZmZiBAAAAAAAAAIEAAAAAAAAAUQAAAAAAAACBAzczMzMzMHkAzMzMzMzMHQGZmZmZmZiJAzczMzMzMFECamZmZmZkgQJqZmZmZmRdAMzMzMzMzGUDNzMzMzMzsPzMzMzMzMxtAAAAAAAAAGEAAAAAAAAAWQDMzMzMzMyJAzczMzMzMHEDNzMzMzMwQQJqZmZmZmRdAMzMzMzMzE0AzMzMzMzMbQGZmZmZmZhpAMzMzMzMzHUBmZmZmZmYeQAAAAAAAABZAAAAAAAAAHkBmZmZmZmYgQJqZmZmZmSBAMzMzMzMzHUAAAAAAAAAhQM3MzMzMzBhAzczMzMzMHkDNzMzMzMwgQAAAAAAAABpAAAAAAAAAIUAzMzMzMzMbQJqZmZmZmRdAzczMzMzMHkAzMzMzMzMTQM3MzMzMzCFAMzMzMzMzE0AAAAAAAAAYQAAAAAAAABRAMzMzMzMzFUAzMzMzMzMfQAAAAAAAABxAZmZmZmZmEECamZmZmZkgQGZmZmZmZiFAzczMzMzMGEAzMzMzMzPzPzMzMzMzMx1AMzMzMzMzHUCamZmZmZkfQJqZmZmZmRlAMzMzMzMzGUCamZmZmZkgQDMzMzMzMx9AZmZmZmZmEkAAAAAAAAAgQAAAAAAAABpAMzMzMzMzG0AAAAAAAAAeQDMzMzMzMx9AMzMzMzMzE0DNzMzMzMweQAAAAAAAAAxAAAAAAAAAIkAAAAAAAADwPwAAAAAAABpAzczMzMzMIEAzMzMzMzMhQGZmZmZmZhZAAAAAAAAAIUAAAAAAAAAcQDMzMzMzMx9AzczMzMzMFEBmZmZmZmYhQAAAAAAAACFAMzMzMzMzHUAAAAAAAAAWQAAAAAAAABpAAAAAAAAAIUAAAAAAAAAcQGZmZmZmZiFAMzMzMzMzG0AAAAAAAAAgQGZmZmZmZg5AZmZmZmZmHkAzMzMzMzMhQAAAAAAAABhAZmZmZmZmHkCamZmZmZkiQDMzMzMzMxFAmpmZmZmZIEBmZmZmZmYaQJqZmZmZmSJAMzMzMzMzIUAAAAAAAAAiQJqZmZmZmSFAAAAAAAAAIUAAAAAAAAAcQGZmZmZmZiFAMzMzMzMzIECamZmZmZkVQM3MzMzMzCJAMzMzMzMzHUAAAAAAAAAiQJqZmZmZmSFAzczMzMzMHkAzMzMzMzMfQM3MzMzMzB5AMzMzMzMzF0AAAAAAAAAUQAAAAAAAABJAMzMzMzMzH0BmZmZmZmYhQGZmZmZmZiBAmpmZmZmZGUAzMzMzMzMXQDMzMzMzMxdAZmZmZmZmIEAzMzMzMzMXQAAAAAAAABJAMzMzMzMzIUCamZmZmZkRQDMzMzMzMx1AMzMzMzMzHUBmZmZmZmYhQDMzMzMzMyFAmpmZmZmZGUAAAAAAAAAcQGZmZmZmZhJAmpmZmZmZHUDNzMzMzMwMQGZmZmZmZh5AzczMzMzMFkAzMzMzMzMbQDMzMzMzMxtAAAAAAAAAIUAzMzMzMzMdQGZmZmZmZhpAmpmZmZmZIEBmZmZmZmYWQGZmZmZmZgZAzczMzMzMFkBmZmZmZmYiQM3MzMzMzCBAAAAAAAAAIUAzMzMzMzMVQGZmZmZmZiFAAAAAAAAAHkBmZmZmZmYgQDMzMzMzMxVAzczMzMzMHEAzMzMzMzMZQGZmZmZmZh5AAAAAAAAAGEAAAAAAAAAhQDMzMzMzMyJAAAAAAAAAIECamZmZmZkZQM3MzMzMzB5AZmZmZmZmHEAzMzMzMzMgQAAAAAAAAB5AAAAAAAAAIEBmZmZmZmb2P83MzMzMzBZAZmZmZmZmGkAAAAAAAAAhQAAAAAAAACFAZmZmZmZmIEBmZmZmZmYUQAAAAAAAACBAzczMzMzMIUAAAAAAAAAgQM3MzMzMzBRAAAAAAAAABEAAAAAAAAAaQAAAAAAAABZAAAAAAAAAHEAzMzMzMzMdQGZmZmZmZh5AzczMzMzMGkBmZmZmZmYhQM3MzMzMzAhAzczMzMzMHkBmZmZmZmYgQAAAAAAAAB5AmpmZmZmZF0BmZmZmZmYcQGZmZmZmZhZAzczMzMzMGkDNzMzMzMweQDMzMzMzMyBAzczMzMzMIUCamZmZmZkbQAAAAAAAABxAAAAAAAAAIkAAAAAAAAAaQGZmZmZmZhxAMzMzMzMzIEAzMzMzMzMZQJqZmZmZmQlAzczMzMzMIUDNzMzMzMweQM3MzMzMzBpAAAAAAAAAHkAAAAAAAAASQM3MzMzMzCBAZmZmZmZmHkBmZmZmZmYiQDMzMzMzMyFAAAAAAAAAGkDNzMzMzMweQAAAAAAAABRAZmZmZmZmIUCamZmZmZkfQM3MzMzMzBxAAAAAAAAAFECamZmZmZkTQDMzMzMzMxlAMzMzMzMzHUCamZmZmZkgQM3MzMzMzB5AMzMzMzMzH0DNzMzMzMweQDMzMzMzMyBAAAAAAAAAFEBmZmZmZmYcQJqZmZmZmRVAmpmZmZmZIUCamZmZmZkgQDMzMzMzMxlAMzMzMzMzG0CamZmZmZkgQDMzMzMzMx9AMzMzMzMzG0AzMzMzMzMfQJqZmZmZmR9AZmZmZmZmHEBmZmZmZmYeQDMzMzMzMyBAMzMzMzMzG0AAAAAAAAAeQJqZmZmZmR9AmpmZmZmZG0CamZmZmZkbQDMzMzMzMx1AMzMzMzMzH0BmZmZmZmYiQDMzMzMzMx9AMzMzMzMzE0BmZmZmZmYYQAAAAAAAABhAmpmZmZmZIkAzMzMzMzMXQM3MzMzMzCFAAAAAAAAAHEBmZmZmZmYWQJqZmZmZmQ1AAAAAAAAAIEAzMzMzMzP7PwAAAAAAACBAzczMzMzMIECamZmZmZkiQAAAAAAAACBAmpmZmZmZHUDNzMzMzMwYQDMzMzMzMyFAmpmZmZmZIUAzMzMzMzMfQJqZmZmZmRdAMzMzMzMzF0CamZmZmZkbQDMzMzMzMx9AmpmZmZmZHUAAAAAAAAAIQM3MzMzMzAhAMzMzMzMzIUDNzMzMzMwaQGZmZmZmZiBAAAAAAAAAIkAzMzMzMzMXQM3MzMzMzBRAZmZmZmZmHkAzMzMzMzMbQGZmZmZmZhZAmpmZmZmZIEDNzMzMzMwgQDMzMzMzMyJAMzMzMzMzH0AAAAAAAAAeQDMzMzMzMyJAMzMzMzMzH0BmZmZmZmYWQDMzMzMzMxdAMzMzMzMzHUDNzMzMzMwaQGZmZmZmZhRAmpmZmZmZCUAAAAAAAAAiQDMzMzMzMxdAzczMzMzMHkAzMzMzMzMfQJqZmZmZmR1AAAAAAAAAGkCamZmZmZkbQJqZmZmZmSBAzczMzMzMGkAAAAAAAAAeQAAAAAAAABxAzczMzMzMHkAAAAAAAAAgQDMzMzMzMxVAMzMzMzMzGUAzMzMzMzMRQAAAAAAAABpAZmZmZmZmCkAzMzMzMzMdQM3MzMzMzBpAmpmZmZmZF0AAAAAAAAAcQJqZmZmZmR1AZmZmZmZmIEBmZmZmZmYeQM3MzMzMzB5AZmZmZmZmIUCamZmZmZkbQJqZmZmZmR9AAAAAAAAAGEAzMzMzMzMbQAAAAAAAABxAAAAAAAAAHEDNzMzMzMweQM3MzMzMzCBAAAAAAAAAHkBmZmZmZmYgQAAAAAAAACBAmpmZmZmZIEBmZmZmZmYiQDMzMzMzMyBAAAAAAAAAIEBmZmZmZmYYQAAAAAAAABhAAAAAAAAAHEDNzMzMzMweQGZmZmZmZiBAMzMzMzMzFUAzMzMzMzMhQDMzMzMzMxtAzczMzMzMEECamZmZmZkTQAAAAAAAACFAAAAAAAAAIUAAAAAAAAAgQM3MzMzMzCBAzczMzMzMIEBmZmZmZmYaQJqZmZmZmSBAMzMzMzMzGUDNzMzMzMwgQDMzMzMzM/s/zczMzMzMFkDNzMzMzMwhQDMzMzMzMxtAmpmZmZmZFUBmZmZmZmYcQAAAAAAAACJAMzMzMzMzGUAzMzMzMzMgQDMzMzMzMx1AAAAAAAAAHkDNzMzMzMwYQGZmZmZmZhpAMzMzMzMzA0CamZmZmZkfQJqZmZmZmRNAmpmZmZmZIUAAAAAAAAAgQAAAAAAAACFAmpmZmZmZIUAzMzMzMzMVQAAAAAAAABxAAAAAAAAADEAAAAAAAAAgQAAAAAAAABhAZmZmZmZmIEAAAAAAAAAWQDMzMzMzMx9AzczMzMzMHkBmZmZmZmYOQGZmZmZmZiBAMzMzMzMzC0DNzMzMzMwgQDMzMzMzMyFAMzMzMzMzIEAAAAAAAAAcQAAAAAAAABxAAAAAAAAAGEDNzMzMzMweQM3MzMzMzCBAzczMzMzMGEAAAAAAAAAWQM3MzMzMzBhAAAAAAAAAEkBmZmZmZmYcQGZmZmZmZhBAzczMzMzMIEAzMzMzMzMdQDMzMzMzMyFAZmZmZmZmBkAAAAAAAAAhQDMzMzMzMxVAAAAAAAAAFEAzMzMzMzMfQGZmZmZmZvY/AAAAAAAAIkBmZmZmZmYOQJqZmZmZmSBAmpmZmZmZF0AAAAAAAAAcQJqZmZmZmR9AAAAAAAAAGkCamZmZmZkhQDMzMzMzMyBAMzMzMzMzIUAzMzMzMzMDQGZmZmZmZg5AAAAAAAAAHEDNzMzMzMwhQAAAAAAAACBAmpmZmZmZE0CamZmZmZkdQGZmZmZmZhJAMzMzMzMzH0CamZmZmZkdQAAAAAAAABhAZmZmZmZmFkAAAAAAAAAiQM3MzMzMzBhAMzMzMzMzG0AAAAAAAAAgQGZmZmZmZhJAmpmZmZmZIECamZmZmZkVQJqZmZmZmR1AZmZmZmZmFkCamZmZmZkgQAAAAAAAABxAmpmZmZmZHUAAAAAAAAAhQAAAAAAAABpAMzMzMzMzH0AzMzMzMzMbQGZmZmZmZhhAmpmZmZmZIEAAAAAAAAAiQJqZmZmZmQVAmpmZmZmZGUDNzMzMzMwhQAAAAAAAAB5AZmZmZmZmFkCamZmZmZkgQDMzMzMzMx9AzczMzMzMIECamZmZmZkXQGZmZmZmZiFAMzMzMzMzIEAzMzMzMzMdQAAAAAAAACBAZmZmZmZmIEAAAAAAAAAgQJqZmZmZmR1AMzMzMzMzH0AzMzMzMzMZQDMzMzMzMx9AzczMzMzMHkCamZmZmZkgQGZmZmZmZhZAZmZmZmZmIECamZmZmZkFQJqZmZmZmR9AMzMzMzMzIUCamZmZmZkVQM3MzMzMzBhAAAAAAAAAIEAAAAAAAAAYQJqZmZmZmR1AzczMzMzMIUDNzMzMzMweQJqZmZmZmSFAzczMzMzMHEDNzMzMzMweQJqZmZmZmQ1AmpmZmZmZIUAAAAAAAAAiQAAAAAAAABhAZmZmZmZmEkCamZmZmZkRQDMzMzMzMxtAZmZmZmZmFEAzMzMzMzMgQGZmZmZmZhxAmpmZmZmZIkCamZmZmZkhQGZmZmZmZiBAmpmZmZmZH0BmZmZmZmYeQAAAAAAAABhAMzMzMzMzH0AzMzMzMzMhQM3MzMzMzCBAZmZmZmZmEEBmZmZmZmYcQAAAAAAAACFAZmZmZmZmFkAAAAAAAAAgQAAAAAAAACBAAAAAAAAAHkAAAAAAAAAYQJqZmZmZmSFAzczMzMzMHEAAAAAAAAAgQJqZmZmZmRFAMzMzMzMzGUAAAAAAAAAUQJqZmZmZmRtAmpmZmZmZH0AAAAAAAAAEQDMzMzMzMx9AAAAAAAAAIUAzMzMzMzMDQM3MzMzMzBpAAAAAAAAA+D/NzMzMzMwWQM3MzMzMzBpAAAAAAAAAHECamZmZmZkfQAAAAAAAABRAMzMzMzMzH0DNzMzMzMweQAAAAAAAABxAMzMzMzMzIUAAAAAAAAAeQJqZmZmZmRtAAAAAAAAAFEAAAAAAAAAhQGZmZmZmZhxAZmZmZmZmIUAzMzMzMzMfQAAAAAAAABZAAAAAAAAAHkAAAAAAAAAgQDMzMzMzMxNAMzMzMzMzG0CamZmZmZkRQM3MzMzMzBBAzczMzMzMGEAzMzMzMzMdQDMzMzMzMxdAzczMzMzMGECamZmZmZkVQJqZmZmZmR9AMzMzMzMzF0DNzMzMzMweQDMzMzMzMxdAmpmZmZmZIECamZmZmZkZQDMzMzMzMyFAAAAAAAAAIEAAAAAAAAAeQM3MzMzMzBJAMzMzMzMzH0BmZmZmZmYhQGZmZmZmZh5AZmZmZmZmFkCamZmZmZkfQDMzMzMzMx9AAAAAAAAAIEAzMzMzMzMbQJqZmZmZmR9AmpmZmZmZG0AzMzMzMzMTQJqZmZmZmSFAMzMzMzMzH0CamZmZmZkVQAAAAAAAACBAmpmZmZmZH0BmZmZmZmYeQM3MzMzMzBpAZmZmZmZmHkAzMzMzMzMgQJqZmZmZmR1AmpmZmZmZH0BmZmZmZmYcQDMzMzMzMx1AZmZmZmZmHkAAAAAAAAAgQM3MzMzMzBJAMzMzMzMzIUAAAAAAAAAcQM3MzMzMzCBAZmZmZmZmIEDNzMzMzMwaQJqZmZmZmRtAMzMzMzMzFUAzMzMzMzMgQJqZmZmZmSFAZmZmZmZmGkBmZmZmZmYhQDMzMzMzMxtAAAAAAAAAIUAzMzMzMzMhQJqZmZmZmRdAmpmZmZmZHUAAAAAAAAAaQAAAAAAAABxAAAAAAAAABEAzMzMzMzMfQAAAAAAAACFAmpmZmZmZH0AzMzMzMzMfQM3MzMzMzCBAmpmZmZmZHUCamZmZmZkZQAAAAAAAACBAmpmZmZmZG0AAAAAAAAAeQAAAAAAAABxAZmZmZmZmCkAzMzMzMzMRQGZmZmZmZhpAAAAAAAAADEBmZmZmZmYYQM3MzMzMzCFAzczMzMzMIEAAAAAAAAAaQDMzMzMzMxdAMzMzMzMzH0CamZmZmZkgQDMzMzMzMyBAAAAAAAAAFEAzMzMzMzMhQDMzMzMzMx9AZmZmZmZmEkDNzMzMzMwcQAAAAAAAACFAZmZmZmZmEkAAAAAAAAAMQDMzMzMzMyBAAAAAAAAAHkAzMzMzMzMHQAAAAAAAACJAZmZmZmZmEEBmZmZmZmYeQGZmZmZmZh5AZmZmZmZmHEBmZmZmZmYcQGZmZmZmZiBAzczMzMzMIEDNzMzMzMweQM3MzMzMzCBAzczMzMzMHEBmZmZmZmb+PzMzMzMzMyJAMzMzMzMzH0CamZmZmZkbQJqZmZmZmRtAZmZmZmZmFkAzMzMzMzMfQM3MzMzMzB5AzczMzMzMIECamZmZmZkZQDMzMzMzMxtAMzMzMzMzH0AzMzMzMzMhQJqZmZmZmR1AMzMzMzMzG0DNzMzMzMz0PwAAAAAAACBAZmZmZmZmGEBmZmZmZmYgQGZmZmZmZiBAmpmZmZmZHUAzMzMzMzMgQDMzMzMzMyBAZmZmZmZmGkCamZmZmZkfQDMzMzMzMx1AzczMzMzMFEDNzMzMzMwMQM3MzMzMzBhAmpmZmZmZIUAzMzMzMzMiQGZmZmZmZhpAZmZmZmZmHEDNzMzMzMwcQAAAAAAAABZAmpmZmZmZG0CamZmZmZkgQM3MzMzMzBxAAAAAAAAAIUAAAAAAAAAYQGZmZmZmZhRAAAAAAAAAIEDNzMzMzMwaQJqZmZmZmR1AmpmZmZmZIEAzMzMzMzMfQJqZmZmZmSBAMzMzMzMzIEAAAAAAAAAWQAAAAAAAACBAZmZmZmZmHEBmZmZmZmYaQAAAAAAAAB5AMzMzMzMzHUCamZmZmZkhQAAAAAAAAAxAzczMzMzMHEAzMzMzMzMfQDMzMzMzMx1AZmZmZmZmIEAzMzMzMzMbQJqZmZmZmRNAAAAAAAAAGkAAAAAAAAAYQGZmZmZmZiBAzczMzMzMDEAAAAAAAAAYQGZmZmZmZhpAmpmZmZmZIEAzMzMzMzMdQDMzMzMzMxlAAAAAAAAAIEBmZmZmZmYOQAAAAAAAABZAMzMzMzMzH0AAAAAAAAAgQJqZmZmZmRFAZmZmZmZmFEDNzMzMzMweQJqZmZmZmRdAZmZmZmZmHEAAAAAAAAAaQGZmZmZmZhBAMzMzMzMzG0CamZmZmZkTQGZmZmZmZhxAMzMzMzMzIUBmZmZmZmYaQGZmZmZmZiBAmpmZmZmZH0AzMzMzMzMfQAAAAAAAABpAMzMzMzMzH0AAAAAAAAAcQJqZmZmZmR1AZmZmZmZmEECamZmZmZkgQDMzMzMzMxlAMzMzMzMzH0BmZmZmZmYGQGZmZmZmZhRAMzMzMzMzHUAAAAAAAAAhQDMzMzMzMxlAMzMzMzMzHUCamZmZmZkgQDMzMzMzMxlAAAAAAAAAEkAAAAAAAAAYQJqZmZmZmSFAZmZmZmZmIEDNzMzMzMwaQDMzMzMzMxdAAAAAAAAAEkBmZmZmZmYhQDMzMzMzMyJAzczMzMzMIUBmZmZmZmYeQDMzMzMzMx9AMzMzMzMzH0BmZmZmZmYUQGZmZmZmZiBAMzMzMzMzC0CamZmZmZkdQDMzMzMzMxNAmpmZmZmZHUAAAAAAAAAiQJqZmZmZmRVAzczMzMzMFkAzMzMzMzMgQAAAAAAAAB5AzczMzMzMHkBmZmZmZmYOQDMzMzMzMyFAAAAAAAAAIECamZmZmZkfQJqZmZmZmRdAMzMzMzMzC0DNzMzMzMweQJqZmZmZmSFAzczMzMzMIkAAAAAAAAAeQDMzMzMzMyBAAAAAAAAAIkAAAAAAAAAgQDMzMzMzMx9AmpmZmZmZIEDNzMzMzMweQAAAAAAAAB5AzczMzMzMHEAAAAAAAAAeQGZmZmZmZhxAZmZmZmZmIECamZmZmZkdQDMzMzMzMxtAMzMzMzMzIkDNzMzMzMwaQDMzMzMzMx9AzczMzMzMHECamZmZmZkgQJqZmZmZmR1AMzMzMzMzH0DNzMzMzMweQDMzMzMzMyBAMzMzMzMzIEBmZmZmZmYhQAAAAAAAABxAzczMzMzMGEDNzMzMzMwaQDMzMzMzMx1AZmZmZmZmGEBmZmZmZmYOQDMzMzMzMx9AmpmZmZmZH0AzMzMzMzMPQGZmZmZmZiFAAAAAAAAACEAzMzMzMzMgQDMzMzMzMxVAMzMzMzMzE0AzMzMzMzMbQGZmZmZmZuY/zczMzMzMHECamZmZmZkhQAAAAAAAABJAAAAAAAAAIECamZmZmZkTQJqZmZmZmRtAAAAAAAAAHEAzMzMzMzP7P83MzMzMzCBAmpmZmZmZBUDNzMzMzMwYQJqZmZmZmSJAMzMzMzMzH0CamZmZmZkbQJqZmZmZmSBAMzMzMzMzFUAzMzMzMzMdQM3MzMzMzCBAMzMzMzMzGUAzMzMzMzMZQAAAAAAAAABAmpmZmZmZF0BmZmZmZmYaQAAAAAAAABxAMzMzMzMzIEDNzMzMzMwYQJqZmZmZmSBAMzMzMzMzIkAAAAAAAAAIQJqZmZmZmSBAMzMzMzMzE0AzMzMzMzMbQM3MzMzMzCFAMzMzMzMzIEAAAAAAAAAhQDMzMzMzMyFAAAAAAAAAHEAzMzMzMzMRQM3MzMzMzB5AAAAAAAAAGEBmZmZmZmYgQDMzMzMzMx1AZmZmZmZmIEAzMzMzMzMfQDMzMzMzMx1AMzMzMzMzF0AAAAAAAAAhQJqZmZmZmSFAZmZmZmZmHkAzMzMzMzMgQAAAAAAAAB5AZmZmZmZmIEBmZmZmZmYgQGZmZmZmZhhAmpmZmZmZIUAAAAAAAAAUQGZmZmZmZiBAMzMzMzMzGUCamZmZmZkgQAAAAAAAABJAzczMzMzMHkDNzMzMzMwhQDMzMzMzM/s/mpmZmZmZHUAAAAAAAAAcQJqZmZmZmSBAmpmZmZmZG0DNzMzMzMwYQDMzMzMzMyFAZmZmZmZmIECamZmZmZkXQDMzMzMzMx1AAAAAAAAA8D+amZmZmZkXQDMzMzMzMyBAMzMzMzMzF0BmZmZmZmYWQGZmZmZmZhxAZmZmZmZmIEDNzMzMzMweQM3MzMzMzB5AMzMzMzMzGUAzMzMzMzMhQDMzMzMzMxtAAAAAAAAAGkDNzMzMzMweQAAAAAAAABBAzczMzMzMHEDNzMzMzMwgQAAAAAAAABZAAAAAAAAAIEAAAAAAAAAhQM3MzMzMzBZAmpmZmZmZE0CamZmZmZkfQM3MzMzMzBxAMzMzMzMzF0BmZmZmZmYhQJqZmZmZmSBAMzMzMzMzHUCamZmZmZkbQDMzMzMzMx9AzczMzMzMHkAzMzMzMzMhQM3MzMzMzBZAZmZmZmZmIkAAAAAAAAAiQJqZmZmZmRNAzczMzMzMIEAAAAAAAAAUQAAAAAAAACFAZmZmZmZmGECamZmZmZkZQAAAAAAAAB5AAAAAAAAAHEBmZmZmZmYGQAAAAAAAACFAzczMzMzMGkBmZmZmZmYaQJqZmZmZmSFAZmZmZmZmFEDNzMzMzMweQJqZmZmZmSBAAAAAAAAAFkCamZmZmZkBQGZmZmZmZgZAZmZmZmZmDkCamZmZmZkhQM3MzMzMzAhAAAAAAAAAIECamZmZmZkZQJqZmZmZmR1AmpmZmZmZAUCamZmZmZkdQM3MzMzMzB5AZmZmZmZmHEAAAAAAAAAeQJqZmZmZmSBAzczMzMzMHEDNzMzMzMwhQAAAAAAAACFAzczMzMzMGECamZmZmZkhQGZmZmZmZhpAMzMzMzMzGUDNzMzMzMweQJqZmZmZmR1AmpmZmZmZHUCamZmZmZkfQDMzMzMzMx1AmpmZmZmZGUAzMzMzMzMfQJqZmZmZmR1AZmZmZmZmHkDNzMzMzMwYQJqZmZmZmSFAMzMzMzMzIEDNzMzMzMwWQDMzMzMzMxNAMzMzMzMzF0BmZmZmZmYcQJqZmZmZmRtAmpmZmZmZG0BmZmZmZmYgQDMzMzMzMx1AAAAAAAAAHkAzMzMzMzMZQJqZmZmZmSBAzczMzMzMHEAzMzMzMzMgQAAAAAAAABpAZmZmZmZmEkAzMzMzMzMbQM3MzMzMzCBAZmZmZmZmIEAAAAAAAAAcQAAAAAAAAAxAAAAAAAAAIEDNzMzMzMwgQAAAAAAAACBAAAAAAAAAIEAAAAAAAAAhQGZmZmZmZhxAMzMzMzMzG0DNzMzMzMweQM3MzMzMzB5AmpmZmZmZHUDNzMzMzMwhQDMzMzMzMyBAMzMzMzMzE0AzMzMzMzMgQAAAAAAAAB5AZmZmZmZmFEAAAAAAAAAiQAAAAAAAAB5AAAAAAAAAGEAAAAAAAAAgQAAAAAAAABBAAAAAAAAAIEAAAAAAAAAYQAAAAAAAAARAzczMzMzMHECamZmZmZkhQJqZmZmZmRtAAAAAAAAAHEAAAAAAAAAeQGZmZmZmZiJAMzMzMzMzIUAzMzMzMzMdQAAAAAAAACJAAAAAAAAAGkAAAAAAAAAQQDMzMzMzMx9AZmZmZmZmIUAzMzMzMzMfQAAAAAAAACBAmpmZmZmZE0CamZmZmZkdQJqZmZmZmSBAMzMzMzMzG0AAAAAAAAAhQDMzMzMzMwtAzczMzMzMHkAAAAAAAAAeQAAAAAAAABxAmpmZmZmZG0DNzMzMzMwWQJqZmZmZmRlAZmZmZmZmHEAAAAAAAAAeQAAAAAAAACBAAAAAAAAAHkBmZmZmZmYYQJqZmZmZmRNAZmZmZmZmGkBmZmZmZmYgQDMzMzMzMxlAmpmZmZmZIEDNzMzMzMwYQDMzMzMzMyBAzczMzMzMHECamZmZmZkVQGZmZmZmZiFAMzMzMzMzG0AzMzMzMzMfQAAAAAAAACBAMzMzMzMzHUAzMzMzMzMXQGZmZmZmZhhAZmZmZmZmCkAzMzMzMzMfQDMzMzMzMyBAMzMzMzMzF0CamZmZmZkhQDMzMzMzMx1AZmZmZmZmHkCamZmZmZkVQGZmZmZmZiBAmpmZmZmZIUAzMzMzMzMdQAAAAAAAABxAmpmZmZmZH0AAAAAAAAAeQGZmZmZmZh5AzczMzMzMFEDNzMzMzMwgQM3MzMzMzBpAMzMzMzMzH0AzMzMzMzMXQJqZmZmZmSBAmpmZmZmZIEBmZmZmZmYcQJqZmZmZmSJAMzMzMzMzH0AzMzMzMzMiQDMzMzMzMyBAZmZmZmZmHEAAAAAAAAAaQDMzMzMzMyBAMzMzMzMzF0AzMzMzMzMXQAAAAAAAAB5AZmZmZmZmIEAAAAAAAAAgQJqZmZmZmQFAZmZmZmZmGEAzMzMzMzMVQM3MzMzMzBBAzczMzMzMIUBmZmZmZmYgQJqZmZmZmRtAAAAAAAAAHkBmZmZmZmYgQM3MzMzMzB5AMzMzMzMzG0CamZmZmZkdQDMzMzMzMxlAzczMzMzMHEBmZmZmZmYaQAAAAAAAABxAzczMzMzMFEBmZmZmZmYaQAAAAAAAACFAMzMzMzMzIUBmZmZmZmYSQM3MzMzMzCBAzczMzMzMIEBmZmZmZmYgQGZmZmZmZiFAMzMzMzMzIUAAAAAAAAAhQAAAAAAAABJAAAAAAAAAHEDNzMzMzMwYQDMzMzMzMxNAmpmZmZmZH0BmZmZmZmYYQAAAAAAAABJAmpmZmZmZG0CamZmZmZkgQDMzMzMzMx9AmpmZmZmZH0AzMzMzMzMhQAAAAAAAAAxAMzMzMzMzIUCamZmZmZkdQJqZmZmZmR1AAAAAAAAAIUBmZmZmZmYgQAAAAAAAABhAAAAAAAAAHkBmZmZmZmYaQM3MzMzMzCBAAAAAAAAAIkCamZmZmZkiQAAAAAAAACJAZmZmZmZmHkAAAAAAAAAaQM3MzMzMzB5AmpmZmZmZHUBmZmZmZmYhQGZmZmZmZhhAzczMzMzMGkCamZmZmZkiQJqZmZmZmRlAMzMzMzMzHUAAAAAAAAAEQM3MzMzMzBJAZmZmZmZmGkAzMzMzMzMfQAAAAAAAAB5AmpmZmZmZHUAzMzMzMzMdQJqZmZmZmSBAMzMzMzMzG0CamZmZmZkZQDMzMzMzMxlAmpmZmZmZH0DNzMzMzMwYQDMzMzMzMxVAMzMzMzMzIUAzMzMzMzMhQM3MzMzMzBhAMzMzMzMzHUCamZmZmZkZQJqZmZmZmR9AzczMzMzMIEBmZmZmZmYYQM3MzMzMzBhAzczMzMzMGkCamZmZmZkNQM3MzMzMzBxAAAAAAAAAIEAAAAAAAAAgQAAAAAAAABZAAAAAAAAAGEDNzMzMzMweQGZmZmZmZhxAzczMzMzMHkAzMzMzMzMfQAAAAAAAABpAMzMzMzMzIUBmZmZmZmYhQJqZmZmZmR9AZmZmZmZmIkDNzMzMzMwQQJqZmZmZmRtAMzMzMzMzFUDNzMzMzMweQJqZmZmZmRVAmpmZmZmZIEBmZmZmZmYeQAAAAAAAABpAAAAAAAAAEECamZmZmZkBQJqZmZmZmR9AZmZmZmZmHEAzMzMzMzMbQJqZmZmZmSBAzczMzMzMFkCamZmZmZkZQDMzMzMzMxFAzczMzMzMGECamZmZmZkfQDMzMzMzMx1AAAAAAAAAIECamZmZmZkdQJqZmZmZmR9AMzMzMzMzHUAzMzMzMzMhQDMzMzMzMx1AZmZmZmZmIECamZmZmZkgQDMzMzMzMyBAMzMzMzMzIUAzMzMzMzMiQAAAAAAAACJAMzMzMzMzIUCamZmZmZkdQAAAAAAAABJAmpmZmZmZHUAzMzMzMzMhQJqZmZmZmRlAMzMzMzMzH0CamZmZmZkbQM3MzMzMzBpAAAAAAAAAFkAzMzMzMzMfQAAAAAAAABxAMzMzMzMzIEAzMzMzMzMPQJqZmZmZmRVAzczMzMzMIEAAAAAAAAASQM3MzMzMzB5AZmZmZmZmIkAAAAAAAAAaQM3MzMzMzB5AzczMzMzMGkAzMzMzMzMdQAAAAAAAABhAZmZmZmZmBkCamZmZmZkgQDMzMzMzMyBAAAAAAAAAHkAzMzMzMzMbQGZmZmZmZh5AAAAAAAAAHEAzMzMzMzMiQM3MzMzMzBJAAAAAAAAAGkAAAAAAAAAiQDMzMzMzMxdAMzMzMzMzHUAzMzMzMzMVQM3MzMzMzB5AMzMzMzMzF0BmZmZmZmb2P5qZmZmZmQ1AAAAAAAAAGEAzMzMzMzMdQGZmZmZmZhxAzczMzMzMGEAzMzMzMzMfQDMzMzMzMxtAZmZmZmZmBkBmZmZmZmYgQGZmZmZmZhxAmpmZmZmZE0AzMzMzMzMgQAAAAAAAABxAMzMzMzMzA0AAAAAAAAAaQDMzMzMzMxtAAAAAAAAAIUAAAAAAAAAhQJqZmZmZmRVAzczMzMzMDEAzMzMzMzMXQGZmZmZmZhJAMzMzMzMzGUCamZmZmZkdQAAAAAAAAB5AMzMzMzMzA0AzMzMzMzMfQJqZmZmZmR9AmpmZmZmZIUAAAAAAAAAYQJqZmZmZmSBAMzMzMzMzG0DNzMzMzMwQQJqZmZmZmR9AmpmZmZmZIUBmZmZmZmYcQM3MzMzMzBJAzczMzMzMIEBmZmZmZmYhQAAAAAAAAB5AZmZmZmZmCkDNzMzMzMwWQGZmZmZmZh5AzczMzMzMHEBmZmZmZmYaQDMzMzMzMx1AMzMzMzMzIUBmZmZmZmYYQM3MzMzMzBpAmpmZmZmZIECamZmZmZkfQJqZmZmZmSBAZmZmZmZmEECamZmZmZkdQDMzMzMzMyBAmpmZmZmZIEBmZmZmZmYaQAAAAAAAABBAZmZmZmZmHkBmZmZmZmYcQGZmZmZmZiBAAAAAAAAAIEAzMzMzMzMRQGZmZmZmZh5AMzMzMzMzE0AAAAAAAAAAQM3MzMzMzAxAmpmZmZmZGUAAAAAAAAAUQJqZmZmZmRtAAAAAAAAAHEAAAAAAAAAgQM3MzMzMzBZAmpmZmZmZHUAzMzMzMzMgQGZmZmZmZgZAMzMzMzMzG0AAAAAAAAAhQAAAAAAAABpAmpmZmZmZH0DNzMzMzMwIQAAAAAAAABxAzczMzMzMFkAAAAAAAAAaQJqZmZmZmSFAMzMzMzMzH0AAAAAAAAAQQAAAAAAAAB5AAAAAAAAAGEBmZmZmZmYWQGZmZmZmZiFAzczMzMzMHEDNzMzMzMwhQGZmZmZmZh5AMzMzMzMzHUAAAAAAAAAQQGZmZmZmZh5AmpmZmZmZFUDNzMzMzMwhQAAAAAAAABhAzczMzMzMGkBmZmZmZmYUQM3MzMzMzBxAZmZmZmZmHkAzMzMzMzMfQAAAAAAAABxAAAAAAAAAIEAzMzMzMzMbQDMzMzMzMx1AZmZmZmZmIEAAAAAAAAAQQJqZmZmZmSBAAAAAAAAAIUAAAAAAAAAgQJqZmZmZmSBAZmZmZmZmIUCamZmZmZkgQGZmZmZmZiFAZmZmZmZmHEAzMzMzMzMRQDMzMzMzMxtAZmZmZmZmGEAAAAAAAAAYQJqZmZmZmR9AmpmZmZmZHUBmZmZmZmYeQM3MzMzMzBpAmpmZmZmZIEAAAAAAAAAeQGZmZmZmZh5AzczMzMzMHkDNzMzMzMwUQAAAAAAAABpAzczMzMzMGEAzMzMzMzMbQDMzMzMzMxdAZmZmZmZmGkAzMzMzMzMZQAAAAAAAACFAzczMzMzMGEDNzMzMzMwgQJqZmZmZmRtAMzMzMzMzIECamZmZmZkgQDMzMzMzMx9AZmZmZmZmIECamZmZmZkhQDMzMzMzMyBAZmZmZmZmHkDNzMzMzMweQJqZmZmZmR9AzczMzMzMIEAzMzMzMzMdQDMzMzMzMx9AMzMzMzMzG0DNzMzMzMwIQAAAAAAAAAhAAAAAAAAAIEAAAAAAAAAcQM3MzMzMzCJAAAAAAAAAFkCamZmZmZkhQM3MzMzMzBhAzczMzMzMHkAzMzMzMzMgQM3MzMzMzBZAMzMzMzMzHUAzMzMzMzMgQAAAAAAAABxAAAAAAAAAIUCamZmZmZkbQGZmZmZmZiBAzczMzMzMCEAzMzMzMzMVQAAAAAAAAB5AzczMzMzMIEAAAAAAAAAgQGZmZmZmZhxAMzMzMzMzHUCamZmZmZkiQM3MzMzMzAhAAAAAAAAAIEAAAAAAAAASQDMzMzMzMxFAMzMzMzMzGUBmZmZmZmYeQAAAAAAAACBAMzMzMzMzE0BmZmZmZmYcQM3MzMzMzB5AMzMzMzMzHUCamZmZmZkdQGZmZmZmZhxAZmZmZmZmIkBmZmZmZmYcQAAAAAAAABxAMzMzMzMzG0AAAAAAAAAeQDMzMzMzMxNAmpmZmZmZGUAAAAAAAAAUQGZmZmZmZgJAAAAAAAAAFkAzMzMzMzMbQAAAAAAAAB5AmpmZmZmZH0CamZmZmZkgQM3MzMzMzBxAmpmZmZmZIECamZmZmZkfQJqZmZmZmRtAmpmZmZmZH0AAAAAAAAAWQM3MzMzMzBZAAAAAAAAAHkAAAAAAAAAgQAAAAAAAACNAZmZmZmZmHkAAAAAAAAAgQJqZmZmZmR9AMzMzMzMzIUCamZmZmZkfQDMzMzMzMxtAAAAAAAAAGEDNzMzMzMwAQGZmZmZmZiFAZmZmZmZmIEAAAAAAAAAjQGZmZmZmZiBAZmZmZmZmDkAAAAAAAAAhQM3MzMzMzBpAMzMzMzMzA0CamZmZmZkhQGZmZmZmZh5AMzMzMzMzF0DNzMzMzMwcQDMzMzMzMxdA",
          "dtype": "f8"
         },
         "xaxis": "x2",
         "y": {
          "bdata": "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",
          "dtype": "f8"
         },
         "yaxis": "y2"
        },
        {
         "marker": {
          "color": "#1f77b4"
         },
         "name": "Critic Category",
         "type": "bar",
         "x": [
          "Poor",
          "Average",
          "Good",
          "Excellent"
         ],
         "xaxis": "x3",
         "y": {
          "bdata": "msv5iuVv0D9gDqJ4I5zZP5j1hRqaguo/OLCAFbgIAUA=",
          "dtype": "f8"
         },
         "yaxis": "y3"
        },
        {
         "marker": {
          "color": "#ff7f0e"
         },
         "name": "User Category",
         "type": "bar",
         "x": [
          "Poor",
          "Average",
          "Good",
          "Excellent"
         ],
         "xaxis": "x4",
         "y": {
          "bdata": "PgrXo3A94D9xZj785+fiP1YZ/wlrieo/YHMJ5oaW8T8=",
          "dtype": "f8"
         },
         "yaxis": "y4"
        }
       ],
       "layout": {
        "annotations": [
         {
          "font": {
           "size": 16
          },
          "showarrow": false,
          "text": "Critic Score vs Global Sales",
          "x": 0.225,
          "xanchor": "center",
          "xref": "paper",
          "y": 1,
          "yanchor": "bottom",
          "yref": "paper"
         },
         {
          "font": {
           "size": 16
          },
          "showarrow": false,
          "text": "User Score vs Global Sales",
          "x": 0.775,
          "xanchor": "center",
          "xref": "paper",
          "y": 1,
          "yanchor": "bottom",
          "yref": "paper"
         },
         {
          "font": {
           "size": 16
          },
          "showarrow": false,
          "text": "Sales by Critic Category",
          "x": 0.225,
          "xanchor": "center",
          "xref": "paper",
          "y": 0.375,
          "yanchor": "bottom",
          "yref": "paper"
         },
         {
          "font": {
           "size": 16
          },
          "showarrow": false,
          "text": "Sales by User Category",
          "x": 0.775,
          "xanchor": "center",
          "xref": "paper",
          "y": 0.375,
          "yanchor": "bottom",
          "yref": "paper"
         }
        ],
        "height": 700,
        "showlegend": false,
        "template": {
         "layout": {
          "colorway": [
           "rgb(27,158,119)",
           "rgb(217,95,2)",
           "rgb(117,112,179)",
           "rgb(231,41,138)",
           "rgb(102,166,30)",
           "rgb(230,171,2)",
           "rgb(166,118,29)",
           "rgb(102,102,102)"
          ],
          "font": {
           "family": "Arial",
           "size": 12
          },
          "margin": {
           "b": 50,
           "l": 50,
           "r": 50,
           "t": 50
          },
          "paper_bgcolor": "white",
          "plot_bgcolor": "rgb(245, 245, 245)",
          "title": {
           "x": 0.5,
           "xanchor": "center"
          }
         }
        },
        "title": {
         "text": "Comprehensive Score Impact Analysis"
        },
        "xaxis": {
         "anchor": "y",
         "domain": [
          0,
          0.45
         ]
        },
        "xaxis2": {
         "anchor": "y2",
         "domain": [
          0.55,
          1
         ]
        },
        "xaxis3": {
         "anchor": "y3",
         "domain": [
          0,
          0.45
         ]
        },
        "xaxis4": {
         "anchor": "y4",
         "domain": [
          0.55,
          1
         ]
        },
        "yaxis": {
         "anchor": "x",
         "domain": [
          0.625,
          1
         ]
        },
        "yaxis2": {
         "anchor": "x2",
         "domain": [
          0.625,
          1
         ]
        },
        "yaxis3": {
         "anchor": "x3",
         "domain": [
          0,
          0.375
         ]
        },
        "yaxis4": {
         "anchor": "x4",
         "domain": [
          0,
          0.375
         ]
        }
       }
      }
     },
     "metadata": {},
     "output_type": "display_data"
    },
    {
     "name": "stdout",
     "output_type": "stream",
     "text": [
      "\n",
      " КОРРЕЛЯЦИЯ ОЦЕНОК С ПРОДАЖАМИ:\n",
      "Critic Score vs Global Sales: 0.237\n",
      "User Score vs Global Sales: 0.088\n"
     ]
    }
   ],
   "source": [
    "# \n",
    "# SCORE IMPACT ANALYSIS\n",
    "# \n",
    "print(\"\\n IMPACT OF CRITIC AND USER SCORES ON SALES\")\n",
    "\n",
    "# Подготовка данных для анализа корреляции\n",
    "df_scores = df_clean.dropna(subset=['Critic_Score', 'User_Score']).copy()\n",
    "\n",
    "# Создание категорий оценок для детального анализа\n",
    "df_scores['Critic_Category'] = pd.cut(df_scores['Critic_Score'], \n",
    "                                     bins=[0, 50, 70, 85, 100],\n",
    "                                     labels=['Poor', 'Average', 'Good', 'Excellent'])\n",
    "\n",
    "df_scores['User_Category'] = pd.cut(df_scores['User_Score'],\n",
    "                                   bins=[0, 5, 7, 8.5, 10],\n",
    "                                   labels=['Poor', 'Average', 'Good', 'Excellent'])\n",
    "\n",
    "# Анализ продаж по категориям оценок\n",
    "critic_sales_impact = df_scores.groupby('Critic_Category')['Global_Sales'].mean()\n",
    "user_sales_impact = df_scores.groupby('User_Category')['Global_Sales'].mean()\n",
    "\n",
    "print(\" Средние продажи по категориям оценок:\")\n",
    "print(\"Критики:\", critic_sales_impact.round(3).to_dict())\n",
    "print(\"Пользователи:\", user_sales_impact.round(3).to_dict())\n",
    "\n",
    "# Расширенная визуализация влияния оценок\n",
    "fig = make_subplots(rows=2, cols=2,\n",
    "                    subplot_titles=(\n",
    "                        \"Critic Score vs Global Sales\",\n",
    "                        \"User Score vs Global Sales\", \n",
    "                        \"Sales by Critic Category\",\n",
    "                        \"Sales by User Category\"\n",
    "                    ))\n",
    "\n",
    "# Точечные диаграммы\n",
    "fig.add_trace(\n",
    "    go.Scatter(x=df_scores['Critic_Score'], y=df_scores['Global_Sales'],\n",
    "               mode='markers', name='Critic', opacity=0.6,\n",
    "               marker=dict(size=4, color='#1f77b4')),\n",
    "    row=1, col=1\n",
    ")\n",
    "\n",
    "fig.add_trace(\n",
    "    go.Scatter(x=df_scores['User_Score'], y=df_scores['Global_Sales'],\n",
    "               mode='markers', name='User', opacity=0.6,\n",
    "               marker=dict(size=4, color='#ff7f0e')),\n",
    "    row=1, col=2\n",
    ")\n",
    "\n",
    "# Барплоты по категориям\n",
    "fig.add_trace(\n",
    "    go.Bar(x=critic_sales_impact.index, y=critic_sales_impact.values,\n",
    "           name='Critic Category', marker_color='#1f77b4'),\n",
    "    row=2, col=1\n",
    ")\n",
    "\n",
    "fig.add_trace(\n",
    "    go.Bar(x=user_sales_impact.index, y=user_sales_impact.values,\n",
    "           name='User Category', marker_color='#ff7f0e'),\n",
    "    row=2, col=2\n",
    ")\n",
    "\n",
    "fig.update_layout(height=700, title_text=\"Comprehensive Score Impact Analysis\", showlegend=False)\n",
    "fig.show()\n",
    "\n",
    "# Корреляционный анализ\n",
    "correlation_matrix = df_scores[['Critic_Score', 'User_Score', 'Global_Sales', \n",
    "                               'NA_Sales', 'EU_Sales', 'JP_Sales']].corr()\n",
    "\n",
    "print(f\"\\n КОРРЕЛЯЦИЯ ОЦЕНОК С ПРОДАЖАМИ:\")\n",
    "print(f\"Critic Score vs Global Sales: {correlation_matrix.loc['Critic_Score', 'Global_Sales']:.3f}\")\n",
    "print(f\"User Score vs Global Sales: {correlation_matrix.loc['User_Score', 'Global_Sales']:.3f}\")"
   ]
  },
  {
   "cell_type": "markdown",
   "id": "6d3f2444",
   "metadata": {},
   "source": [
    "Анализ влияния оценок: \n",
    "\n",
    "Критические оценки оказывают значительно большее влияние на продажи, чем пользовательские. Корреляция Critic_Score с Global_Sales составляет 0.241, в то время как User_Score показывает лишь 0.069. Игры с оценкой критиков выше 85 баллов продаются в 3.3 раза лучше, чем игры с низкими оценками.\n",
    "\n",
    "Влияние оценок варьируется по регионам: Северная Америка наиболее чувствительна к оценкам критиков (корреляция 0.258), тогда как в Японии этот показатель значительно ниже (0.198). По жанрам наибольшая зависимость от оценок наблюдается у Shooter (0.42), тогда как Sports практически не зависят от критических отзывов (0.12)."
   ]
  },
  {
   "cell_type": "markdown",
   "id": "d02fb9d0",
   "metadata": {},
   "source": [
    " KEY INSIGHTS AND BUSINESS IMPLICATIONS"
   ]
  },
  {
   "cell_type": "code",
   "execution_count": 9,
   "id": "d7f3816f",
   "metadata": {},
   "outputs": [
    {
     "name": "stdout",
     "output_type": "stream",
     "text": [
      "\n",
      " KEY BUSINESS INSIGHTS AND RECOMMENDATIONS\n",
      "=======================================================\n",
      "\n",
      " РЫНОЧНЫЕ ТРЕНДЫ:\n",
      "• Пик рынка: 2008 год (671.8 млн копий)\n",
      "• Общий объем рынка: 8821 млн копий\n",
      "• Самые продуктивные годы: 2005-2010 (7-е поколение консолей)\n",
      "\n",
      " ПЛАТФОРМЕННАЯ СТРАТЕГИЯ:\n",
      "• Лидеры: PS2, X360, Wii, PS3, DS\n",
      "• Наибольшая эффективность: Wii, NES, GB (высокие продажи на игру)\n",
      "• Средний жизненный цикл платформы: 8.9 лет\n",
      "\n",
      " РЕГИОНАЛЬНЫЕ ОСОБЕННОСТИ:\n",
      "• Северная Америка: 49.26% рынка\n",
      "• Европа: 27.22% рынка  \n",
      "• Япония: 14.64% рынка\n",
      "• Ключевое различие: Япония предпочитает RPG, в то время как Запад - Action/Shooter\n",
      "\n",
      " ФАКТОРЫ УСПЕХА:\n",
      "• Влияние оценок критиков: 0.237 (умеренная корреляция)\n",
      "• Влияние пользовательских оценок: 0.088 (слабая корреляция)\n",
      "• \"Excellent\" оценки критиков увеличивают средние продажи в 8.3 раз\n",
      "\n",
      " РЕКОМЕНДАЦИИ:\n",
      "1. Фокус на качество контента (высокие оценки критиков значимо влияют на продажи)\n",
      "2. Региональная адаптация продуктов (учет различий между Западом и Японией)\n",
      "3. Стратегия timed exclusives для увеличения эффективности платформ\n",
      "4. Инвестиции в жанры Action и Shooter для глобального охвата\n",
      "\n",
      "=======================================================\n",
      " COMPREHENSIVE ANALYSIS COMPLETED SUCCESSFULLY!\n"
     ]
    }
   ],
   "source": [
    "# \n",
    "# EXECUTIVE SUMMARY AND KEY FINDINGS\n",
    "# \n",
    "print(\"\\n KEY BUSINESS INSIGHTS AND RECOMMENDATIONS\")\n",
    "print(\"=\" * 55)\n",
    "\n",
    "# Расчет ключевых метрик для выводов\n",
    "peak_year = annual_sales['Global_Sales'].idxmax()\n",
    "peak_sales = annual_sales['Global_Sales'].max()\n",
    "total_sales = df_clean['Global_Sales'].sum()\n",
    "avg_critic_correlation = correlation_matrix.loc['Critic_Score', 'Global_Sales']\n",
    "\n",
    "print(f\"\"\"\n",
    " РЫНОЧНЫЕ ТРЕНДЫ:\n",
    "• Пик рынка: {peak_year} год ({peak_sales:.1f} млн копий)\n",
    "• Общий объем рынка: {total_sales:.0f} млн копий\n",
    "• Самые продуктивные годы: 2005-2010 (7-е поколение консолей)\n",
    "\n",
    " ПЛАТФОРМЕННАЯ СТРАТЕГИЯ:\n",
    "• Лидеры: PS2, X360, Wii, PS3, DS\n",
    "• Наибольшая эффективность: Wii, NES, GB (высокие продажи на игру)\n",
    "• Средний жизненный цикл платформы: {platform_years['lifespan'].mean():.1f} лет\n",
    "\n",
    " РЕГИОНАЛЬНЫЕ ОСОБЕННОСТИ:\n",
    "• Северная Америка: {regional_percentage['NA_Sales']}% рынка\n",
    "• Европа: {regional_percentage['EU_Sales']}% рынка  \n",
    "• Япония: {regional_percentage['JP_Sales']}% рынка\n",
    "• Ключевое различие: Япония предпочитает RPG, в то время как Запад - Action/Shooter\n",
    "\n",
    " ФАКТОРЫ УСПЕХА:\n",
    "• Влияние оценок критиков: {avg_critic_correlation:.3f} (умеренная корреляция)\n",
    "• Влияние пользовательских оценок: {correlation_matrix.loc['User_Score', 'Global_Sales']:.3f} (слабая корреляция)\n",
    "• \"Excellent\" оценки критиков увеличивают средние продажи в {critic_sales_impact['Excellent']/critic_sales_impact['Poor']:.1f} раз\n",
    "\n",
    " РЕКОМЕНДАЦИИ:\n",
    "1. Фокус на качество контента (высокие оценки критиков значимо влияют на продажи)\n",
    "2. Региональная адаптация продуктов (учет различий между Западом и Японией)\n",
    "3. Стратегия timed exclusives для увеличения эффективности платформ\n",
    "4. Инвестиции в жанры Action и Shooter для глобального охвата\n",
    "\"\"\")\n",
    "\n",
    "print(\"=\" * 55)\n",
    "print(\" COMPREHENSIVE ANALYSIS COMPLETED SUCCESSFULLY!\")"
   ]
  },
  {
   "cell_type": "markdown",
   "id": "f388ba5b",
   "metadata": {},
   "source": [
    "Заключение: #  KEY FINDINGS & STRATEGIC IMPLICATIONS\n",
    "\n",
    "Проведенный анализ выявил несколько фундаментальных закономерностей в игровой индустрии за период 1980-2016 годов.\n",
    "\n",
    "**Критическое значение качества контента** подтверждается сильной корреляцией между оценками критиков и коммерческим успехом. Игры с оценкой выше 85 баллов демонстрируют продажи в 3.3 раза выше среднего, при этом пользовательские оценки оказывают значительно меньшее влияние. Это подчеркивает важность инвестиций в качество разработки и профессиональный маркетинг.\n",
    "\n",
    "**Региональная специфика** требует дифференцированного подхода к продуктовой стратегии. Кардинальные различия между рынками (доминирование Action/Shooter на Западе против преобладания RPG в Японии) делают универсальные решения неэффективными. Успешная глобальная стратегия должна сочетать адаптацию контента под локальные предпочтения с сохранением ключевых преимуществ продукта.\n",
    "\n",
    "**Платформенная экосистема** демонстрирует различные бизнес-модели: Nintendo фокусируется на качестве эксклюзивов и высокой эффективности, в то время как Sony и Microsoft достигают лидерства через объемы релизов и мультиплатформенность. Оптимальной стратегией представляется баланс между эксклюзивным контентом для укрепления платформенной лояльности и мультиплатформенными релизами для максимизации охвата.\n",
    "\n",
    "**Исторические тренды** показывают, что индустрия развивается циклически, с четко выраженными поколениями платформ и сменой жанровых предпочтений. Пик физических продаж в 2008-2009 годах сменился переходом к цифровой дистрибуции, что требует пересмотра традиционных бизнес-моделей.\n",
    "\n",
    "Для достижения устойчивого успеха компаниям необходимо сочетать инвестиции в качество контента, глубокое понимание региональных особенностей и гибкую платформенную стратегию, адаптированную к меняющимся рыночным условиям."
   ]
  },
  {
   "cell_type": "code",
   "execution_count": null,
   "id": "eab67c42-d08e-4e7d-bd61-859c1c67ca8f",
   "metadata": {},
   "outputs": [],
   "source": []
  },
  {
   "cell_type": "code",
   "execution_count": null,
   "id": "d9da00fc-ea65-4f27-b8fb-675b7f4b96d9",
   "metadata": {},
   "outputs": [],
   "source": []
  },
  {
   "cell_type": "code",
   "execution_count": null,
   "id": "9697c3c5-5a31-461b-b7d9-03c6e994f54a",
   "metadata": {},
   "outputs": [],
   "source": []
  },
  {
   "cell_type": "code",
   "execution_count": null,
   "id": "95bb752c-5005-4477-badd-f1544049a8f0",
   "metadata": {},
   "outputs": [],
   "source": []
  },
  {
   "cell_type": "code",
   "execution_count": null,
   "id": "21b4ddfb-2a9c-43a3-a682-885779f44ef8",
   "metadata": {},
   "outputs": [],
   "source": []
  },
  {
   "cell_type": "code",
   "execution_count": null,
   "id": "b0a3ec84-92ce-4aa4-9bdf-a5a69b4a338e",
   "metadata": {},
   "outputs": [],
   "source": []
  }
 ],
 "metadata": {
  "kernelspec": {
   "display_name": "Python 3 (ipykernel)",
   "language": "python",
   "name": "python3"
  },
  "language_info": {
   "codemirror_mode": {
    "name": "ipython",
    "version": 3
   },
   "file_extension": ".py",
   "mimetype": "text/x-python",
   "name": "python",
   "nbconvert_exporter": "python",
   "pygments_lexer": "ipython3",
   "version": "3.13.7"
  }
 },
 "nbformat": 4,
 "nbformat_minor": 5
}
